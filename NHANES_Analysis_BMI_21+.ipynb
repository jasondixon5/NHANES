{
 "cells": [
  {
   "cell_type": "markdown",
   "metadata": {},
   "source": [
    "# NHANES Analysis\n",
    "## Body Mass Index (BMI) Among Adults (21+ Years)"
   ]
  },
  {
   "cell_type": "markdown",
   "metadata": {},
   "source": [
    "This analysis seeks to determine if BMI has significantly increased in the past decade and a half. \n",
    "\n",
    "Body Mass Index (BMI) is a person’s weight in kilograms divided by the square of height in meters. As a ratio of weight to height, it may be a more reliable indicator than weight alone of body fatness and, indirectly, of health problems that have at times been associated with excess weight. \n",
    "\n",
    "As a potential health indicator, it may be informative to understand recent trends of BMI and specifically whether that measure has significantly increased. There are regular articles in the news with scary headlines about Americans' increasing weight and implications about what that means for public health and the healthcare system. But what increases do the data actually show?\n",
    "\n",
    "Analysis will be restricted to adults due to recommendations by the CDC to interpret BMI for children and teens separately from adults.\n",
    "\n",
    "Methodology Summary:\n",
    "\n",
    "To compare two times periods for a difference, data from the 2-year cycle 1999-2000 and from the 2-year cycle 2015-2016 were selected (the latter cycle being the most recent complete data available).\n",
    "\n",
    "The variable of interest selected was **BMXBMI** (Body Mass Index (kg/m\\*\\*2) for males and females 2 YEARS - 150 YEARS).\n",
    "\n",
    "For filtering the data for only adults, the variable **RIDAGEEX** (age in months at time of examination) was selected, since the examination data set is the one that contains the variable of interest.\n",
    "\n",
    "Sources and Background:\n",
    "\n",
    "General BMI Info:\n",
    "https://www.cdc.gov/healthyweight/assessing/bmi/)\n",
    "\n",
    "BMI in Children and Teens vs. Adults:\n",
    "https://www.cdc.gov/healthyweight/assessing/bmi/childrens_bmi/about_childrens_bmi.html. \n",
    "(In particular, see the section \"Is BMI interpreted the same way for children and teens as it is for adults?\", URL https://www.cdc.gov/healthyweight/assessing/bmi/childrens_bmi/about_childrens_bmi.html#interpreted.)\n",
    "\n",
    "Age Cutoff of 21 Years: \n",
    "\"Teen\" in \"children and teens\" was not defined directly in the reference materials above. However, growth charts for children and teens are provided here https://www.cdc.gov/growthcharts/clinical_charts.htm for ages up to and including 20 years of age; this supports definition of \"teens\" as 20 and below."
   ]
  },
  {
   "cell_type": "code",
   "execution_count": 1,
   "metadata": {},
   "outputs": [],
   "source": [
    "import importlib\n",
    "import math\n",
    "import matplotlib.pyplot as plt\n",
    "import numpy as np\n",
    "import pandas as pd\n",
    "from scipy import stats\n",
    "import seaborn as sns"
   ]
  },
  {
   "cell_type": "code",
   "execution_count": 2,
   "metadata": {},
   "outputs": [
    {
     "data": {
      "text/plain": [
       "(9965, 144)"
      ]
     },
     "execution_count": 2,
     "metadata": {},
     "output_type": "execute_result"
    }
   ],
   "source": [
    "# Import demographic data (e.g., age, gender)\n",
    "# for each participant\n",
    "filename = \"1999-2000/DEMO.XPT\"\n",
    "demo_2000 = pd.read_sas(filename)\n",
    "demo_2000.shape"
   ]
  },
  {
   "cell_type": "code",
   "execution_count": 6,
   "metadata": {},
   "outputs": [
    {
     "data": {
      "text/plain": [
       "True"
      ]
     },
     "execution_count": 6,
     "metadata": {},
     "output_type": "execute_result"
    }
   ],
   "source": [
    "# Participant identified in SEQN column\n",
    "# Confirm dataset has only one entry per participant\n",
    "# Necessary for later combining demographic data and body measures data into one df\n",
    "demo_2000[\"SEQN\"].is_unique"
   ]
  },
  {
   "cell_type": "code",
   "execution_count": 7,
   "metadata": {},
   "outputs": [
    {
     "data": {
      "text/plain": [
       "(9282, 38)"
      ]
     },
     "execution_count": 7,
     "metadata": {},
     "output_type": "execute_result"
    }
   ],
   "source": [
    "# Import body measurement data\n",
    "filename = \"1999-2000/BMX.XPT\"\n",
    "bmx_2000 = pd.read_sas(filename)\n",
    "bmx_2000.shape"
   ]
  },
  {
   "cell_type": "code",
   "execution_count": 8,
   "metadata": {},
   "outputs": [
    {
     "data": {
      "text/plain": [
       "True"
      ]
     },
     "execution_count": 8,
     "metadata": {},
     "output_type": "execute_result"
    }
   ],
   "source": [
    "# Participant identified in SEQN column\n",
    "# Confirm dataset has only one entry per participant\n",
    "bmx_2000[\"SEQN\"].is_unique"
   ]
  },
  {
   "cell_type": "code",
   "execution_count": 9,
   "metadata": {},
   "outputs": [
    {
     "data": {
      "text/plain": [
       "(9965, 181)"
      ]
     },
     "execution_count": 9,
     "metadata": {},
     "output_type": "execute_result"
    }
   ],
   "source": [
    "# Add bmx info to demo info\n",
    "combined_2000 = demo_2000.merge(bmx_2000, how=\"left\", on=\"SEQN\")\n",
    "combined_2000.shape"
   ]
  },
  {
   "cell_type": "code",
   "execution_count": 19,
   "metadata": {},
   "outputs": [
    {
     "data": {
      "text/plain": [
       "True"
      ]
     },
     "execution_count": 19,
     "metadata": {},
     "output_type": "execute_result"
    }
   ],
   "source": [
    "# Verify new column count meets expectations\n",
    "# Should be number of cols in each dataframe minus 1 for shared col (SEQN)\n",
    "(demo_2000.shape[1] + bmx_2000.shape[1] - 1) == (144 + 38 - 1)"
   ]
  },
  {
   "cell_type": "code",
   "execution_count": 11,
   "metadata": {},
   "outputs": [],
   "source": [
    "# Repeat steps with data from survey year 2015-2016"
   ]
  },
  {
   "cell_type": "code",
   "execution_count": 12,
   "metadata": {},
   "outputs": [
    {
     "data": {
      "text/plain": [
       "(9971, 47)"
      ]
     },
     "execution_count": 12,
     "metadata": {},
     "output_type": "execute_result"
    }
   ],
   "source": [
    "filename = \"2015-2016/DEMO_I.XPT\"\n",
    "demo_2016 = pd.read_sas(filename)\n",
    "demo_2016.shape"
   ]
  },
  {
   "cell_type": "code",
   "execution_count": 13,
   "metadata": {},
   "outputs": [
    {
     "data": {
      "text/plain": [
       "True"
      ]
     },
     "execution_count": 13,
     "metadata": {},
     "output_type": "execute_result"
    }
   ],
   "source": [
    "demo_2016[\"SEQN\"].is_unique"
   ]
  },
  {
   "cell_type": "code",
   "execution_count": 14,
   "metadata": {},
   "outputs": [
    {
     "data": {
      "text/plain": [
       "(9544, 26)"
      ]
     },
     "execution_count": 14,
     "metadata": {},
     "output_type": "execute_result"
    }
   ],
   "source": [
    "filename = \"2015-2016/BMX_I.XPT\"\n",
    "bmx_2016 = pd.read_sas(filename)\n",
    "bmx_2016.shape"
   ]
  },
  {
   "cell_type": "code",
   "execution_count": 15,
   "metadata": {},
   "outputs": [
    {
     "data": {
      "text/plain": [
       "True"
      ]
     },
     "execution_count": 15,
     "metadata": {},
     "output_type": "execute_result"
    }
   ],
   "source": [
    "bmx_2016[\"SEQN\"].is_unique"
   ]
  },
  {
   "cell_type": "code",
   "execution_count": 16,
   "metadata": {},
   "outputs": [
    {
     "data": {
      "text/plain": [
       "(9971, 72)"
      ]
     },
     "execution_count": 16,
     "metadata": {},
     "output_type": "execute_result"
    }
   ],
   "source": [
    "combined_2016 = demo_2016.merge(bmx_2016, how=\"left\", on=\"SEQN\")\n",
    "combined_2016.shape"
   ]
  },
  {
   "cell_type": "code",
   "execution_count": 17,
   "metadata": {},
   "outputs": [
    {
     "data": {
      "text/plain": [
       "True"
      ]
     },
     "execution_count": 17,
     "metadata": {},
     "output_type": "execute_result"
    }
   ],
   "source": [
    "(demo_2016.shape[1] + bmx_2016.shape[1] - 1) == (47 + 26 - 1)"
   ]
  },
  {
   "cell_type": "code",
   "execution_count": 22,
   "metadata": {},
   "outputs": [],
   "source": [
    "# Combine 2000 and 2016 data sets"
   ]
  },
  {
   "cell_type": "code",
   "execution_count": 23,
   "metadata": {},
   "outputs": [],
   "source": [
    "# Add column to each data set so we can later\n",
    "# identify the year\n",
    "new_col = \"Survey Year\"\n",
    "combined_2000[new_col] = \"1999-2000\"\n",
    "combined_2016[new_col] = \"2015-2016\""
   ]
  },
  {
   "cell_type": "code",
   "execution_count": 24,
   "metadata": {},
   "outputs": [
    {
     "name": "stdout",
     "output_type": "stream",
     "text": [
      "Shape of combined data: (19936, 212)\n",
      "\n",
      "\n",
      "Count of obs by survey year: Survey Year\n",
      "1999-2000    9965\n",
      "2015-2016    9971\n",
      "dtype: int64\n"
     ]
    }
   ],
   "source": [
    "# Combine 2000 and 2016 dfs\n",
    "\n",
    "# Note: In Pandas 0.23, must explicitly pass a sorting \n",
    "# argument in order to avoid a warning (default = None)\n",
    "# Pass True to sort columns by name\n",
    "data = pd.concat([combined_2000, combined_2016], sort=True)\n",
    "\n",
    "# Print shapes and counts of new combined df\n",
    "print(\"Shape of combined data: {}\".format(data.shape))\n",
    "print(\"\\n\")\n",
    "print(\"Count of obs by survey year: {}\".format(data.groupby(\"Survey Year\").size()))"
   ]
  },
  {
   "cell_type": "code",
   "execution_count": 109,
   "metadata": {},
   "outputs": [
    {
     "data": {
      "text/plain": [
       "Survey Year\n",
       "1999-2000    9141\n",
       "2015-2016       0\n",
       "Name: RIDAGEEX, dtype: int64"
      ]
     },
     "execution_count": 109,
     "metadata": {},
     "output_type": "execute_result"
    }
   ],
   "source": [
    "# Examine proposed column for age \n",
    "\n",
    "df = data\n",
    "age_months_column = \"RIDAGEEX\"\n",
    "survey_year_column = \"Survey Year\"\n",
    "\n",
    "df.groupby(survey_year_column).count()[age_months_column]"
   ]
  },
  {
   "cell_type": "code",
   "execution_count": 25,
   "metadata": {},
   "outputs": [],
   "source": [
    "# An examination of the codebook for survey year 2015-2016 shows that months variable is \n",
    "# now only used for subjects 24 months and under\n",
    "# A new variable, RIDAGEYR, is available and represents age in years at time of screening\n",
    "\n",
    "# This will need to be taken into account when converting months to years for 1999-2000 data"
   ]
  },
  {
   "cell_type": "code",
   "execution_count": 26,
   "metadata": {},
   "outputs": [],
   "source": [
    "def assign_age_in_years(row):\n",
    "    \n",
    "    \"\"\"\n",
    "    Function to assign age in years. Different\n",
    "    approaches are necessary for different survey years.\n",
    "    Age was listed in months for all subjects for earlier data,\n",
    "    but then an age in years variable was added.\n",
    "    \"\"\"\n",
    "    from numpy import nan\n",
    "    \n",
    "    age_years_col = \"RIDAGEYR\"\n",
    "    age_months_col = \"RIDAGEEX\"\n",
    "    \n",
    "    try:\n",
    "        age_years = row[age_years_col]\n",
    "    except KeyError:\n",
    "        \n",
    "        try:\n",
    "            age_years = int(row[age_months_col] / 12)\n",
    "        except KeyError:\n",
    "            age_years = nan\n",
    "        # if value is nan will return value error when trying to\n",
    "        # convert to int\n",
    "        except ValueError:\n",
    "            age_years = row[age_months_col]\n",
    "            \n",
    "    return age_years"
   ]
  },
  {
   "cell_type": "code",
   "execution_count": 27,
   "metadata": {},
   "outputs": [],
   "source": [
    "# Add a column that converts age in months to age in years\n",
    "df = data\n",
    "new_age_years_column = \"RIDAGEEX_years\"\n",
    "\n",
    "df[new_age_years_column] = df.apply(assign_age_in_years, axis=1)"
   ]
  },
  {
   "cell_type": "code",
   "execution_count": 28,
   "metadata": {},
   "outputs": [
    {
     "data": {
      "text/plain": [
       "Survey Year\n",
       "1999-2000    9965\n",
       "2015-2016    9971\n",
       "Name: RIDAGEEX_years, dtype: int64"
      ]
     },
     "execution_count": 28,
     "metadata": {},
     "output_type": "execute_result"
    }
   ],
   "source": [
    "# Examine new proposed column for age \n",
    "\n",
    "df = data\n",
    "age_column = new_age_years_column\n",
    "survey_year_column = \"Survey Year\"\n",
    "\n",
    "df.groupby(survey_year_column).count()[age_column]"
   ]
  },
  {
   "cell_type": "code",
   "execution_count": 29,
   "metadata": {},
   "outputs": [
    {
     "name": "stdout",
     "output_type": "stream",
     "text": [
      "\n",
      "Count of all observations with ages: 19936\n",
      "Count of observations for those under 21: 9505\n",
      "Count of observations for those 21+: 10431\n",
      "\n",
      "Test: Count of obs < 21 + count of obs >= 21 match count of all obs: True\n"
     ]
    }
   ],
   "source": [
    "# Examine count of groups of 21+ and under 21\n",
    "\n",
    "count_per_age_group = df.groupby(age_column).size()\n",
    "\n",
    "all_age_count = count_per_age_group.sum()\n",
    "index_under_21_filter = lambda x: x.index < 21\n",
    "under_21_count = count_per_age_group[index_under_21_filter(count_per_age_group)].sum()\n",
    "over_21_count = count_per_age_group[~index_under_21_filter(count_per_age_group)].sum()\n",
    "age_count_test = all_age_count == (under_21_count + over_21_count)\n",
    "print(\"\"\"\n",
    "Count of all observations with ages: {}\n",
    "Count of observations for those under 21: {}\n",
    "Count of observations for those 21+: {}\n",
    "\n",
    "Test: Count of obs < 21 + count of obs >= 21 match count of all obs: {}\"\"\".format(\n",
    "    all_age_count, \n",
    "    under_21_count, \n",
    "    over_21_count, \n",
    "    age_count_test))\n"
   ]
  },
  {
   "cell_type": "code",
   "execution_count": 30,
   "metadata": {},
   "outputs": [
    {
     "data": {
      "text/plain": [
       "(10431, 213)"
      ]
     },
     "execution_count": 30,
     "metadata": {},
     "output_type": "execute_result"
    }
   ],
   "source": [
    "# Filter for age 21+ and confirm shape of df after filter\n",
    "\n",
    "df = data\n",
    "age_years_threshold = 21\n",
    "age_filter = (df[age_column] >= age_years_threshold)\n",
    "\n",
    "data_adults = df[age_filter].copy()\n",
    "data_adults.shape"
   ]
  },
  {
   "cell_type": "code",
   "execution_count": 31,
   "metadata": {},
   "outputs": [
    {
     "data": {
      "text/plain": [
       "Survey Year\n",
       "1999-2000    4795\n",
       "2015-2016    5636\n",
       "dtype: int64"
      ]
     },
     "execution_count": 31,
     "metadata": {},
     "output_type": "execute_result"
    }
   ],
   "source": [
    "# Examine filtered data counts by survey year\n",
    "\n",
    "df = data_adults\n",
    "\n",
    "df.groupby(\"Survey Year\").size()"
   ]
  },
  {
   "cell_type": "markdown",
   "metadata": {},
   "source": [
    "### The CDC publishes separate BMI guidelines for men and women, so the analysis will  review these groups separately."
   ]
  },
  {
   "cell_type": "code",
   "execution_count": 32,
   "metadata": {},
   "outputs": [],
   "source": [
    "# Create mapping of gender code to more readable value\n",
    "# Per codebook 1.0 = male and 2.0 = female\n",
    "gender_map = {1.0: \"Male\",\n",
    "             2.0: \"Female\",\n",
    "             np.nan: \"Missing\"}"
   ]
  },
  {
   "cell_type": "code",
   "execution_count": 33,
   "metadata": {},
   "outputs": [],
   "source": [
    "# Add column with gender code translation\n",
    "df = data_adults\n",
    "\n",
    "col = \"RIAGENDR\"\n",
    "new_col = col + \"_x\"\n",
    "df[new_col] = df[col].map(gender_map)"
   ]
  },
  {
   "cell_type": "code",
   "execution_count": 34,
   "metadata": {},
   "outputs": [
    {
     "name": "stdout",
     "output_type": "stream",
     "text": [
      "Participant Counts by Gender\n"
     ]
    },
    {
     "data": {
      "text/plain": [
       "RIAGENDR_x  Survey Year\n",
       "Female      1999-2000      2565\n",
       "            2015-2016      2932\n",
       "Male        1999-2000      2230\n",
       "            2015-2016      2704\n",
       "dtype: int64"
      ]
     },
     "execution_count": 34,
     "metadata": {},
     "output_type": "execute_result"
    }
   ],
   "source": [
    "print(\"Participant Counts by Gender\")\n",
    "df.groupby([new_col, \"Survey Year\"]).size()\n",
    "#df[new_col].value_counts(dropna=False)"
   ]
  },
  {
   "cell_type": "markdown",
   "metadata": {},
   "source": [
    "### Create viz's and compute summary stats of bmi measurements"
   ]
  },
  {
   "cell_type": "code",
   "execution_count": 35,
   "metadata": {},
   "outputs": [
    {
     "name": "stderr",
     "output_type": "stream",
     "text": [
      "/anaconda3/lib/python3.6/site-packages/matplotlib/axes/_axes.py:6462: UserWarning: The 'normed' kwarg is deprecated, and has been replaced by the 'density' kwarg.\n",
      "  warnings.warn(\"The 'normed' kwarg is deprecated, and has been \"\n",
      "/anaconda3/lib/python3.6/site-packages/matplotlib/axes/_axes.py:6462: UserWarning: The 'normed' kwarg is deprecated, and has been replaced by the 'density' kwarg.\n",
      "  warnings.warn(\"The 'normed' kwarg is deprecated, and has been \"\n"
     ]
    },
    {
     "data": {
      "image/png": "[encoded data removed]",
      "text/plain": [
       "<Figure size 432x432 with 2 Axes>"
      ]
     },
     "metadata": {},
     "output_type": "display_data"
    }
   ],
   "source": [
    "df = data_adults\n",
    "cat_col = new_col\n",
    "data_col = \"BMXBMI\"\n",
    "\n",
    "g = sns.FacetGrid(df, row=cat_col, aspect=2)\n",
    "g = g.map(sns.distplot, data_col, kde=False)"
   ]
  },
  {
   "cell_type": "code",
   "execution_count": 36,
   "metadata": {},
   "outputs": [
    {
     "data": {
      "text/plain": [
       "<matplotlib.axes._subplots.AxesSubplot at 0x1a2a2eeb00>"
      ]
     },
     "execution_count": 36,
     "metadata": {},
     "output_type": "execute_result"
    },
    {
     "data": {
      "image/png": "[encoded data removed]",
      "text/plain": [
       "<Figure size 504x360 with 1 Axes>"
      ]
     },
     "metadata": {},
     "output_type": "display_data"
    }
   ],
   "source": [
    "plt.figure(figsize=(7, 5))\n",
    "sns.boxplot(x=cat_col, y=data_col, data=df)"
   ]
  },
  {
   "cell_type": "code",
   "execution_count": 38,
   "metadata": {},
   "outputs": [
    {
     "name": "stdout",
     "output_type": "stream",
     "text": [
      "BMI Summary Stats - All Genders\n"
     ]
    },
    {
     "data": {
      "text/html": [
       "<div>\n",
       "<style scoped>\n",
       "    .dataframe tbody tr th:only-of-type {\n",
       "        vertical-align: middle;\n",
       "    }\n",
       "\n",
       "    .dataframe tbody tr th {\n",
       "        vertical-align: top;\n",
       "    }\n",
       "\n",
       "    .dataframe thead th {\n",
       "        text-align: right;\n",
       "    }\n",
       "</style>\n",
       "<table border=\"1\" class=\"dataframe\">\n",
       "  <thead>\n",
       "    <tr style=\"text-align: right;\">\n",
       "      <th></th>\n",
       "      <th>BMXBMI</th>\n",
       "    </tr>\n",
       "  </thead>\n",
       "  <tbody>\n",
       "    <tr>\n",
       "      <th>count</th>\n",
       "      <td>9620.000000</td>\n",
       "    </tr>\n",
       "    <tr>\n",
       "      <th>mean</th>\n",
       "      <td>29.055832</td>\n",
       "    </tr>\n",
       "    <tr>\n",
       "      <th>std</th>\n",
       "      <td>6.731272</td>\n",
       "    </tr>\n",
       "    <tr>\n",
       "      <th>min</th>\n",
       "      <td>12.040000</td>\n",
       "    </tr>\n",
       "    <tr>\n",
       "      <th>25%</th>\n",
       "      <td>24.340000</td>\n",
       "    </tr>\n",
       "    <tr>\n",
       "      <th>50%</th>\n",
       "      <td>28.000000</td>\n",
       "    </tr>\n",
       "    <tr>\n",
       "      <th>75%</th>\n",
       "      <td>32.500000</td>\n",
       "    </tr>\n",
       "    <tr>\n",
       "      <th>max</th>\n",
       "      <td>67.300000</td>\n",
       "    </tr>\n",
       "  </tbody>\n",
       "</table>\n",
       "</div>"
      ],
      "text/plain": [
       "            BMXBMI\n",
       "count  9620.000000\n",
       "mean     29.055832\n",
       "std       6.731272\n",
       "min      12.040000\n",
       "25%      24.340000\n",
       "50%      28.000000\n",
       "75%      32.500000\n",
       "max      67.300000"
      ]
     },
     "execution_count": 38,
     "metadata": {},
     "output_type": "execute_result"
    }
   ],
   "source": [
    "# Compute summary stats\n",
    "# Note: Wrapped in df call for display purposes only\n",
    "\n",
    "print(\"BMI Summary Stats - All Genders\")\n",
    "pd.DataFrame(df[data_col].describe())"
   ]
  },
  {
   "cell_type": "code",
   "execution_count": 39,
   "metadata": {},
   "outputs": [
    {
     "name": "stdout",
     "output_type": "stream",
     "text": [
      "BMI Summary Stats - Male and Female Participants\n"
     ]
    },
    {
     "data": {
      "text/html": [
       "<div>\n",
       "<style scoped>\n",
       "    .dataframe tbody tr th:only-of-type {\n",
       "        vertical-align: middle;\n",
       "    }\n",
       "\n",
       "    .dataframe tbody tr th {\n",
       "        vertical-align: top;\n",
       "    }\n",
       "\n",
       "    .dataframe thead th {\n",
       "        text-align: right;\n",
       "    }\n",
       "</style>\n",
       "<table border=\"1\" class=\"dataframe\">\n",
       "  <thead>\n",
       "    <tr style=\"text-align: right;\">\n",
       "      <th>RIAGENDR_x</th>\n",
       "      <th>Female</th>\n",
       "      <th>Male</th>\n",
       "    </tr>\n",
       "  </thead>\n",
       "  <tbody>\n",
       "    <tr>\n",
       "      <th>count</th>\n",
       "      <td>5071.000000</td>\n",
       "      <td>4549.000000</td>\n",
       "    </tr>\n",
       "    <tr>\n",
       "      <th>mean</th>\n",
       "      <td>29.614772</td>\n",
       "      <td>28.432752</td>\n",
       "    </tr>\n",
       "    <tr>\n",
       "      <th>std</th>\n",
       "      <td>7.411832</td>\n",
       "      <td>5.818364</td>\n",
       "    </tr>\n",
       "    <tr>\n",
       "      <th>min</th>\n",
       "      <td>12.040000</td>\n",
       "      <td>14.860000</td>\n",
       "    </tr>\n",
       "    <tr>\n",
       "      <th>25%</th>\n",
       "      <td>24.195000</td>\n",
       "      <td>24.500000</td>\n",
       "    </tr>\n",
       "    <tr>\n",
       "      <th>50%</th>\n",
       "      <td>28.500000</td>\n",
       "      <td>27.600000</td>\n",
       "    </tr>\n",
       "    <tr>\n",
       "      <th>75%</th>\n",
       "      <td>33.600000</td>\n",
       "      <td>31.300000</td>\n",
       "    </tr>\n",
       "    <tr>\n",
       "      <th>max</th>\n",
       "      <td>67.300000</td>\n",
       "      <td>60.870000</td>\n",
       "    </tr>\n",
       "  </tbody>\n",
       "</table>\n",
       "</div>"
      ],
      "text/plain": [
       "RIAGENDR_x       Female         Male\n",
       "count       5071.000000  4549.000000\n",
       "mean          29.614772    28.432752\n",
       "std            7.411832     5.818364\n",
       "min           12.040000    14.860000\n",
       "25%           24.195000    24.500000\n",
       "50%           28.500000    27.600000\n",
       "75%           33.600000    31.300000\n",
       "max           67.300000    60.870000"
      ]
     },
     "execution_count": 39,
     "metadata": {},
     "output_type": "execute_result"
    }
   ],
   "source": [
    "# Segment summary by gender\n",
    "\n",
    "print(\"BMI Summary Stats - Male and Female Participants\")\n",
    "df.groupby(cat_col).describe()[data_col].T"
   ]
  },
  {
   "cell_type": "markdown",
   "metadata": {},
   "source": [
    "### Explore BMI's between 2000 and 2016 surveys"
   ]
  },
  {
   "cell_type": "code",
   "execution_count": 40,
   "metadata": {},
   "outputs": [],
   "source": [
    "# Create df's for each gender response"
   ]
  },
  {
   "cell_type": "code",
   "execution_count": 41,
   "metadata": {},
   "outputs": [],
   "source": [
    "df = data_adults\n",
    "male_filter = (df[\"RIAGENDR\" + \"_x\"] == \"Male\")\n",
    "female_filter = (df[\"RIAGENDR\" + \"_x\"] == \"Female\")\n",
    "\n",
    "data_male = df[male_filter]\n",
    "data_female = df[female_filter]"
   ]
  },
  {
   "cell_type": "code",
   "execution_count": 42,
   "metadata": {},
   "outputs": [],
   "source": [
    "# Gender response = Male"
   ]
  },
  {
   "cell_type": "code",
   "execution_count": 43,
   "metadata": {},
   "outputs": [
    {
     "name": "stderr",
     "output_type": "stream",
     "text": [
      "/anaconda3/lib/python3.6/site-packages/matplotlib/axes/_axes.py:6462: UserWarning: The 'normed' kwarg is deprecated, and has been replaced by the 'density' kwarg.\n",
      "  warnings.warn(\"The 'normed' kwarg is deprecated, and has been \"\n",
      "/anaconda3/lib/python3.6/site-packages/matplotlib/axes/_axes.py:6462: UserWarning: The 'normed' kwarg is deprecated, and has been replaced by the 'density' kwarg.\n",
      "  warnings.warn(\"The 'normed' kwarg is deprecated, and has been \"\n"
     ]
    },
    {
     "data": {
      "image/png": "[encoded data removed]",
      "text/plain": [
       "<Figure size 432x432 with 2 Axes>"
      ]
     },
     "metadata": {},
     "output_type": "display_data"
    }
   ],
   "source": [
    "df = data_male\n",
    "cat_col = \"Survey Year\"\n",
    "data_col = \"BMXBMI\"\n",
    "\n",
    "g = sns.FacetGrid(df, row=cat_col, aspect=2)\n",
    "g = g.map(sns.distplot, data_col, kde=False)"
   ]
  },
  {
   "cell_type": "code",
   "execution_count": 44,
   "metadata": {},
   "outputs": [
    {
     "data": {
      "text/plain": [
       "<matplotlib.axes._subplots.AxesSubplot at 0x11f10cef0>"
      ]
     },
     "execution_count": 44,
     "metadata": {},
     "output_type": "execute_result"
    },
    {
     "data": {
      "image/png": "[encoded data removed]",
      "text/plain": [
       "<Figure size 504x360 with 1 Axes>"
      ]
     },
     "metadata": {},
     "output_type": "display_data"
    }
   ],
   "source": [
    "plt.figure(figsize=(7, 5))\n",
    "sns.boxplot(x=cat_col, y=data_col, data=df)"
   ]
  },
  {
   "cell_type": "code",
   "execution_count": 45,
   "metadata": {},
   "outputs": [
    {
     "name": "stdout",
     "output_type": "stream",
     "text": [
      "BMI Summary Stats - Male\n"
     ]
    },
    {
     "data": {
      "text/html": [
       "<div>\n",
       "<style scoped>\n",
       "    .dataframe tbody tr th:only-of-type {\n",
       "        vertical-align: middle;\n",
       "    }\n",
       "\n",
       "    .dataframe tbody tr th {\n",
       "        vertical-align: top;\n",
       "    }\n",
       "\n",
       "    .dataframe thead th {\n",
       "        text-align: right;\n",
       "    }\n",
       "</style>\n",
       "<table border=\"1\" class=\"dataframe\">\n",
       "  <thead>\n",
       "    <tr style=\"text-align: right;\">\n",
       "      <th>Survey Year</th>\n",
       "      <th>1999-2000</th>\n",
       "      <th>2015-2016</th>\n",
       "    </tr>\n",
       "  </thead>\n",
       "  <tbody>\n",
       "    <tr>\n",
       "      <th>count</th>\n",
       "      <td>2006.000000</td>\n",
       "      <td>2543.000000</td>\n",
       "    </tr>\n",
       "    <tr>\n",
       "      <th>mean</th>\n",
       "      <td>27.772727</td>\n",
       "      <td>28.953401</td>\n",
       "    </tr>\n",
       "    <tr>\n",
       "      <th>std</th>\n",
       "      <td>5.284003</td>\n",
       "      <td>6.158823</td>\n",
       "    </tr>\n",
       "    <tr>\n",
       "      <th>min</th>\n",
       "      <td>14.860000</td>\n",
       "      <td>15.100000</td>\n",
       "    </tr>\n",
       "    <tr>\n",
       "      <th>25%</th>\n",
       "      <td>24.272500</td>\n",
       "      <td>24.750000</td>\n",
       "    </tr>\n",
       "    <tr>\n",
       "      <th>50%</th>\n",
       "      <td>27.090000</td>\n",
       "      <td>28.000000</td>\n",
       "    </tr>\n",
       "    <tr>\n",
       "      <th>75%</th>\n",
       "      <td>30.380000</td>\n",
       "      <td>32.000000</td>\n",
       "    </tr>\n",
       "    <tr>\n",
       "      <th>max</th>\n",
       "      <td>60.870000</td>\n",
       "      <td>58.800000</td>\n",
       "    </tr>\n",
       "  </tbody>\n",
       "</table>\n",
       "</div>"
      ],
      "text/plain": [
       "Survey Year    1999-2000    2015-2016\n",
       "count        2006.000000  2543.000000\n",
       "mean           27.772727    28.953401\n",
       "std             5.284003     6.158823\n",
       "min            14.860000    15.100000\n",
       "25%            24.272500    24.750000\n",
       "50%            27.090000    28.000000\n",
       "75%            30.380000    32.000000\n",
       "max            60.870000    58.800000"
      ]
     },
     "execution_count": 45,
     "metadata": {},
     "output_type": "execute_result"
    }
   ],
   "source": [
    "# Summary stats segmented by survey year\n",
    "\n",
    "print(\"BMI Summary Stats - Male\")\n",
    "df.groupby(cat_col).describe()[data_col].T"
   ]
  },
  {
   "cell_type": "code",
   "execution_count": 46,
   "metadata": {},
   "outputs": [],
   "source": [
    "# Gender response = Female"
   ]
  },
  {
   "cell_type": "code",
   "execution_count": 47,
   "metadata": {},
   "outputs": [
    {
     "name": "stderr",
     "output_type": "stream",
     "text": [
      "/anaconda3/lib/python3.6/site-packages/matplotlib/axes/_axes.py:6462: UserWarning: The 'normed' kwarg is deprecated, and has been replaced by the 'density' kwarg.\n",
      "  warnings.warn(\"The 'normed' kwarg is deprecated, and has been \"\n",
      "/anaconda3/lib/python3.6/site-packages/matplotlib/axes/_axes.py:6462: UserWarning: The 'normed' kwarg is deprecated, and has been replaced by the 'density' kwarg.\n",
      "  warnings.warn(\"The 'normed' kwarg is deprecated, and has been \"\n"
     ]
    },
    {
     "data": {
      "image/png": "[encoded data removed]",
      "text/plain": [
       "<Figure size 432x432 with 2 Axes>"
      ]
     },
     "metadata": {},
     "output_type": "display_data"
    }
   ],
   "source": [
    "df = data_female\n",
    "cat_col = \"Survey Year\"\n",
    "data_col = \"BMXBMI\"\n",
    "\n",
    "#sns.set()\n",
    "#sns.set_context(\"talk\")\n",
    "g = sns.FacetGrid(df, row=cat_col, aspect=2)\n",
    "g = g.map(sns.distplot, data_col, kde=False)"
   ]
  },
  {
   "cell_type": "code",
   "execution_count": 48,
   "metadata": {},
   "outputs": [
    {
     "data": {
      "text/plain": [
       "<matplotlib.axes._subplots.AxesSubplot at 0x1179b8f60>"
      ]
     },
     "execution_count": 48,
     "metadata": {},
     "output_type": "execute_result"
    },
    {
     "data": {
      "image/png": "[encoded data removed]",
      "text/plain": [
       "<Figure size 504x360 with 1 Axes>"
      ]
     },
     "metadata": {},
     "output_type": "display_data"
    }
   ],
   "source": [
    "plt.figure(figsize=(7, 5))\n",
    "sns.boxplot(x=cat_col, y=data_col, data=df)"
   ]
  },
  {
   "cell_type": "code",
   "execution_count": 49,
   "metadata": {},
   "outputs": [
    {
     "name": "stdout",
     "output_type": "stream",
     "text": [
      "BMI Summary Stats - Female\n"
     ]
    },
    {
     "data": {
      "text/html": [
       "<div>\n",
       "<style scoped>\n",
       "    .dataframe tbody tr th:only-of-type {\n",
       "        vertical-align: middle;\n",
       "    }\n",
       "\n",
       "    .dataframe tbody tr th {\n",
       "        vertical-align: top;\n",
       "    }\n",
       "\n",
       "    .dataframe thead th {\n",
       "        text-align: right;\n",
       "    }\n",
       "</style>\n",
       "<table border=\"1\" class=\"dataframe\">\n",
       "  <thead>\n",
       "    <tr style=\"text-align: right;\">\n",
       "      <th>Survey Year</th>\n",
       "      <th>1999-2000</th>\n",
       "      <th>2015-2016</th>\n",
       "    </tr>\n",
       "  </thead>\n",
       "  <tbody>\n",
       "    <tr>\n",
       "      <th>count</th>\n",
       "      <td>2287.000000</td>\n",
       "      <td>2784.000000</td>\n",
       "    </tr>\n",
       "    <tr>\n",
       "      <th>mean</th>\n",
       "      <td>28.973769</td>\n",
       "      <td>30.141343</td>\n",
       "    </tr>\n",
       "    <tr>\n",
       "      <th>std</th>\n",
       "      <td>6.927155</td>\n",
       "      <td>7.749105</td>\n",
       "    </tr>\n",
       "    <tr>\n",
       "      <th>min</th>\n",
       "      <td>12.040000</td>\n",
       "      <td>14.500000</td>\n",
       "    </tr>\n",
       "    <tr>\n",
       "      <th>25%</th>\n",
       "      <td>24.010000</td>\n",
       "      <td>24.400000</td>\n",
       "    </tr>\n",
       "    <tr>\n",
       "      <th>50%</th>\n",
       "      <td>27.820000</td>\n",
       "      <td>29.000000</td>\n",
       "    </tr>\n",
       "    <tr>\n",
       "      <th>75%</th>\n",
       "      <td>32.780000</td>\n",
       "      <td>34.400000</td>\n",
       "    </tr>\n",
       "    <tr>\n",
       "      <th>max</th>\n",
       "      <td>66.440000</td>\n",
       "      <td>67.300000</td>\n",
       "    </tr>\n",
       "  </tbody>\n",
       "</table>\n",
       "</div>"
      ],
      "text/plain": [
       "Survey Year    1999-2000    2015-2016\n",
       "count        2287.000000  2784.000000\n",
       "mean           28.973769    30.141343\n",
       "std             6.927155     7.749105\n",
       "min            12.040000    14.500000\n",
       "25%            24.010000    24.400000\n",
       "50%            27.820000    29.000000\n",
       "75%            32.780000    34.400000\n",
       "max            66.440000    67.300000"
      ]
     },
     "execution_count": 49,
     "metadata": {},
     "output_type": "execute_result"
    }
   ],
   "source": [
    "# Summary stats segmented by survey year\n",
    "\n",
    "print(\"BMI Summary Stats - Female\")\n",
    "df.groupby(cat_col).describe()[data_col].T"
   ]
  },
  {
   "cell_type": "code",
   "execution_count": 50,
   "metadata": {},
   "outputs": [
    {
     "data": {
      "text/html": [
       "<div>\n",
       "<style scoped>\n",
       "    .dataframe tbody tr th:only-of-type {\n",
       "        vertical-align: middle;\n",
       "    }\n",
       "\n",
       "    .dataframe tbody tr th {\n",
       "        vertical-align: top;\n",
       "    }\n",
       "\n",
       "    .dataframe thead tr th {\n",
       "        text-align: left;\n",
       "    }\n",
       "</style>\n",
       "<table border=\"1\" class=\"dataframe\">\n",
       "  <thead>\n",
       "    <tr>\n",
       "      <th>RIAGENDR_x</th>\n",
       "      <th colspan=\"2\" halign=\"left\">Female</th>\n",
       "      <th colspan=\"2\" halign=\"left\">Male</th>\n",
       "    </tr>\n",
       "    <tr>\n",
       "      <th>Survey Year</th>\n",
       "      <th>1999-2000</th>\n",
       "      <th>2015-2016</th>\n",
       "      <th>1999-2000</th>\n",
       "      <th>2015-2016</th>\n",
       "    </tr>\n",
       "  </thead>\n",
       "  <tbody>\n",
       "    <tr>\n",
       "      <th>count</th>\n",
       "      <td>2287.000000</td>\n",
       "      <td>2784.000000</td>\n",
       "      <td>2006.000000</td>\n",
       "      <td>2543.000000</td>\n",
       "    </tr>\n",
       "    <tr>\n",
       "      <th>mean</th>\n",
       "      <td>28.973769</td>\n",
       "      <td>30.141343</td>\n",
       "      <td>27.772727</td>\n",
       "      <td>28.953401</td>\n",
       "    </tr>\n",
       "    <tr>\n",
       "      <th>std</th>\n",
       "      <td>6.927155</td>\n",
       "      <td>7.749105</td>\n",
       "      <td>5.284003</td>\n",
       "      <td>6.158823</td>\n",
       "    </tr>\n",
       "    <tr>\n",
       "      <th>min</th>\n",
       "      <td>12.040000</td>\n",
       "      <td>14.500000</td>\n",
       "      <td>14.860000</td>\n",
       "      <td>15.100000</td>\n",
       "    </tr>\n",
       "    <tr>\n",
       "      <th>25%</th>\n",
       "      <td>24.010000</td>\n",
       "      <td>24.400000</td>\n",
       "      <td>24.272500</td>\n",
       "      <td>24.750000</td>\n",
       "    </tr>\n",
       "    <tr>\n",
       "      <th>50%</th>\n",
       "      <td>27.820000</td>\n",
       "      <td>29.000000</td>\n",
       "      <td>27.090000</td>\n",
       "      <td>28.000000</td>\n",
       "    </tr>\n",
       "    <tr>\n",
       "      <th>75%</th>\n",
       "      <td>32.780000</td>\n",
       "      <td>34.400000</td>\n",
       "      <td>30.380000</td>\n",
       "      <td>32.000000</td>\n",
       "    </tr>\n",
       "    <tr>\n",
       "      <th>max</th>\n",
       "      <td>66.440000</td>\n",
       "      <td>67.300000</td>\n",
       "      <td>60.870000</td>\n",
       "      <td>58.800000</td>\n",
       "    </tr>\n",
       "  </tbody>\n",
       "</table>\n",
       "</div>"
      ],
      "text/plain": [
       "RIAGENDR_x        Female                      Male             \n",
       "Survey Year    1999-2000    2015-2016    1999-2000    2015-2016\n",
       "count        2287.000000  2784.000000  2006.000000  2543.000000\n",
       "mean           28.973769    30.141343    27.772727    28.953401\n",
       "std             6.927155     7.749105     5.284003     6.158823\n",
       "min            12.040000    14.500000    14.860000    15.100000\n",
       "25%            24.010000    24.400000    24.272500    24.750000\n",
       "50%            27.820000    29.000000    27.090000    28.000000\n",
       "75%            32.780000    34.400000    30.380000    32.000000\n",
       "max            66.440000    67.300000    60.870000    58.800000"
      ]
     },
     "execution_count": 50,
     "metadata": {},
     "output_type": "execute_result"
    }
   ],
   "source": [
    "# Examine year and gender segments together\n",
    "\n",
    "df = data_adults\n",
    "data_segmented_summary_stats = df.groupby([\"RIAGENDR\" + \"_x\", \"Survey Year\"]).describe()[data_col].T\n",
    "data_segmented_summary_stats"
   ]
  },
  {
   "cell_type": "code",
   "execution_count": 51,
   "metadata": {},
   "outputs": [],
   "source": [
    "# Obtain differences between each survey year for each gender"
   ]
  },
  {
   "cell_type": "code",
   "execution_count": 52,
   "metadata": {},
   "outputs": [],
   "source": [
    "calc_label = \"Diff, Y2000 to Y2016\"\n",
    "\n",
    "gen = \"Female\"\n",
    "\n",
    "data_segmented_summary_stats.loc[:, (gen, calc_label)] = \\\n",
    "    data_segmented_summary_stats.loc[:, gen].iloc[:, 1] \\\n",
    "    - data_segmented_summary_stats.loc[:, gen].iloc[:, 0]\n",
    "\n",
    "gen = \"Male\"\n",
    "\n",
    "data_segmented_summary_stats.loc[:, (gen, calc_label)] = \\\n",
    "    data_segmented_summary_stats.loc[:, gen].iloc[:, 1] \\\n",
    "    - data_segmented_summary_stats.loc[:, gen].iloc[:, 0]"
   ]
  },
  {
   "cell_type": "code",
   "execution_count": 53,
   "metadata": {},
   "outputs": [
    {
     "data": {
      "text/html": [
       "<div>\n",
       "<style scoped>\n",
       "    .dataframe tbody tr th:only-of-type {\n",
       "        vertical-align: middle;\n",
       "    }\n",
       "\n",
       "    .dataframe tbody tr th {\n",
       "        vertical-align: top;\n",
       "    }\n",
       "\n",
       "    .dataframe thead tr th {\n",
       "        text-align: left;\n",
       "    }\n",
       "</style>\n",
       "<table border=\"1\" class=\"dataframe\">\n",
       "  <thead>\n",
       "    <tr>\n",
       "      <th>RIAGENDR_x</th>\n",
       "      <th colspan=\"2\" halign=\"left\">Female</th>\n",
       "      <th colspan=\"2\" halign=\"left\">Male</th>\n",
       "      <th>Female</th>\n",
       "      <th>Male</th>\n",
       "    </tr>\n",
       "    <tr>\n",
       "      <th>Survey Year</th>\n",
       "      <th>1999-2000</th>\n",
       "      <th>2015-2016</th>\n",
       "      <th>1999-2000</th>\n",
       "      <th>2015-2016</th>\n",
       "      <th>Diff, Y2000 to Y2016</th>\n",
       "      <th>Diff, Y2000 to Y2016</th>\n",
       "    </tr>\n",
       "  </thead>\n",
       "  <tbody>\n",
       "    <tr>\n",
       "      <th>count</th>\n",
       "      <td>2287.000000</td>\n",
       "      <td>2784.000000</td>\n",
       "      <td>2006.000000</td>\n",
       "      <td>2543.000000</td>\n",
       "      <td>497.000000</td>\n",
       "      <td>537.000000</td>\n",
       "    </tr>\n",
       "    <tr>\n",
       "      <th>mean</th>\n",
       "      <td>28.973769</td>\n",
       "      <td>30.141343</td>\n",
       "      <td>27.772727</td>\n",
       "      <td>28.953401</td>\n",
       "      <td>1.167574</td>\n",
       "      <td>1.180675</td>\n",
       "    </tr>\n",
       "    <tr>\n",
       "      <th>std</th>\n",
       "      <td>6.927155</td>\n",
       "      <td>7.749105</td>\n",
       "      <td>5.284003</td>\n",
       "      <td>6.158823</td>\n",
       "      <td>0.821950</td>\n",
       "      <td>0.874820</td>\n",
       "    </tr>\n",
       "    <tr>\n",
       "      <th>min</th>\n",
       "      <td>12.040000</td>\n",
       "      <td>14.500000</td>\n",
       "      <td>14.860000</td>\n",
       "      <td>15.100000</td>\n",
       "      <td>2.460000</td>\n",
       "      <td>0.240000</td>\n",
       "    </tr>\n",
       "    <tr>\n",
       "      <th>25%</th>\n",
       "      <td>24.010000</td>\n",
       "      <td>24.400000</td>\n",
       "      <td>24.272500</td>\n",
       "      <td>24.750000</td>\n",
       "      <td>0.390000</td>\n",
       "      <td>0.477500</td>\n",
       "    </tr>\n",
       "    <tr>\n",
       "      <th>50%</th>\n",
       "      <td>27.820000</td>\n",
       "      <td>29.000000</td>\n",
       "      <td>27.090000</td>\n",
       "      <td>28.000000</td>\n",
       "      <td>1.180000</td>\n",
       "      <td>0.910000</td>\n",
       "    </tr>\n",
       "    <tr>\n",
       "      <th>75%</th>\n",
       "      <td>32.780000</td>\n",
       "      <td>34.400000</td>\n",
       "      <td>30.380000</td>\n",
       "      <td>32.000000</td>\n",
       "      <td>1.620000</td>\n",
       "      <td>1.620000</td>\n",
       "    </tr>\n",
       "    <tr>\n",
       "      <th>max</th>\n",
       "      <td>66.440000</td>\n",
       "      <td>67.300000</td>\n",
       "      <td>60.870000</td>\n",
       "      <td>58.800000</td>\n",
       "      <td>0.860000</td>\n",
       "      <td>-2.070000</td>\n",
       "    </tr>\n",
       "  </tbody>\n",
       "</table>\n",
       "</div>"
      ],
      "text/plain": [
       "RIAGENDR_x        Female                      Male               \\\n",
       "Survey Year    1999-2000    2015-2016    1999-2000    2015-2016   \n",
       "count        2287.000000  2784.000000  2006.000000  2543.000000   \n",
       "mean           28.973769    30.141343    27.772727    28.953401   \n",
       "std             6.927155     7.749105     5.284003     6.158823   \n",
       "min            12.040000    14.500000    14.860000    15.100000   \n",
       "25%            24.010000    24.400000    24.272500    24.750000   \n",
       "50%            27.820000    29.000000    27.090000    28.000000   \n",
       "75%            32.780000    34.400000    30.380000    32.000000   \n",
       "max            66.440000    67.300000    60.870000    58.800000   \n",
       "\n",
       "RIAGENDR_x                Female                 Male  \n",
       "Survey Year Diff, Y2000 to Y2016 Diff, Y2000 to Y2016  \n",
       "count                 497.000000           537.000000  \n",
       "mean                    1.167574             1.180675  \n",
       "std                     0.821950             0.874820  \n",
       "min                     2.460000             0.240000  \n",
       "25%                     0.390000             0.477500  \n",
       "50%                     1.180000             0.910000  \n",
       "75%                     1.620000             1.620000  \n",
       "max                     0.860000            -2.070000  "
      ]
     },
     "execution_count": 53,
     "metadata": {},
     "output_type": "execute_result"
    }
   ],
   "source": [
    "data_segmented_summary_stats"
   ]
  },
  {
   "cell_type": "markdown",
   "metadata": {},
   "source": [
    "### Determine if the differences between the two years is significant"
   ]
  },
  {
   "cell_type": "code",
   "execution_count": 57,
   "metadata": {},
   "outputs": [],
   "source": [
    "# Start with gender response = Female\n",
    "\n",
    "# NULL Hypothesis: The BMI of female respondents has not significantly \n",
    "#                  increased between the Y2000 and Y2016 surveys\n",
    "\n",
    "# Alternate Hypothesis: The BMI of female respondents has significantly \n",
    "#                   increased between the Y2000 and Y2016 surveys"
   ]
  },
  {
   "cell_type": "code",
   "execution_count": 58,
   "metadata": {},
   "outputs": [],
   "source": [
    "# Create helper functions"
   ]
  },
  {
   "cell_type": "code",
   "execution_count": 59,
   "metadata": {},
   "outputs": [],
   "source": [
    "def create_df_filter(df, col, filter_value):\n",
    "    \n",
    "    return (df[col] == filter_value)"
   ]
  },
  {
   "cell_type": "code",
   "execution_count": 60,
   "metadata": {},
   "outputs": [],
   "source": [
    "def df_get_values(df, data_col, dropna=True):\n",
    "    \n",
    "    if dropna is True:\n",
    "        df = df.dropna(axis=0, subset=[data_col], how='all')\n",
    "    \n",
    "    return list(df[data_col].values)"
   ]
  },
  {
   "cell_type": "markdown",
   "metadata": {},
   "source": [
    "### Store values for each survey year and gender"
   ]
  },
  {
   "cell_type": "code",
   "execution_count": 61,
   "metadata": {},
   "outputs": [],
   "source": [
    "# Get BMI values for each survey year and gender\n",
    "\n",
    "df = data_adults\n",
    "data_col = \"BMXBMI\"\n",
    "cat_col = \"RIAGENDR\" + \"_x\"\n",
    "year_col = \"Survey Year\"\n",
    "\n",
    "# Create gender filters\n",
    "female_filter = create_df_filter(df, cat_col, \"Female\")\n",
    "male_filter = create_df_filter(df, cat_col, \"Male\")\n",
    "\n",
    "# Create survey year filters\n",
    "survey_year_list = [\"1999-2000\", \"2015-2016\"]\n",
    "year_filter_dict = {\n",
    "                    survey_year: create_df_filter(\n",
    "                                df, year_col, survey_year\n",
    "                                ) for survey_year in survey_year_list}\n",
    "\n",
    "\n",
    "\n",
    "# Filter overall df and then store values for each gender and survey year\n",
    "\n",
    "# Create dictionary to store data sets\n",
    "data_sets_dict = {}\n",
    "\n",
    "female_2000_df = df[female_filter & year_filter_dict.get(\"1999-2000\")]\n",
    "female_2000_bmi = df_get_values(female_2000_df, data_col)\n",
    "data_sets_dict[\"Female_1999-2000\"] = female_2000_bmi\n",
    "\n",
    "female_2016_df = df[female_filter & year_filter_dict.get(\"2015-2016\")]\n",
    "female_2016_bmi = df_get_values(female_2016_df, data_col)\n",
    "data_sets_dict[\"Female_2015-2016\"] = female_2016_bmi\n",
    "\n",
    "male_2000_df = df[male_filter & year_filter_dict.get(\"1999-2000\")]\n",
    "male_2000_bmi = df_get_values(male_2000_df, data_col)\n",
    "data_sets_dict[\"Male_1999-2000\"] = male_2000_bmi\n",
    "\n",
    "male_2016_df = df[male_filter & year_filter_dict.get(\"2015-2016\")]\n",
    "male_2016_bmi = df_get_values(male_2016_df, data_col)\n",
    "data_sets_dict[\"Male_2015-2016\"] = male_2016_bmi"
   ]
  },
  {
   "cell_type": "code",
   "execution_count": 62,
   "metadata": {},
   "outputs": [],
   "source": [
    "# Store data in variables to be able to run tests\n",
    "\n",
    "# Note: For these tests making later year first set so difference\n",
    "# between means is poz if mean is greater\n",
    "\n",
    "a = data_sets_dict[\"Female_2015-2016\"]\n",
    "b = data_sets_dict[\"Female_1999-2000\"]\n",
    "\n",
    "c = data_sets_dict[\"Male_2015-2016\"]\n",
    "d = data_sets_dict[\"Male_1999-2000\"]"
   ]
  },
  {
   "cell_type": "markdown",
   "metadata": {},
   "source": [
    "### To compare means for 2016 and 2000 for each gender, we can run a t-test for two independent samples.\n",
    "\n",
    "### However, we need to test the following assumptions:\n",
    "* independence of observations\n",
    "* equal variances (to determine if need to run with Welch's t-test adjustment for standard error)\n",
    "* normality of each data set\n",
    "\n",
    "Independence: There is no indication in the NHANES description that respondents are re-sampled across survey years, so independence is assumed.\n",
    "\n",
    "Variance and Normality: see below"
   ]
  },
  {
   "cell_type": "markdown",
   "metadata": {},
   "source": [
    "### Run Levene's test on data to test for equal variances\n",
    "\n",
    "H0 = The variances are equal\n",
    "\n",
    "H1 = The variances are not equal\n",
    "\n",
    "alpha = .05"
   ]
  },
  {
   "cell_type": "code",
   "execution_count": 63,
   "metadata": {},
   "outputs": [
    {
     "name": "stdout",
     "output_type": "stream",
     "text": [
      "Leven's test for equal variances - Female (Y2016 and 2000)\n",
      "Test statistic: 21.519380344267116 (p-value: 3.5908661123980997e-06)\n",
      "\n",
      "\n",
      "Leven's test for equal variances - Male (Y2016 and 2000)\n",
      "Test statistic: 25.959833500407584 (p-value: 3.6271893783017997e-07)\n"
     ]
    }
   ],
   "source": [
    "print(\"Leven's test for equal variances - Female (Y2016 and 2000)\")\n",
    "stat, p = stats.levene(a, b)\n",
    "print(\"Test statistic: {} (p-value: {})\".format(stat, p))\n",
    "print(\"\\n\")\n",
    "\n",
    "print(\"Leven's test for equal variances - Male (Y2016 and 2000)\")\n",
    "stat, p = stats.levene(c, d)\n",
    "print(\"Test statistic: {} (p-value: {})\".format(stat, p))"
   ]
  },
  {
   "cell_type": "markdown",
   "metadata": {},
   "source": [
    "### Conclusion: Reject null that variances are equal; run Welch's t-test for t-test with unequal variances"
   ]
  },
  {
   "cell_type": "code",
   "execution_count": 158,
   "metadata": {},
   "outputs": [],
   "source": [
    "# Due to unequal sample sizes and unequal standard deviations\n",
    "# will perform a Welch's t-test instead of a standard t-test\n",
    "# This can be accomplished in scipy.stats by flagging\n",
    "# equal_var = False"
   ]
  },
  {
   "cell_type": "markdown",
   "metadata": {},
   "source": [
    "### Test normality assumption: perform a Shapiro-Wilk test to test how close to normal dist sample data are\n",
    "\n",
    "#### At alpha = .05, if P < .05 then reject null hypothesis that data come from a normal dist"
   ]
  },
  {
   "cell_type": "code",
   "execution_count": 66,
   "metadata": {},
   "outputs": [
    {
     "name": "stdout",
     "output_type": "stream",
     "text": [
      "Shapiro-Wilk normality test results: Female_1999-2000\n",
      "Test-stat: 0.9453644752502441 (p-value: 2.5522888253618733e-28)\n",
      "\n",
      "\n",
      "Shapiro-Wilk normality test results: Female_2015-2016\n",
      "Test-stat: 0.9445222616195679 (p-value: 3.764761164652554e-31)\n",
      "\n",
      "\n",
      "Shapiro-Wilk normality test results: Male_1999-2000\n",
      "Test-stat: 0.9545952081680298 (p-value: 1.6910393128943063e-24)\n",
      "\n",
      "\n",
      "Shapiro-Wilk normality test results: Male_2015-2016\n",
      "Test-stat: 0.939537763595581 (p-value: 5.096896955589146e-31)\n",
      "\n",
      "\n"
     ]
    }
   ],
   "source": [
    "for desc, data_set in data_sets_dict.items():\n",
    "    print(\"Shapiro-Wilk normality test results: {}\".format(desc))\n",
    "    shapiro_wilk = stats.shapiro(data_set)\n",
    "    print(\"Test-stat: {} (p-value: {})\".format(shapiro_wilk[0], shapiro_wilk[1]))\n",
    "    print(\"\\n\")"
   ]
  },
  {
   "cell_type": "markdown",
   "metadata": {},
   "source": [
    "### Conclusion: Shapiro-Wilk tests strongly suggests data is not from a normal distribution.\n",
    "### Review QQ plot as further confirmation"
   ]
  },
  {
   "cell_type": "code",
   "execution_count": 67,
   "metadata": {},
   "outputs": [
    {
     "data": {
      "image/png": "[encoded data removed]",
      "text/plain": [
       "<Figure size 432x288 with 1 Axes>"
      ]
     },
     "metadata": {},
     "output_type": "display_data"
    },
    {
     "data": {
      "image/png": "[encoded data removed]",
      "text/plain": [
       "<Figure size 432x288 with 1 Axes>"
      ]
     },
     "metadata": {},
     "output_type": "display_data"
    },
    {
     "data": {
      "image/png": "[encoded data removed]",
      "text/plain": [
       "<Figure size 432x288 with 1 Axes>"
      ]
     },
     "metadata": {},
     "output_type": "display_data"
    },
    {
     "data": {
      "image/png": "[encoded data removed]",
      "text/plain": [
       "<Figure size 432x288 with 1 Axes>"
      ]
     },
     "metadata": {},
     "output_type": "display_data"
    }
   ],
   "source": [
    "for desc, data_set in data_sets_dict.items():\n",
    "    stats.probplot(data_set, plot=sns.mpl.pyplot)\n",
    "    plt.show()"
   ]
  },
  {
   "cell_type": "code",
   "execution_count": 161,
   "metadata": {},
   "outputs": [
    {
     "name": "stdout",
     "output_type": "stream",
     "text": [
      "Female_1999-2000\n",
      "Skew Normal: test-statistic 17.051680083191854 (p-value: 3.3962909573197247e-65)\n",
      "Kurtosis Normal: test-statistic 9.764083687369043 (p-value: 1.6055679646924846e-22)\n",
      "\n",
      "\n",
      "Female_2015-2016\n",
      "Skew Normal: test-statistic 18.536143176266442 (p-value: 1.0552331097665981e-76)\n",
      "Kurtosis Normal: test-statistic 9.889058469297 (p-value: 4.643747144307868e-23)\n",
      "\n",
      "\n",
      "Male_1999-2000\n",
      "Skew Normal: test-statistic 15.499915094430433 (p-value: 3.473508675127845e-54)\n",
      "Kurtosis Normal: test-statistic 10.658705064344273 (p-value: 1.5879293694771922e-26)\n",
      "\n",
      "\n",
      "Male_2015-2016\n",
      "Skew Normal: test-statistic 19.043767376400645 (p-value: 7.400775185177088e-81)\n",
      "Kurtosis Normal: test-statistic 11.595344957347983 (p-value: 4.351089812995122e-31)\n",
      "\n",
      "\n"
     ]
    }
   ],
   "source": [
    "# Run test of skew and kurtosis to estimate probability that\n",
    "# samples come from normal distribution\n",
    "\n",
    "# Each test statistic should be around 1 for a normal distribution\n",
    "\n",
    "for desc, data_set in data_sets_dict.items():\n",
    "    skew = stats.skewtest(data_set)\n",
    "    kurtosis = stats.kurtosistest(data_set)\n",
    "    print(\"{}\".format(desc))\n",
    "    print(\"Skew Normal: test-statistic {} (p-value: {})\".format(skew[0], skew[1]))\n",
    "    print(\"Kurtosis Normal: test-statistic {} (p-value: {})\".format(kurtosis[0], kurtosis[1]))\n",
    "    print(\"\\n\")\n"
   ]
  },
  {
   "cell_type": "code",
   "execution_count": 162,
   "metadata": {},
   "outputs": [],
   "source": [
    "# Transform data and review to see if that improves normality"
   ]
  },
  {
   "cell_type": "code",
   "execution_count": 163,
   "metadata": {},
   "outputs": [
    {
     "name": "stdout",
     "output_type": "stream",
     "text": [
      "Tests of normality on log-transformed data\n",
      "\n",
      "Female_1999-2000\n",
      "Shapiro-Wilk Normal: test-statistic 0.9937524199485779 (p-value: 2.8039080390840354e-08)\n",
      "Skew Normal: test-statistic 5.860107480782281 (p-value: 4.625676788621316e-09)\n",
      "Kurtosis Normal: test-statistic 0.9473003057710355 (p-value: 0.3434857750768877)\n",
      "\n",
      "\n",
      "Female_2015-2016\n",
      "Shapiro-Wilk Normal: test-statistic 0.9933714866638184 (p-value: 6.017266684921196e-10)\n",
      "Skew Normal: test-statistic 6.113239290454367 (p-value: 9.762880858603675e-10)\n",
      "Kurtosis Normal: test-statistic -1.159426862619222 (p-value: 0.24628223242138625)\n",
      "\n",
      "\n",
      "Male_1999-2000\n",
      "Shapiro-Wilk Normal: test-statistic 0.9944562315940857 (p-value: 8.012418106773112e-07)\n",
      "Skew Normal: test-statistic 4.9446161999252105 (p-value: 7.629402311035486e-07)\n",
      "Kurtosis Normal: test-statistic 3.708570502181642 (p-value: 0.0002084326287671954)\n",
      "\n",
      "\n",
      "Male_2015-2016\n",
      "Shapiro-Wilk Normal: test-statistic 0.9907311201095581 (p-value: 9.70051556442586e-12)\n",
      "Skew Normal: test-statistic 7.583245087260999 (p-value: 3.370173457020367e-14)\n",
      "Kurtosis Normal: test-statistic 3.9318721370015868 (p-value: 8.42868950841508e-05)\n",
      "\n",
      "\n"
     ]
    }
   ],
   "source": [
    "print(\"Tests of normality on log-transformed data\\n\")\n",
    "for desc, data_set in data_sets_dict.items():\n",
    "    # transform data set\n",
    "    data_set = np.log(data_set)\n",
    "    \n",
    "    shapiro_wilk = stats.shapiro(data_set)\n",
    "  \n",
    "    print(\"{}\".format(desc))\n",
    "    print(\"Shapiro-Wilk Normal: test-statistic {} (p-value: {})\".format(shapiro_wilk[0], shapiro_wilk[1]))\n",
    "    print(\"Skew Normal: test-statistic {} (p-value: {})\".format(skew[0], skew[1]))\n",
    "    print(\"Kurtosis Normal: test-statistic {} (p-value: {})\".format(kurtosis[0], kurtosis[1]))\n",
    "    print(\"\\n\")\n"
   ]
  },
  {
   "cell_type": "code",
   "execution_count": 164,
   "metadata": {},
   "outputs": [],
   "source": [
    "# The log transform normalizes the skew of the male data\n",
    "# but does not affect other measures or the female data"
   ]
  },
  {
   "cell_type": "code",
   "execution_count": 165,
   "metadata": {},
   "outputs": [
    {
     "name": "stdout",
     "output_type": "stream",
     "text": [
      "Female_1999-2000\n"
     ]
    },
    {
     "data": {
      "image/png": "[encoded data removed]",
      "text/plain": [
       "<Figure size 432x288 with 1 Axes>"
      ]
     },
     "metadata": {},
     "output_type": "display_data"
    },
    {
     "name": "stdout",
     "output_type": "stream",
     "text": [
      "Female_2015-2016\n"
     ]
    },
    {
     "data": {
      "image/png": "[encoded data removed]",
      "text/plain": [
       "<Figure size 432x288 with 1 Axes>"
      ]
     },
     "metadata": {},
     "output_type": "display_data"
    },
    {
     "name": "stdout",
     "output_type": "stream",
     "text": [
      "Male_1999-2000\n"
     ]
    },
    {
     "data": {
      "image/png": "[encoded data removed]",
      "text/plain": [
       "<Figure size 432x288 with 1 Axes>"
      ]
     },
     "metadata": {},
     "output_type": "display_data"
    },
    {
     "name": "stdout",
     "output_type": "stream",
     "text": [
      "Male_2015-2016\n"
     ]
    },
    {
     "data": {
      "image/png": "[encoded data removed]",
      "text/plain": [
       "<Figure size 432x288 with 1 Axes>"
      ]
     },
     "metadata": {},
     "output_type": "display_data"
    }
   ],
   "source": [
    "# Review QQ plot as further confirmation\n",
    "\n",
    "for desc, data_set in data_sets_dict.items():\n",
    "    data_set = np.log(data_set)\n",
    "    print(desc)\n",
    "    stats.probplot(data_set, plot=sns.mpl.pyplot)\n",
    "    plt.show()"
   ]
  },
  {
   "cell_type": "code",
   "execution_count": 166,
   "metadata": {},
   "outputs": [],
   "source": [
    "# Try taking square root of data, which also can help right-skewed distributions"
   ]
  },
  {
   "cell_type": "code",
   "execution_count": 167,
   "metadata": {},
   "outputs": [
    {
     "name": "stdout",
     "output_type": "stream",
     "text": [
      "Tests of normality on data transformed by taking the square root\n",
      "\n",
      "Female_1999-2000\n",
      "Shapiro-Wilk Normal: test-statistic 0.9759547710418701 (p-value: 3.4681723700272465e-19)\n",
      "Skew Normal: test-statistic 11.79164964196254 (p-value: 4.3101481924808793e-32)\n",
      "Kurtosis Normal: test-statistic 4.899875498895337 (p-value: 9.589740450762743e-07)\n",
      "\n",
      "\n",
      "Female_2015-2016\n",
      "Shapiro-Wilk Normal: test-statistic 0.9757089018821716 (p-value: 2.200513282995944e-21)\n",
      "Skew Normal: test-statistic 12.64636556116841 (p-value: 1.1717089397471497e-36)\n",
      "Kurtosis Normal: test-statistic 4.196364396605596 (p-value: 2.712337319351698e-05)\n",
      "\n",
      "\n",
      "Male_1999-2000\n",
      "Shapiro-Wilk Normal: test-statistic 0.9800542593002319 (p-value: 3.965387918944559e-16)\n",
      "Skew Normal: test-statistic 10.48195627032465 (p-value: 1.045582163098062e-25)\n",
      "Kurtosis Normal: test-statistic 6.749782269951422 (p-value: 1.48067182890817e-11)\n",
      "\n",
      "\n",
      "Male_2015-2016\n",
      "Shapiro-Wilk Normal: test-statistic 0.9711254239082336 (p-value: 3.1060495686201767e-22)\n",
      "Skew Normal: test-statistic 13.730661503032623 (p-value: 6.652335450515983e-43)\n",
      "Kurtosis Normal: test-statistic 7.5286429090712925 (p-value: 5.127038376694408e-14)\n",
      "\n",
      "\n"
     ]
    }
   ],
   "source": [
    "print(\"Tests of normality on data transformed by taking the square root\\n\")\n",
    "for desc, data_set in data_sets_dict.items():\n",
    "    # transform data set\n",
    "    data_set = np.sqrt(data_set)\n",
    "    \n",
    "    shapiro_wilk = stats.shapiro(data_set)\n",
    "    skew = stats.skewtest(data_set)\n",
    "    kurtosis = stats.kurtosistest(data_set)\n",
    "\n",
    "    print(\"{}\".format(desc))\n",
    "    print(\"Shapiro-Wilk Normal: test-statistic {} (p-value: {})\".format(shapiro_wilk[0], shapiro_wilk[1]))\n",
    "    print(\"Skew Normal: test-statistic {} (p-value: {})\".format(skew[0], skew[1]))\n",
    "    print(\"Kurtosis Normal: test-statistic {} (p-value: {})\".format(kurtosis[0], kurtosis[1]))\n",
    "    print(\"\\n\")"
   ]
  },
  {
   "cell_type": "code",
   "execution_count": 168,
   "metadata": {},
   "outputs": [],
   "source": [
    "# The square root transform somewhat normalizes the kurtosis of each gender\n",
    "# in each year, but does not affect the other measures"
   ]
  },
  {
   "cell_type": "code",
   "execution_count": 169,
   "metadata": {},
   "outputs": [
    {
     "name": "stdout",
     "output_type": "stream",
     "text": [
      "Female_1999-2000\n"
     ]
    },
    {
     "data": {
      "image/png": "[encoded data removed]",
      "text/plain": [
       "<Figure size 432x288 with 1 Axes>"
      ]
     },
     "metadata": {},
     "output_type": "display_data"
    },
    {
     "name": "stdout",
     "output_type": "stream",
     "text": [
      "Female_2015-2016\n"
     ]
    },
    {
     "data": {
      "image/png": "[encoded data removed]",
      "text/plain": [
       "<Figure size 432x288 with 1 Axes>"
      ]
     },
     "metadata": {},
     "output_type": "display_data"
    },
    {
     "name": "stdout",
     "output_type": "stream",
     "text": [
      "Male_1999-2000\n"
     ]
    },
    {
     "data": {
      "image/png": "[encoded data removed]",
      "text/plain": [
       "<Figure size 432x288 with 1 Axes>"
      ]
     },
     "metadata": {},
     "output_type": "display_data"
    },
    {
     "name": "stdout",
     "output_type": "stream",
     "text": [
      "Male_2015-2016\n"
     ]
    },
    {
     "data": {
      "image/png": "[encoded data removed]",
      "text/plain": [
       "<Figure size 432x288 with 1 Axes>"
      ]
     },
     "metadata": {},
     "output_type": "display_data"
    }
   ],
   "source": [
    "# Review QQ plot as further confirmation\n",
    "\n",
    "for desc, data_set in data_sets_dict.items():\n",
    "    data_set = np.sqrt(data_set)\n",
    "    print(desc)\n",
    "    stats.probplot(data_set, plot=sns.mpl.pyplot)\n",
    "    plt.show()"
   ]
  },
  {
   "cell_type": "code",
   "execution_count": 170,
   "metadata": {},
   "outputs": [],
   "source": [
    "# Both the measures and the plots indicate transformations do\n",
    "# not normalize the data. The plots in particular show a lack of normality\n",
    "# in the lower transformed values"
   ]
  },
  {
   "cell_type": "code",
   "execution_count": 171,
   "metadata": {},
   "outputs": [
    {
     "name": "stdout",
     "output_type": "stream",
     "text": [
      "Female_1999-2000 sample size: 2287\n",
      "Female_2015-2016 sample size: 2784\n",
      "Male_1999-2000 sample size: 2006\n",
      "Male_2015-2016 sample size: 2543\n"
     ]
    }
   ],
   "source": [
    "# However, the t-test can still be run on skewed data if the sample size is large\n",
    "# Examine sample sizes\n",
    "\n",
    "for desc, data_set in data_sets_dict.items():\n",
    "    print(\"{} sample size: {}\".format(desc, len(data_set)))"
   ]
  },
  {
   "cell_type": "code",
   "execution_count": 172,
   "metadata": {},
   "outputs": [],
   "source": [
    "# Sample size is quite large, and seems to support moving forward \n",
    "# with running t-test"
   ]
  },
  {
   "cell_type": "code",
   "execution_count": 173,
   "metadata": {},
   "outputs": [],
   "source": [
    "# Run t-test and store results for each gender\n",
    "\n",
    "t_test_ind_female = stats.ttest_ind(a, b, equal_var=False, nan_policy=\"omit\")\n",
    "t_test_ind_male = stats.ttest_ind(c, d, equal_var=False, nan_policy=\"omit\")"
   ]
  },
  {
   "cell_type": "code",
   "execution_count": 174,
   "metadata": {},
   "outputs": [
    {
     "name": "stdout",
     "output_type": "stream",
     "text": [
      "Female BMI Y2016 vs Y2000\n",
      "T-Statistic: 5.660169797649858\n",
      "P-Value: 1.5959822020285157e-08\n"
     ]
    }
   ],
   "source": [
    "print(\"Female BMI Y2016 vs Y2000\\nT-Statistic: {}\\nP-Value: {}\".format(\n",
    "t_test_ind_female[0], t_test_ind_female[1]))"
   ]
  },
  {
   "cell_type": "code",
   "execution_count": 175,
   "metadata": {},
   "outputs": [
    {
     "name": "stdout",
     "output_type": "stream",
     "text": [
      "Male BMI Y2016 vs Y2000\n",
      "T-Statistic: 6.953031685030744\n",
      "P-Value: 4.086910669466987e-12\n"
     ]
    }
   ],
   "source": [
    "print(\"Male BMI Y2016 vs Y2000\\nT-Statistic: {}\\nP-Value: {}\".format(\n",
    "t_test_ind_male[0], t_test_ind_male[1]))"
   ]
  },
  {
   "cell_type": "code",
   "execution_count": 176,
   "metadata": {},
   "outputs": [],
   "source": [
    "# Results:\n",
    "# * For both female and male respondents,\n",
    "#   the difference in mean BMI appears to be significant\n",
    "#   between the Y2000 and Y2016 surveys. This implies\n",
    "#   BMI's among the general population has (statistically) significantly \n",
    "#   increased in this interval.\n",
    "# * However, the sample size is large. While the size allows a parametric test like the\n",
    "#   t-test to be run, its size is also large enough to detect even very small changes\n",
    "#   in the BMI and suggest they are significant."
   ]
  },
  {
   "cell_type": "code",
   "execution_count": null,
   "metadata": {},
   "outputs": [],
   "source": []
  }
 ],
 "metadata": {
  "kernelspec": {
   "display_name": "Python 3",
   "language": "python",
   "name": "python3"
  },
  "language_info": {
   "codemirror_mode": {
    "name": "ipython",
    "version": 3
   },
   "file_extension": ".py",
   "mimetype": "text/x-python",
   "name": "python",
   "nbconvert_exporter": "python",
   "pygments_lexer": "ipython3",
   "version": "3.6.5"
  }
 },
 "nbformat": 4,
 "nbformat_minor": 2
}
