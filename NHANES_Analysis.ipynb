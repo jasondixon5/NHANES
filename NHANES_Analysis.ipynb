{
 "cells": [
  {
   "cell_type": "code",
   "execution_count": 172,
   "metadata": {},
   "outputs": [],
   "source": [
    "#### NOTES ####\n",
    "\n",
    "# 12/22/18 - Combined data from multiple years into one df\n",
    "# 12/22/18 - Research on how to make histograms for each gender bigger\n",
    "# 12/22/18 - Research on warning for deprecated 'normed' kwarg in sns.distplot (matplotlib)\n",
    "# 12/22/18 - Used aspect arg in FacetGrid func to increase size of histograms for gender BMI\n",
    "# 12/22/18 - Removed separate df's created for male and female, since viz args allow for\n",
    "#             segmenting on a category like gender\n"
   ]
  },
  {
   "cell_type": "code",
   "execution_count": 118,
   "metadata": {},
   "outputs": [],
   "source": [
    "import importlib\n",
    "import matplotlib.pyplot as plt\n",
    "import numpy as np\n",
    "import pandas as pd\n",
    "import seaborn as sns\n",
    "\n",
    "import workbench as wp"
   ]
  },
  {
   "cell_type": "code",
   "execution_count": 119,
   "metadata": {},
   "outputs": [],
   "source": [
    "# Reload workbench module so changes are included\n",
    "_ = importlib.reload(wp)"
   ]
  },
  {
   "cell_type": "code",
   "execution_count": 120,
   "metadata": {},
   "outputs": [
    {
     "data": {
      "text/plain": [
       "(9965, 144)"
      ]
     },
     "execution_count": 120,
     "metadata": {},
     "output_type": "execute_result"
    }
   ],
   "source": [
    "# Import demographic data (e.g., gender)\n",
    "# for each participant\n",
    "filename = \"1999-2000/DEMO.XPT\"\n",
    "demo_2000 = pd.read_sas(filename)\n",
    "demo_2000.shape"
   ]
  },
  {
   "cell_type": "code",
   "execution_count": 121,
   "metadata": {},
   "outputs": [
    {
     "data": {
      "text/plain": [
       "True"
      ]
     },
     "execution_count": 121,
     "metadata": {},
     "output_type": "execute_result"
    }
   ],
   "source": [
    "# Participant identified in SEQN column\n",
    "# Confirm dataset has only one entry per participant\n",
    "demo_2000[\"SEQN\"].is_unique"
   ]
  },
  {
   "cell_type": "code",
   "execution_count": 122,
   "metadata": {},
   "outputs": [
    {
     "data": {
      "text/plain": [
       "(9282, 38)"
      ]
     },
     "execution_count": 122,
     "metadata": {},
     "output_type": "execute_result"
    }
   ],
   "source": [
    "# Import body measurement data\n",
    "filename = \"1999-2000/BMX.XPT\"\n",
    "bmx_2000 = pd.read_sas(filename)\n",
    "bmx_2000.shape"
   ]
  },
  {
   "cell_type": "code",
   "execution_count": 123,
   "metadata": {},
   "outputs": [
    {
     "data": {
      "text/plain": [
       "True"
      ]
     },
     "execution_count": 123,
     "metadata": {},
     "output_type": "execute_result"
    }
   ],
   "source": [
    "# Participant identified in SEQN column\n",
    "# Confirm dataset has only one entry per participant\n",
    "bmx_2000[\"SEQN\"].is_unique"
   ]
  },
  {
   "cell_type": "code",
   "execution_count": 124,
   "metadata": {},
   "outputs": [
    {
     "data": {
      "text/plain": [
       "(9965, 181)"
      ]
     },
     "execution_count": 124,
     "metadata": {},
     "output_type": "execute_result"
    }
   ],
   "source": [
    "# Add bmx info to demo info\n",
    "combined_2000 = demo_2000.merge(bmx_2000, how=\"left\", on=\"SEQN\")\n",
    "combined_2000.shape"
   ]
  },
  {
   "cell_type": "code",
   "execution_count": 125,
   "metadata": {},
   "outputs": [
    {
     "data": {
      "text/plain": [
       "181"
      ]
     },
     "execution_count": 125,
     "metadata": {},
     "output_type": "execute_result"
    }
   ],
   "source": [
    "# Verify new column count meets expectations\n",
    "# Should be number of cols in each dataframe minus 1 for shared col (SEQN)\n",
    "demo_2000.shape[1] + bmx_2000.shape[1] - 1"
   ]
  },
  {
   "cell_type": "code",
   "execution_count": 126,
   "metadata": {},
   "outputs": [],
   "source": [
    "# Repeat steps with data from survey year 2015-2016"
   ]
  },
  {
   "cell_type": "code",
   "execution_count": 127,
   "metadata": {},
   "outputs": [
    {
     "data": {
      "text/plain": [
       "(9544, 26)"
      ]
     },
     "execution_count": 127,
     "metadata": {},
     "output_type": "execute_result"
    }
   ],
   "source": [
    "filename = \"2015-2016/BMX_I.XPT\"\n",
    "bmx_2016 = pd.read_sas(filename)\n",
    "bmx_2016.shape"
   ]
  },
  {
   "cell_type": "code",
   "execution_count": 128,
   "metadata": {},
   "outputs": [
    {
     "data": {
      "text/plain": [
       "True"
      ]
     },
     "execution_count": 128,
     "metadata": {},
     "output_type": "execute_result"
    }
   ],
   "source": [
    "bmx_2016[\"SEQN\"].is_unique"
   ]
  },
  {
   "cell_type": "code",
   "execution_count": 129,
   "metadata": {},
   "outputs": [
    {
     "data": {
      "text/plain": [
       "(9971, 47)"
      ]
     },
     "execution_count": 129,
     "metadata": {},
     "output_type": "execute_result"
    }
   ],
   "source": [
    "filename = \"2015-2016/DEMO_I.XPT\"\n",
    "demo_2016 = pd.read_sas(filename)\n",
    "demo_2016.shape"
   ]
  },
  {
   "cell_type": "code",
   "execution_count": 130,
   "metadata": {},
   "outputs": [
    {
     "data": {
      "text/plain": [
       "True"
      ]
     },
     "execution_count": 130,
     "metadata": {},
     "output_type": "execute_result"
    }
   ],
   "source": [
    "demo_2016[\"SEQN\"].is_unique"
   ]
  },
  {
   "cell_type": "code",
   "execution_count": 131,
   "metadata": {},
   "outputs": [
    {
     "data": {
      "text/plain": [
       "(9971, 72)"
      ]
     },
     "execution_count": 131,
     "metadata": {},
     "output_type": "execute_result"
    }
   ],
   "source": [
    "combined_2016 = demo_2016.merge(bmx_2016, how=\"left\", on=\"SEQN\")\n",
    "combined_2016.shape"
   ]
  },
  {
   "cell_type": "code",
   "execution_count": 137,
   "metadata": {},
   "outputs": [],
   "source": [
    "# Combine 2000 and 2016 data sets"
   ]
  },
  {
   "cell_type": "code",
   "execution_count": 138,
   "metadata": {},
   "outputs": [],
   "source": [
    "# Add column to each data set so we can later\n",
    "# identify the year\n",
    "new_col = \"Survey Year\"\n",
    "combined_2000[new_col] = \"1999-2000\"\n",
    "combined_2016[new_col] = \"2015-2016\""
   ]
  },
  {
   "cell_type": "code",
   "execution_count": 140,
   "metadata": {},
   "outputs": [
    {
     "data": {
      "text/plain": [
       "(19936, 213)"
      ]
     },
     "execution_count": 140,
     "metadata": {},
     "output_type": "execute_result"
    }
   ],
   "source": [
    "# Combine dfs\n",
    "# Note: In Pandas 0.23, must explicitly pass a sorting \n",
    "# argument in order to avoid a warning (default = None)\n",
    "# Pass True to sort columns by name\n",
    "data = pd.concat([combined_2000, combined_2016], sort=True)\n",
    "data.shape"
   ]
  },
  {
   "cell_type": "code",
   "execution_count": 132,
   "metadata": {},
   "outputs": [
    {
     "data": {
      "text/plain": [
       "2.0    5082\n",
       "1.0    4883\n",
       "Name: RIAGENDR, dtype: int64"
      ]
     },
     "execution_count": 132,
     "metadata": {},
     "output_type": "execute_result"
    }
   ],
   "source": [
    "# Will review male and female participants separately\n",
    "# Review gender entries\n",
    "df = combined_2000\n",
    "col = \"RIAGENDR\"\n",
    "\n",
    "df[col].value_counts(dropna=False)"
   ]
  },
  {
   "cell_type": "code",
   "execution_count": 141,
   "metadata": {},
   "outputs": [],
   "source": [
    "# Create mapping of gender code to more readable value\n",
    "# Per codebook 1.0 = male and 2.0 = female\n",
    "gender_map = {1.0: \"Male\",\n",
    "             2.0: \"Female\",\n",
    "             np.nan: \"Missing\"}"
   ]
  },
  {
   "cell_type": "code",
   "execution_count": 142,
   "metadata": {},
   "outputs": [],
   "source": [
    "# Add column with gender code translation\n",
    "df = data\n",
    "\n",
    "new_col = col + \"_x\"\n",
    "df[new_col] = df[col].map(gender_map)"
   ]
  },
  {
   "cell_type": "code",
   "execution_count": 145,
   "metadata": {},
   "outputs": [
    {
     "name": "stdout",
     "output_type": "stream",
     "text": [
      "Participant Counts by Gender\n"
     ]
    },
    {
     "data": {
      "text/plain": [
       "RIAGENDR_x  Survey Year\n",
       "Female      1999-2000      5082\n",
       "            2015-2016      5079\n",
       "Male        1999-2000      4883\n",
       "            2015-2016      4892\n",
       "dtype: int64"
      ]
     },
     "execution_count": 145,
     "metadata": {},
     "output_type": "execute_result"
    }
   ],
   "source": [
    "print(\"Participant Counts by Gender\")\n",
    "df.groupby([new_col, \"Survey Year\"]).size()\n",
    "#df[new_col].value_counts(dropna=False)"
   ]
  },
  {
   "cell_type": "code",
   "execution_count": 173,
   "metadata": {},
   "outputs": [],
   "source": [
    "# Create viz's and compute summary stats of bmi measurements"
   ]
  },
  {
   "cell_type": "code",
   "execution_count": 170,
   "metadata": {},
   "outputs": [
    {
     "name": "stderr",
     "output_type": "stream",
     "text": [
      "/anaconda3/lib/python3.6/site-packages/matplotlib/axes/_axes.py:6462: UserWarning: The 'normed' kwarg is deprecated, and has been replaced by the 'density' kwarg.\n",
      "  warnings.warn(\"The 'normed' kwarg is deprecated, and has been \"\n",
      "/anaconda3/lib/python3.6/site-packages/matplotlib/axes/_axes.py:6462: UserWarning: The 'normed' kwarg is deprecated, and has been replaced by the 'density' kwarg.\n",
      "  warnings.warn(\"The 'normed' kwarg is deprecated, and has been \"\n"
     ]
    },
    {
     "data": {
      "image/png": "[encoded data removed]",
      "text/plain": [
       "<Figure size 432x432 with 2 Axes>"
      ]
     },
     "metadata": {},
     "output_type": "display_data"
    }
   ],
   "source": [
    "df = data\n",
    "cat_col = \"RIAGENDR\" + \"_x\"\n",
    "data_col = \"BMXBMI\"\n",
    "\n",
    "#sns.set()\n",
    "#sns.set_context(\"talk\")\n",
    "g = sns.FacetGrid(df, row=cat_col, aspect=2)\n",
    "g = g.map(sns.distplot, data_col, kde=False)"
   ]
  },
  {
   "cell_type": "code",
   "execution_count": 171,
   "metadata": {},
   "outputs": [
    {
     "data": {
      "text/plain": [
       "<matplotlib.axes._subplots.AxesSubplot at 0x1a258db0f0>"
      ]
     },
     "execution_count": 171,
     "metadata": {},
     "output_type": "execute_result"
    },
    {
     "data": {
      "image/png": "[encoded data removed]",
      "text/plain": [
       "<Figure size 504x360 with 1 Axes>"
      ]
     },
     "metadata": {},
     "output_type": "display_data"
    }
   ],
   "source": [
    "plt.figure(figsize=(7, 5))\n",
    "sns.boxplot(x=cat_col, y=data_col, data=df)"
   ]
  },
  {
   "cell_type": "code",
   "execution_count": 176,
   "metadata": {},
   "outputs": [
    {
     "name": "stdout",
     "output_type": "stream",
     "text": [
      "BMI Summary Stats - All Genders\n"
     ]
    },
    {
     "data": {
      "text/plain": [
       "count    17218.000000\n",
       "mean        25.465059\n",
       "std          7.554681\n",
       "min         11.490000\n",
       "25%         19.790000\n",
       "50%         24.660000\n",
       "75%         29.800000\n",
       "max         67.300000\n",
       "Name: BMXBMI, dtype: float64"
      ]
     },
     "execution_count": 176,
     "metadata": {},
     "output_type": "execute_result"
    }
   ],
   "source": [
    "# Compute summary stats\n",
    "\n",
    "print(\"BMI Summary Stats - All Genders\")\n",
    "df[data_col].describe()"
   ]
  },
  {
   "cell_type": "code",
   "execution_count": null,
   "metadata": {},
   "outputs": [],
   "source": [
    "# Segment summary by gender\n",
    "\n",
    "#print(\"BMI Summary Stats - All Genders\")\n"
   ]
  }
 ],
 "metadata": {
  "kernelspec": {
   "display_name": "Python 3",
   "language": "python",
   "name": "python3"
  },
  "language_info": {
   "codemirror_mode": {
    "name": "ipython",
    "version": 3
   },
   "file_extension": ".py",
   "mimetype": "text/x-python",
   "name": "python",
   "nbconvert_exporter": "python",
   "pygments_lexer": "ipython3",
   "version": "3.6.5"
  }
 },
 "nbformat": 4,
 "nbformat_minor": 2
}
