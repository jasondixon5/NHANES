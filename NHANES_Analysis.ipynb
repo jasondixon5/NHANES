{
 "cells": [
  {
   "cell_type": "code",
   "execution_count": 273,
   "metadata": {},
   "outputs": [],
   "source": [
    "#### NOTES ####\n",
    "\n",
    "# 12/22/18 - Combined data from multiple years into one df\n",
    "# 12/22/18 - Research on how to make histograms for each gender bigger\n",
    "# 12/22/18 - Research on warning for deprecated 'normed' kwarg in sns.distplot (matplotlib)\n",
    "# 12/22/18 - Used aspect arg in FacetGrid func to increase size of histograms for gender BMI\n",
    "# 12/22/18 - Removed separate df's created for male and female, since viz args allow for\n",
    "#             segmenting on a category like gender\n"
   ]
  },
  {
   "cell_type": "code",
   "execution_count": 325,
   "metadata": {},
   "outputs": [],
   "source": [
    "import importlib\n",
    "import matplotlib.pyplot as plt\n",
    "import numpy as np\n",
    "import pandas as pd\n",
    "from scipy import stats\n",
    "import seaborn as sns\n",
    "\n",
    "\n",
    "import workbench as wp"
   ]
  },
  {
   "cell_type": "code",
   "execution_count": 275,
   "metadata": {},
   "outputs": [],
   "source": [
    "# Reload workbench module so changes are included\n",
    "_ = importlib.reload(wp)"
   ]
  },
  {
   "cell_type": "code",
   "execution_count": 276,
   "metadata": {},
   "outputs": [
    {
     "data": {
      "text/plain": [
       "(9965, 144)"
      ]
     },
     "execution_count": 276,
     "metadata": {},
     "output_type": "execute_result"
    }
   ],
   "source": [
    "# Import demographic data (e.g., gender)\n",
    "# for each participant\n",
    "filename = \"1999-2000/DEMO.XPT\"\n",
    "demo_2000 = pd.read_sas(filename)\n",
    "demo_2000.shape"
   ]
  },
  {
   "cell_type": "code",
   "execution_count": 277,
   "metadata": {},
   "outputs": [
    {
     "data": {
      "text/plain": [
       "True"
      ]
     },
     "execution_count": 277,
     "metadata": {},
     "output_type": "execute_result"
    }
   ],
   "source": [
    "# Participant identified in SEQN column\n",
    "# Confirm dataset has only one entry per participant\n",
    "demo_2000[\"SEQN\"].is_unique"
   ]
  },
  {
   "cell_type": "code",
   "execution_count": 278,
   "metadata": {},
   "outputs": [
    {
     "data": {
      "text/plain": [
       "(9282, 38)"
      ]
     },
     "execution_count": 278,
     "metadata": {},
     "output_type": "execute_result"
    }
   ],
   "source": [
    "# Import body measurement data\n",
    "filename = \"1999-2000/BMX.XPT\"\n",
    "bmx_2000 = pd.read_sas(filename)\n",
    "bmx_2000.shape"
   ]
  },
  {
   "cell_type": "code",
   "execution_count": 279,
   "metadata": {},
   "outputs": [
    {
     "data": {
      "text/plain": [
       "True"
      ]
     },
     "execution_count": 279,
     "metadata": {},
     "output_type": "execute_result"
    }
   ],
   "source": [
    "# Participant identified in SEQN column\n",
    "# Confirm dataset has only one entry per participant\n",
    "bmx_2000[\"SEQN\"].is_unique"
   ]
  },
  {
   "cell_type": "code",
   "execution_count": 280,
   "metadata": {},
   "outputs": [
    {
     "data": {
      "text/plain": [
       "(9965, 181)"
      ]
     },
     "execution_count": 280,
     "metadata": {},
     "output_type": "execute_result"
    }
   ],
   "source": [
    "# Add bmx info to demo info\n",
    "combined_2000 = demo_2000.merge(bmx_2000, how=\"left\", on=\"SEQN\")\n",
    "combined_2000.shape"
   ]
  },
  {
   "cell_type": "code",
   "execution_count": 281,
   "metadata": {},
   "outputs": [
    {
     "data": {
      "text/plain": [
       "181"
      ]
     },
     "execution_count": 281,
     "metadata": {},
     "output_type": "execute_result"
    }
   ],
   "source": [
    "# Verify new column count meets expectations\n",
    "# Should be number of cols in each dataframe minus 1 for shared col (SEQN)\n",
    "demo_2000.shape[1] + bmx_2000.shape[1] - 1"
   ]
  },
  {
   "cell_type": "code",
   "execution_count": 282,
   "metadata": {},
   "outputs": [],
   "source": [
    "# Repeat steps with data from survey year 2015-2016"
   ]
  },
  {
   "cell_type": "code",
   "execution_count": 283,
   "metadata": {},
   "outputs": [
    {
     "data": {
      "text/plain": [
       "(9544, 26)"
      ]
     },
     "execution_count": 283,
     "metadata": {},
     "output_type": "execute_result"
    }
   ],
   "source": [
    "filename = \"2015-2016/BMX_I.XPT\"\n",
    "bmx_2016 = pd.read_sas(filename)\n",
    "bmx_2016.shape"
   ]
  },
  {
   "cell_type": "code",
   "execution_count": 284,
   "metadata": {},
   "outputs": [
    {
     "data": {
      "text/plain": [
       "True"
      ]
     },
     "execution_count": 284,
     "metadata": {},
     "output_type": "execute_result"
    }
   ],
   "source": [
    "bmx_2016[\"SEQN\"].is_unique"
   ]
  },
  {
   "cell_type": "code",
   "execution_count": 285,
   "metadata": {},
   "outputs": [
    {
     "data": {
      "text/plain": [
       "(9971, 47)"
      ]
     },
     "execution_count": 285,
     "metadata": {},
     "output_type": "execute_result"
    }
   ],
   "source": [
    "filename = \"2015-2016/DEMO_I.XPT\"\n",
    "demo_2016 = pd.read_sas(filename)\n",
    "demo_2016.shape"
   ]
  },
  {
   "cell_type": "code",
   "execution_count": 286,
   "metadata": {},
   "outputs": [
    {
     "data": {
      "text/plain": [
       "True"
      ]
     },
     "execution_count": 286,
     "metadata": {},
     "output_type": "execute_result"
    }
   ],
   "source": [
    "demo_2016[\"SEQN\"].is_unique"
   ]
  },
  {
   "cell_type": "code",
   "execution_count": 287,
   "metadata": {},
   "outputs": [
    {
     "data": {
      "text/plain": [
       "(9971, 72)"
      ]
     },
     "execution_count": 287,
     "metadata": {},
     "output_type": "execute_result"
    }
   ],
   "source": [
    "combined_2016 = demo_2016.merge(bmx_2016, how=\"left\", on=\"SEQN\")\n",
    "combined_2016.shape"
   ]
  },
  {
   "cell_type": "code",
   "execution_count": 288,
   "metadata": {},
   "outputs": [],
   "source": [
    "# Combine 2000 and 2016 data sets"
   ]
  },
  {
   "cell_type": "code",
   "execution_count": 289,
   "metadata": {},
   "outputs": [],
   "source": [
    "# Add column to each data set so we can later\n",
    "# identify the year\n",
    "new_col = \"Survey Year\"\n",
    "combined_2000[new_col] = \"1999-2000\"\n",
    "combined_2016[new_col] = \"2015-2016\""
   ]
  },
  {
   "cell_type": "code",
   "execution_count": 290,
   "metadata": {},
   "outputs": [
    {
     "data": {
      "text/plain": [
       "(19936, 212)"
      ]
     },
     "execution_count": 290,
     "metadata": {},
     "output_type": "execute_result"
    }
   ],
   "source": [
    "# Combine dfs\n",
    "# Note: In Pandas 0.23, must explicitly pass a sorting \n",
    "# argument in order to avoid a warning (default = None)\n",
    "# Pass True to sort columns by name\n",
    "data = pd.concat([combined_2000, combined_2016], sort=True)\n",
    "data.shape"
   ]
  },
  {
   "cell_type": "code",
   "execution_count": 291,
   "metadata": {},
   "outputs": [
    {
     "data": {
      "text/plain": [
       "2.0    5082\n",
       "1.0    4883\n",
       "Name: RIAGENDR, dtype: int64"
      ]
     },
     "execution_count": 291,
     "metadata": {},
     "output_type": "execute_result"
    }
   ],
   "source": [
    "# Will review male and female participants separately\n",
    "# Review gender entries\n",
    "df = combined_2000\n",
    "col = \"RIAGENDR\"\n",
    "\n",
    "df[col].value_counts(dropna=False)"
   ]
  },
  {
   "cell_type": "code",
   "execution_count": 292,
   "metadata": {},
   "outputs": [],
   "source": [
    "# Create mapping of gender code to more readable value\n",
    "# Per codebook 1.0 = male and 2.0 = female\n",
    "gender_map = {1.0: \"Male\",\n",
    "             2.0: \"Female\",\n",
    "             np.nan: \"Missing\"}"
   ]
  },
  {
   "cell_type": "code",
   "execution_count": 293,
   "metadata": {},
   "outputs": [],
   "source": [
    "# Add column with gender code translation\n",
    "df = data\n",
    "\n",
    "new_col = col + \"_x\"\n",
    "df[new_col] = df[col].map(gender_map)"
   ]
  },
  {
   "cell_type": "code",
   "execution_count": 294,
   "metadata": {},
   "outputs": [
    {
     "name": "stdout",
     "output_type": "stream",
     "text": [
      "Participant Counts by Gender\n"
     ]
    },
    {
     "data": {
      "text/plain": [
       "RIAGENDR_x  Survey Year\n",
       "Female      1999-2000      5082\n",
       "            2015-2016      5079\n",
       "Male        1999-2000      4883\n",
       "            2015-2016      4892\n",
       "dtype: int64"
      ]
     },
     "execution_count": 294,
     "metadata": {},
     "output_type": "execute_result"
    }
   ],
   "source": [
    "print(\"Participant Counts by Gender\")\n",
    "df.groupby([new_col, \"Survey Year\"]).size()\n",
    "#df[new_col].value_counts(dropna=False)"
   ]
  },
  {
   "cell_type": "code",
   "execution_count": 295,
   "metadata": {},
   "outputs": [],
   "source": [
    "# Create viz's and compute summary stats of bmi measurements"
   ]
  },
  {
   "cell_type": "code",
   "execution_count": 296,
   "metadata": {},
   "outputs": [
    {
     "name": "stderr",
     "output_type": "stream",
     "text": [
      "/anaconda3/lib/python3.6/site-packages/matplotlib/axes/_axes.py:6462: UserWarning: The 'normed' kwarg is deprecated, and has been replaced by the 'density' kwarg.\n",
      "  warnings.warn(\"The 'normed' kwarg is deprecated, and has been \"\n",
      "/anaconda3/lib/python3.6/site-packages/matplotlib/axes/_axes.py:6462: UserWarning: The 'normed' kwarg is deprecated, and has been replaced by the 'density' kwarg.\n",
      "  warnings.warn(\"The 'normed' kwarg is deprecated, and has been \"\n"
     ]
    },
    {
     "data": {
      "image/png": "[encoded data removed]",
      "text/plain": [
       "<Figure size 432x432 with 2 Axes>"
      ]
     },
     "metadata": {},
     "output_type": "display_data"
    }
   ],
   "source": [
    "df = data\n",
    "cat_col = \"RIAGENDR\" + \"_x\"\n",
    "data_col = \"BMXBMI\"\n",
    "\n",
    "#sns.set()\n",
    "#sns.set_context(\"talk\")\n",
    "g = sns.FacetGrid(df, row=cat_col, aspect=2)\n",
    "g = g.map(sns.distplot, data_col, kde=False)"
   ]
  },
  {
   "cell_type": "code",
   "execution_count": 297,
   "metadata": {},
   "outputs": [
    {
     "data": {
      "text/plain": [
       "<matplotlib.axes._subplots.AxesSubplot at 0x1a25b96128>"
      ]
     },
     "execution_count": 297,
     "metadata": {},
     "output_type": "execute_result"
    },
    {
     "data": {
      "image/png": "[encoded data removed]",
      "text/plain": [
       "<Figure size 504x360 with 1 Axes>"
      ]
     },
     "metadata": {},
     "output_type": "display_data"
    }
   ],
   "source": [
    "plt.figure(figsize=(7, 5))\n",
    "sns.boxplot(x=cat_col, y=data_col, data=df)"
   ]
  },
  {
   "cell_type": "code",
   "execution_count": 298,
   "metadata": {},
   "outputs": [
    {
     "name": "stdout",
     "output_type": "stream",
     "text": [
      "BMI Summary Stats - All Genders\n"
     ]
    },
    {
     "data": {
      "text/plain": [
       "count    17218.000000\n",
       "mean        25.465059\n",
       "std          7.554681\n",
       "min         11.490000\n",
       "25%         19.790000\n",
       "50%         24.660000\n",
       "75%         29.800000\n",
       "max         67.300000\n",
       "Name: BMXBMI, dtype: float64"
      ]
     },
     "execution_count": 298,
     "metadata": {},
     "output_type": "execute_result"
    }
   ],
   "source": [
    "# Compute summary stats\n",
    "\n",
    "print(\"BMI Summary Stats - All Genders\")\n",
    "df[data_col].describe()"
   ]
  },
  {
   "cell_type": "code",
   "execution_count": 299,
   "metadata": {},
   "outputs": [
    {
     "name": "stdout",
     "output_type": "stream",
     "text": [
      "BMI Summary Stats - Male and Female Participants\n"
     ]
    },
    {
     "data": {
      "text/html": [
       "<div>\n",
       "<style scoped>\n",
       "    .dataframe tbody tr th:only-of-type {\n",
       "        vertical-align: middle;\n",
       "    }\n",
       "\n",
       "    .dataframe tbody tr th {\n",
       "        vertical-align: top;\n",
       "    }\n",
       "\n",
       "    .dataframe thead th {\n",
       "        text-align: right;\n",
       "    }\n",
       "</style>\n",
       "<table border=\"1\" class=\"dataframe\">\n",
       "  <thead>\n",
       "    <tr style=\"text-align: right;\">\n",
       "      <th>RIAGENDR_x</th>\n",
       "      <th>Female</th>\n",
       "      <th>Male</th>\n",
       "    </tr>\n",
       "  </thead>\n",
       "  <tbody>\n",
       "    <tr>\n",
       "      <th>count</th>\n",
       "      <td>8807.000000</td>\n",
       "      <td>8411.000000</td>\n",
       "    </tr>\n",
       "    <tr>\n",
       "      <th>mean</th>\n",
       "      <td>26.002057</td>\n",
       "      <td>24.902777</td>\n",
       "    </tr>\n",
       "    <tr>\n",
       "      <th>std</th>\n",
       "      <td>8.045325</td>\n",
       "      <td>6.960413</td>\n",
       "    </tr>\n",
       "    <tr>\n",
       "      <th>min</th>\n",
       "      <td>11.490000</td>\n",
       "      <td>12.150000</td>\n",
       "    </tr>\n",
       "    <tr>\n",
       "      <th>25%</th>\n",
       "      <td>20.000000</td>\n",
       "      <td>19.500000</td>\n",
       "    </tr>\n",
       "    <tr>\n",
       "      <th>50%</th>\n",
       "      <td>24.900000</td>\n",
       "      <td>24.470000</td>\n",
       "    </tr>\n",
       "    <tr>\n",
       "      <th>75%</th>\n",
       "      <td>30.755000</td>\n",
       "      <td>29.000000</td>\n",
       "    </tr>\n",
       "    <tr>\n",
       "      <th>max</th>\n",
       "      <td>67.300000</td>\n",
       "      <td>60.870000</td>\n",
       "    </tr>\n",
       "  </tbody>\n",
       "</table>\n",
       "</div>"
      ],
      "text/plain": [
       "RIAGENDR_x       Female         Male\n",
       "count       8807.000000  8411.000000\n",
       "mean          26.002057    24.902777\n",
       "std            8.045325     6.960413\n",
       "min           11.490000    12.150000\n",
       "25%           20.000000    19.500000\n",
       "50%           24.900000    24.470000\n",
       "75%           30.755000    29.000000\n",
       "max           67.300000    60.870000"
      ]
     },
     "execution_count": 299,
     "metadata": {},
     "output_type": "execute_result"
    }
   ],
   "source": [
    "# Segment summary by gender\n",
    "\n",
    "print(\"BMI Summary Stats - Male and Female Participants\")\n",
    "df.groupby(cat_col).describe()[data_col].T"
   ]
  },
  {
   "cell_type": "code",
   "execution_count": 300,
   "metadata": {},
   "outputs": [],
   "source": [
    "# Explore BMI's between 2000 and 2016 surveys"
   ]
  },
  {
   "cell_type": "code",
   "execution_count": 301,
   "metadata": {},
   "outputs": [],
   "source": [
    "# Create df's for each gender response"
   ]
  },
  {
   "cell_type": "code",
   "execution_count": 302,
   "metadata": {},
   "outputs": [],
   "source": [
    "df = data\n",
    "male_filter = (df[\"RIAGENDR\" + \"_x\"] == \"Male\")\n",
    "female_filter = (df[\"RIAGENDR\" + \"_x\"] == \"Female\")\n",
    "\n",
    "data_male = df[male_filter]\n",
    "data_female = df[female_filter]"
   ]
  },
  {
   "cell_type": "code",
   "execution_count": 303,
   "metadata": {},
   "outputs": [],
   "source": [
    "# Gender response = Male"
   ]
  },
  {
   "cell_type": "code",
   "execution_count": 304,
   "metadata": {},
   "outputs": [
    {
     "name": "stderr",
     "output_type": "stream",
     "text": [
      "/anaconda3/lib/python3.6/site-packages/matplotlib/axes/_axes.py:6462: UserWarning: The 'normed' kwarg is deprecated, and has been replaced by the 'density' kwarg.\n",
      "  warnings.warn(\"The 'normed' kwarg is deprecated, and has been \"\n",
      "/anaconda3/lib/python3.6/site-packages/matplotlib/axes/_axes.py:6462: UserWarning: The 'normed' kwarg is deprecated, and has been replaced by the 'density' kwarg.\n",
      "  warnings.warn(\"The 'normed' kwarg is deprecated, and has been \"\n"
     ]
    },
    {
     "data": {
      "image/png": "[encoded data removed]",
      "text/plain": [
       "<Figure size 432x432 with 2 Axes>"
      ]
     },
     "metadata": {},
     "output_type": "display_data"
    }
   ],
   "source": [
    "df = data_male\n",
    "cat_col = \"Survey Year\"\n",
    "data_col = \"BMXBMI\"\n",
    "\n",
    "#sns.set()\n",
    "#sns.set_context(\"talk\")\n",
    "g = sns.FacetGrid(df, row=cat_col, aspect=2)\n",
    "g = g.map(sns.distplot, data_col, kde=False)"
   ]
  },
  {
   "cell_type": "code",
   "execution_count": 305,
   "metadata": {},
   "outputs": [
    {
     "data": {
      "text/plain": [
       "<matplotlib.axes._subplots.AxesSubplot at 0x11db40cf8>"
      ]
     },
     "execution_count": 305,
     "metadata": {},
     "output_type": "execute_result"
    },
    {
     "data": {
      "image/png": "[encoded data removed]",
      "text/plain": [
       "<Figure size 504x360 with 1 Axes>"
      ]
     },
     "metadata": {},
     "output_type": "display_data"
    }
   ],
   "source": [
    "plt.figure(figsize=(7, 5))\n",
    "sns.boxplot(x=cat_col, y=data_col, data=df)"
   ]
  },
  {
   "cell_type": "code",
   "execution_count": 306,
   "metadata": {},
   "outputs": [
    {
     "name": "stdout",
     "output_type": "stream",
     "text": [
      "BMI Summary Stats - Male\n"
     ]
    },
    {
     "data": {
      "text/html": [
       "<div>\n",
       "<style scoped>\n",
       "    .dataframe tbody tr th:only-of-type {\n",
       "        vertical-align: middle;\n",
       "    }\n",
       "\n",
       "    .dataframe tbody tr th {\n",
       "        vertical-align: top;\n",
       "    }\n",
       "\n",
       "    .dataframe thead th {\n",
       "        text-align: right;\n",
       "    }\n",
       "</style>\n",
       "<table border=\"1\" class=\"dataframe\">\n",
       "  <thead>\n",
       "    <tr style=\"text-align: right;\">\n",
       "      <th>Survey Year</th>\n",
       "      <th>1999-2000</th>\n",
       "      <th>2015-2016</th>\n",
       "    </tr>\n",
       "  </thead>\n",
       "  <tbody>\n",
       "    <tr>\n",
       "      <th>count</th>\n",
       "      <td>4125.000000</td>\n",
       "      <td>4286.000000</td>\n",
       "    </tr>\n",
       "    <tr>\n",
       "      <th>mean</th>\n",
       "      <td>24.309008</td>\n",
       "      <td>25.474242</td>\n",
       "    </tr>\n",
       "    <tr>\n",
       "      <th>std</th>\n",
       "      <td>6.476153</td>\n",
       "      <td>7.352205</td>\n",
       "    </tr>\n",
       "    <tr>\n",
       "      <th>min</th>\n",
       "      <td>12.150000</td>\n",
       "      <td>12.200000</td>\n",
       "    </tr>\n",
       "    <tr>\n",
       "      <th>25%</th>\n",
       "      <td>19.360000</td>\n",
       "      <td>19.700000</td>\n",
       "    </tr>\n",
       "    <tr>\n",
       "      <th>50%</th>\n",
       "      <td>23.940000</td>\n",
       "      <td>25.000000</td>\n",
       "    </tr>\n",
       "    <tr>\n",
       "      <th>75%</th>\n",
       "      <td>28.280000</td>\n",
       "      <td>29.700000</td>\n",
       "    </tr>\n",
       "    <tr>\n",
       "      <th>max</th>\n",
       "      <td>60.870000</td>\n",
       "      <td>58.800000</td>\n",
       "    </tr>\n",
       "  </tbody>\n",
       "</table>\n",
       "</div>"
      ],
      "text/plain": [
       "Survey Year    1999-2000    2015-2016\n",
       "count        4125.000000  4286.000000\n",
       "mean           24.309008    25.474242\n",
       "std             6.476153     7.352205\n",
       "min            12.150000    12.200000\n",
       "25%            19.360000    19.700000\n",
       "50%            23.940000    25.000000\n",
       "75%            28.280000    29.700000\n",
       "max            60.870000    58.800000"
      ]
     },
     "execution_count": 306,
     "metadata": {},
     "output_type": "execute_result"
    }
   ],
   "source": [
    "# Summary stats segmented by survey year\n",
    "\n",
    "print(\"BMI Summary Stats - Male\")\n",
    "df.groupby(cat_col).describe()[data_col].T"
   ]
  },
  {
   "cell_type": "code",
   "execution_count": 307,
   "metadata": {},
   "outputs": [],
   "source": [
    "# Gender response = Female"
   ]
  },
  {
   "cell_type": "code",
   "execution_count": 308,
   "metadata": {},
   "outputs": [
    {
     "name": "stderr",
     "output_type": "stream",
     "text": [
      "/anaconda3/lib/python3.6/site-packages/matplotlib/axes/_axes.py:6462: UserWarning: The 'normed' kwarg is deprecated, and has been replaced by the 'density' kwarg.\n",
      "  warnings.warn(\"The 'normed' kwarg is deprecated, and has been \"\n",
      "/anaconda3/lib/python3.6/site-packages/matplotlib/axes/_axes.py:6462: UserWarning: The 'normed' kwarg is deprecated, and has been replaced by the 'density' kwarg.\n",
      "  warnings.warn(\"The 'normed' kwarg is deprecated, and has been \"\n"
     ]
    },
    {
     "data": {
      "image/png": "[encoded data removed]",
      "text/plain": [
       "<Figure size 432x432 with 2 Axes>"
      ]
     },
     "metadata": {},
     "output_type": "display_data"
    }
   ],
   "source": [
    "df = data_female\n",
    "cat_col = \"Survey Year\"\n",
    "data_col = \"BMXBMI\"\n",
    "\n",
    "#sns.set()\n",
    "#sns.set_context(\"talk\")\n",
    "g = sns.FacetGrid(df, row=cat_col, aspect=2)\n",
    "g = g.map(sns.distplot, data_col, kde=False)"
   ]
  },
  {
   "cell_type": "code",
   "execution_count": 309,
   "metadata": {},
   "outputs": [
    {
     "data": {
      "text/plain": [
       "<matplotlib.axes._subplots.AxesSubplot at 0x1a266b24e0>"
      ]
     },
     "execution_count": 309,
     "metadata": {},
     "output_type": "execute_result"
    },
    {
     "data": {
      "image/png": "[encoded data removed]",
      "text/plain": [
       "<Figure size 504x360 with 1 Axes>"
      ]
     },
     "metadata": {},
     "output_type": "display_data"
    }
   ],
   "source": [
    "plt.figure(figsize=(7, 5))\n",
    "sns.boxplot(x=cat_col, y=data_col, data=df)"
   ]
  },
  {
   "cell_type": "code",
   "execution_count": 310,
   "metadata": {},
   "outputs": [
    {
     "name": "stdout",
     "output_type": "stream",
     "text": [
      "BMI Summary Stats - Female\n"
     ]
    },
    {
     "data": {
      "text/html": [
       "<div>\n",
       "<style scoped>\n",
       "    .dataframe tbody tr th:only-of-type {\n",
       "        vertical-align: middle;\n",
       "    }\n",
       "\n",
       "    .dataframe tbody tr th {\n",
       "        vertical-align: top;\n",
       "    }\n",
       "\n",
       "    .dataframe thead th {\n",
       "        text-align: right;\n",
       "    }\n",
       "</style>\n",
       "<table border=\"1\" class=\"dataframe\">\n",
       "  <thead>\n",
       "    <tr style=\"text-align: right;\">\n",
       "      <th>Survey Year</th>\n",
       "      <th>1999-2000</th>\n",
       "      <th>2015-2016</th>\n",
       "    </tr>\n",
       "  </thead>\n",
       "  <tbody>\n",
       "    <tr>\n",
       "      <th>count</th>\n",
       "      <td>4337.000000</td>\n",
       "      <td>4470.000000</td>\n",
       "    </tr>\n",
       "    <tr>\n",
       "      <th>mean</th>\n",
       "      <td>25.450892</td>\n",
       "      <td>26.536823</td>\n",
       "    </tr>\n",
       "    <tr>\n",
       "      <th>std</th>\n",
       "      <td>7.535545</td>\n",
       "      <td>8.477459</td>\n",
       "    </tr>\n",
       "    <tr>\n",
       "      <th>min</th>\n",
       "      <td>11.490000</td>\n",
       "      <td>11.500000</td>\n",
       "    </tr>\n",
       "    <tr>\n",
       "      <th>25%</th>\n",
       "      <td>19.960000</td>\n",
       "      <td>20.000000</td>\n",
       "    </tr>\n",
       "    <tr>\n",
       "      <th>50%</th>\n",
       "      <td>24.370000</td>\n",
       "      <td>25.400000</td>\n",
       "    </tr>\n",
       "    <tr>\n",
       "      <th>75%</th>\n",
       "      <td>29.880000</td>\n",
       "      <td>31.500000</td>\n",
       "    </tr>\n",
       "    <tr>\n",
       "      <th>max</th>\n",
       "      <td>66.440000</td>\n",
       "      <td>67.300000</td>\n",
       "    </tr>\n",
       "  </tbody>\n",
       "</table>\n",
       "</div>"
      ],
      "text/plain": [
       "Survey Year    1999-2000    2015-2016\n",
       "count        4337.000000  4470.000000\n",
       "mean           25.450892    26.536823\n",
       "std             7.535545     8.477459\n",
       "min            11.490000    11.500000\n",
       "25%            19.960000    20.000000\n",
       "50%            24.370000    25.400000\n",
       "75%            29.880000    31.500000\n",
       "max            66.440000    67.300000"
      ]
     },
     "execution_count": 310,
     "metadata": {},
     "output_type": "execute_result"
    }
   ],
   "source": [
    "# Summary stats segmented by survey year\n",
    "\n",
    "print(\"BMI Summary Stats - Female\")\n",
    "df.groupby(cat_col).describe()[data_col].T"
   ]
  },
  {
   "cell_type": "code",
   "execution_count": 311,
   "metadata": {},
   "outputs": [
    {
     "data": {
      "text/plain": [
       "Index(['count', 'mean', 'std', 'min', '25%', '50%', '75%', 'max'], dtype='object')"
      ]
     },
     "execution_count": 311,
     "metadata": {},
     "output_type": "execute_result"
    }
   ],
   "source": [
    "df.groupby(cat_col).describe()[data_col].T.index"
   ]
  },
  {
   "cell_type": "code",
   "execution_count": 312,
   "metadata": {},
   "outputs": [
    {
     "data": {
      "text/html": [
       "<div>\n",
       "<style scoped>\n",
       "    .dataframe tbody tr th:only-of-type {\n",
       "        vertical-align: middle;\n",
       "    }\n",
       "\n",
       "    .dataframe tbody tr th {\n",
       "        vertical-align: top;\n",
       "    }\n",
       "\n",
       "    .dataframe thead tr th {\n",
       "        text-align: left;\n",
       "    }\n",
       "</style>\n",
       "<table border=\"1\" class=\"dataframe\">\n",
       "  <thead>\n",
       "    <tr>\n",
       "      <th>RIAGENDR_x</th>\n",
       "      <th colspan=\"2\" halign=\"left\">Female</th>\n",
       "      <th colspan=\"2\" halign=\"left\">Male</th>\n",
       "    </tr>\n",
       "    <tr>\n",
       "      <th>Survey Year</th>\n",
       "      <th>1999-2000</th>\n",
       "      <th>2015-2016</th>\n",
       "      <th>1999-2000</th>\n",
       "      <th>2015-2016</th>\n",
       "    </tr>\n",
       "  </thead>\n",
       "  <tbody>\n",
       "    <tr>\n",
       "      <th>count</th>\n",
       "      <td>4337.000000</td>\n",
       "      <td>4470.000000</td>\n",
       "      <td>4125.000000</td>\n",
       "      <td>4286.000000</td>\n",
       "    </tr>\n",
       "    <tr>\n",
       "      <th>mean</th>\n",
       "      <td>25.450892</td>\n",
       "      <td>26.536823</td>\n",
       "      <td>24.309008</td>\n",
       "      <td>25.474242</td>\n",
       "    </tr>\n",
       "    <tr>\n",
       "      <th>std</th>\n",
       "      <td>7.535545</td>\n",
       "      <td>8.477459</td>\n",
       "      <td>6.476153</td>\n",
       "      <td>7.352205</td>\n",
       "    </tr>\n",
       "    <tr>\n",
       "      <th>min</th>\n",
       "      <td>11.490000</td>\n",
       "      <td>11.500000</td>\n",
       "      <td>12.150000</td>\n",
       "      <td>12.200000</td>\n",
       "    </tr>\n",
       "    <tr>\n",
       "      <th>25%</th>\n",
       "      <td>19.960000</td>\n",
       "      <td>20.000000</td>\n",
       "      <td>19.360000</td>\n",
       "      <td>19.700000</td>\n",
       "    </tr>\n",
       "    <tr>\n",
       "      <th>50%</th>\n",
       "      <td>24.370000</td>\n",
       "      <td>25.400000</td>\n",
       "      <td>23.940000</td>\n",
       "      <td>25.000000</td>\n",
       "    </tr>\n",
       "    <tr>\n",
       "      <th>75%</th>\n",
       "      <td>29.880000</td>\n",
       "      <td>31.500000</td>\n",
       "      <td>28.280000</td>\n",
       "      <td>29.700000</td>\n",
       "    </tr>\n",
       "    <tr>\n",
       "      <th>max</th>\n",
       "      <td>66.440000</td>\n",
       "      <td>67.300000</td>\n",
       "      <td>60.870000</td>\n",
       "      <td>58.800000</td>\n",
       "    </tr>\n",
       "  </tbody>\n",
       "</table>\n",
       "</div>"
      ],
      "text/plain": [
       "RIAGENDR_x        Female                      Male             \n",
       "Survey Year    1999-2000    2015-2016    1999-2000    2015-2016\n",
       "count        4337.000000  4470.000000  4125.000000  4286.000000\n",
       "mean           25.450892    26.536823    24.309008    25.474242\n",
       "std             7.535545     8.477459     6.476153     7.352205\n",
       "min            11.490000    11.500000    12.150000    12.200000\n",
       "25%            19.960000    20.000000    19.360000    19.700000\n",
       "50%            24.370000    25.400000    23.940000    25.000000\n",
       "75%            29.880000    31.500000    28.280000    29.700000\n",
       "max            66.440000    67.300000    60.870000    58.800000"
      ]
     },
     "execution_count": 312,
     "metadata": {},
     "output_type": "execute_result"
    }
   ],
   "source": [
    "df = data\n",
    "data_segmented_summary_stats = df.groupby([\"RIAGENDR\" + \"_x\", \"Survey Year\"]).describe()[data_col].T\n",
    "data_segmented_summary_stats"
   ]
  },
  {
   "cell_type": "code",
   "execution_count": 313,
   "metadata": {},
   "outputs": [],
   "source": [
    "# Obtain differences between each survey year for each gender"
   ]
  },
  {
   "cell_type": "code",
   "execution_count": 314,
   "metadata": {},
   "outputs": [],
   "source": [
    "calc_label = \"Diff, Y2000 to Y2016\"\n",
    "\n",
    "gen = \"Female\"\n",
    "\n",
    "data_segmented_summary_stats.loc[:, (gen, calc_label)] = \\\n",
    "    data_segmented_summary_stats.loc[:, gen].iloc[:, 1] \\\n",
    "    - data_segmented_summary_stats.loc[:, gen].iloc[:, 0]\n",
    "\n",
    "gen = \"Male\"\n",
    "\n",
    "data_segmented_summary_stats.loc[:, (gen, calc_label)] = \\\n",
    "    data_segmented_summary_stats.loc[:, gen].iloc[:, 1] \\\n",
    "    - data_segmented_summary_stats.loc[:, gen].iloc[:, 0]"
   ]
  },
  {
   "cell_type": "code",
   "execution_count": 315,
   "metadata": {},
   "outputs": [
    {
     "data": {
      "text/html": [
       "<div>\n",
       "<style scoped>\n",
       "    .dataframe tbody tr th:only-of-type {\n",
       "        vertical-align: middle;\n",
       "    }\n",
       "\n",
       "    .dataframe tbody tr th {\n",
       "        vertical-align: top;\n",
       "    }\n",
       "\n",
       "    .dataframe thead tr th {\n",
       "        text-align: left;\n",
       "    }\n",
       "</style>\n",
       "<table border=\"1\" class=\"dataframe\">\n",
       "  <thead>\n",
       "    <tr>\n",
       "      <th>RIAGENDR_x</th>\n",
       "      <th colspan=\"2\" halign=\"left\">Female</th>\n",
       "      <th colspan=\"2\" halign=\"left\">Male</th>\n",
       "      <th>Female</th>\n",
       "      <th>Male</th>\n",
       "    </tr>\n",
       "    <tr>\n",
       "      <th>Survey Year</th>\n",
       "      <th>1999-2000</th>\n",
       "      <th>2015-2016</th>\n",
       "      <th>1999-2000</th>\n",
       "      <th>2015-2016</th>\n",
       "      <th>Diff, Y2000 to Y2016</th>\n",
       "      <th>Diff, Y2000 to Y2016</th>\n",
       "    </tr>\n",
       "  </thead>\n",
       "  <tbody>\n",
       "    <tr>\n",
       "      <th>count</th>\n",
       "      <td>4337.000000</td>\n",
       "      <td>4470.000000</td>\n",
       "      <td>4125.000000</td>\n",
       "      <td>4286.000000</td>\n",
       "      <td>133.000000</td>\n",
       "      <td>161.000000</td>\n",
       "    </tr>\n",
       "    <tr>\n",
       "      <th>mean</th>\n",
       "      <td>25.450892</td>\n",
       "      <td>26.536823</td>\n",
       "      <td>24.309008</td>\n",
       "      <td>25.474242</td>\n",
       "      <td>1.085931</td>\n",
       "      <td>1.165233</td>\n",
       "    </tr>\n",
       "    <tr>\n",
       "      <th>std</th>\n",
       "      <td>7.535545</td>\n",
       "      <td>8.477459</td>\n",
       "      <td>6.476153</td>\n",
       "      <td>7.352205</td>\n",
       "      <td>0.941914</td>\n",
       "      <td>0.876052</td>\n",
       "    </tr>\n",
       "    <tr>\n",
       "      <th>min</th>\n",
       "      <td>11.490000</td>\n",
       "      <td>11.500000</td>\n",
       "      <td>12.150000</td>\n",
       "      <td>12.200000</td>\n",
       "      <td>0.010000</td>\n",
       "      <td>0.050000</td>\n",
       "    </tr>\n",
       "    <tr>\n",
       "      <th>25%</th>\n",
       "      <td>19.960000</td>\n",
       "      <td>20.000000</td>\n",
       "      <td>19.360000</td>\n",
       "      <td>19.700000</td>\n",
       "      <td>0.040000</td>\n",
       "      <td>0.340000</td>\n",
       "    </tr>\n",
       "    <tr>\n",
       "      <th>50%</th>\n",
       "      <td>24.370000</td>\n",
       "      <td>25.400000</td>\n",
       "      <td>23.940000</td>\n",
       "      <td>25.000000</td>\n",
       "      <td>1.030000</td>\n",
       "      <td>1.060000</td>\n",
       "    </tr>\n",
       "    <tr>\n",
       "      <th>75%</th>\n",
       "      <td>29.880000</td>\n",
       "      <td>31.500000</td>\n",
       "      <td>28.280000</td>\n",
       "      <td>29.700000</td>\n",
       "      <td>1.620000</td>\n",
       "      <td>1.420000</td>\n",
       "    </tr>\n",
       "    <tr>\n",
       "      <th>max</th>\n",
       "      <td>66.440000</td>\n",
       "      <td>67.300000</td>\n",
       "      <td>60.870000</td>\n",
       "      <td>58.800000</td>\n",
       "      <td>0.860000</td>\n",
       "      <td>-2.070000</td>\n",
       "    </tr>\n",
       "  </tbody>\n",
       "</table>\n",
       "</div>"
      ],
      "text/plain": [
       "RIAGENDR_x        Female                      Male               \\\n",
       "Survey Year    1999-2000    2015-2016    1999-2000    2015-2016   \n",
       "count        4337.000000  4470.000000  4125.000000  4286.000000   \n",
       "mean           25.450892    26.536823    24.309008    25.474242   \n",
       "std             7.535545     8.477459     6.476153     7.352205   \n",
       "min            11.490000    11.500000    12.150000    12.200000   \n",
       "25%            19.960000    20.000000    19.360000    19.700000   \n",
       "50%            24.370000    25.400000    23.940000    25.000000   \n",
       "75%            29.880000    31.500000    28.280000    29.700000   \n",
       "max            66.440000    67.300000    60.870000    58.800000   \n",
       "\n",
       "RIAGENDR_x                Female                 Male  \n",
       "Survey Year Diff, Y2000 to Y2016 Diff, Y2000 to Y2016  \n",
       "count                 133.000000           161.000000  \n",
       "mean                    1.085931             1.165233  \n",
       "std                     0.941914             0.876052  \n",
       "min                     0.010000             0.050000  \n",
       "25%                     0.040000             0.340000  \n",
       "50%                     1.030000             1.060000  \n",
       "75%                     1.620000             1.420000  \n",
       "max                     0.860000            -2.070000  "
      ]
     },
     "execution_count": 315,
     "metadata": {},
     "output_type": "execute_result"
    }
   ],
   "source": [
    "data_segmented_summary_stats"
   ]
  },
  {
   "cell_type": "code",
   "execution_count": null,
   "metadata": {},
   "outputs": [],
   "source": [
    "#Example to get scalar\n",
    "#data_segmented_summary_stats.loc[\"mean\", (\"Female\", \"Diff, Y2000 to Y2016\")]"
   ]
  },
  {
   "cell_type": "code",
   "execution_count": 322,
   "metadata": {},
   "outputs": [],
   "source": [
    "# Determine if the differences between the two years is significant"
   ]
  },
  {
   "cell_type": "code",
   "execution_count": 324,
   "metadata": {},
   "outputs": [],
   "source": [
    "# Start with gender response = Female\n",
    "\n",
    "# NULL Hypothesis: The BMI of female respondents has not significantly increased between the Y2000 and Y2016 surveys\n",
    "# Alternate Hypothesis: The BMI of female respondents has significantly increased between the Y2000 and Y2016 surveys"
   ]
  },
  {
   "cell_type": "code",
   "execution_count": 337,
   "metadata": {},
   "outputs": [
    {
     "data": {
      "text/plain": [
       "array(['1999-2000', '2015-2016'], dtype=object)"
      ]
     },
     "execution_count": 337,
     "metadata": {},
     "output_type": "execute_result"
    }
   ],
   "source": [
    "filter_col = \"Survey Year\"\n",
    "\n",
    "df = data_female\n",
    "\n",
    "df[filter_col].unique()"
   ]
  },
  {
   "cell_type": "code",
   "execution_count": 362,
   "metadata": {},
   "outputs": [],
   "source": [
    "data_col = \"BMXBMI\"\n",
    "filter_col = \"Survey Year\"\n",
    "\n",
    "df = data_female\n",
    "\n",
    "a_filter = (df[filter_col] == \"1999-2000\")\n",
    "b_filter = (df[filter_col] == \"2015-2016\")\n",
    "\n",
    "a = df[a_filter][data_col].values\n",
    "b = df[b_filter][data_col].values\n",
    "\n",
    "t_test_ind_female = stats.ttest_ind(a, b, equal_var=False, nan_policy=\"omit\")"
   ]
  },
  {
   "cell_type": "code",
   "execution_count": 359,
   "metadata": {},
   "outputs": [
    {
     "name": "stdout",
     "output_type": "stream",
     "text": [
      "Female BMI Y2000 to Y2016\n",
      "T-Statistic: -6.358118372718017\n",
      "P-Value: 0.0000000002\n"
     ]
    }
   ],
   "source": [
    "print(\"Female BMI Y2000 to Y2016\\nT-Statistic: {}\\nP-Value: {:.10f}\".format(\n",
    "t_test_female[0], t_test_female[1]))"
   ]
  },
  {
   "cell_type": "code",
   "execution_count": 384,
   "metadata": {},
   "outputs": [],
   "source": [
    "# Store data values to analyze results and verify accuracy"
   ]
  },
  {
   "cell_type": "code",
   "execution_count": 385,
   "metadata": {},
   "outputs": [],
   "source": [
    "# Create helper functions"
   ]
  },
  {
   "cell_type": "code",
   "execution_count": 363,
   "metadata": {},
   "outputs": [],
   "source": [
    "def create_df_filter(df, col, filter_value):\n",
    "    \n",
    "    return (df[col] == filter_value)"
   ]
  },
  {
   "cell_type": "code",
   "execution_count": 390,
   "metadata": {},
   "outputs": [],
   "source": [
    "def df_get_values(df, data_col, dropna=True):\n",
    "    \n",
    "    if dropna is True:\n",
    "        df = df.dropna(axis=0, subset=[data_col], how='all')\n",
    "    \n",
    "    return list(df[data_col].values)"
   ]
  },
  {
   "cell_type": "code",
   "execution_count": 403,
   "metadata": {},
   "outputs": [],
   "source": [
    "# Get BMI values for each survey year and gender\n",
    "\n",
    "df = data\n",
    "data_col = \"BMXBMI\"\n",
    "cat_col = \"RIAGENDR\" + \"_x\"\n",
    "year_col = \"Survey Year\"\n",
    "\n",
    "# Create gender filters\n",
    "female_filter = create_df_filter(df, cat_col, \"Female\")\n",
    "male_filter = create_df_filter(df, cat_col, \"Male\")\n",
    "\n",
    "# Create survey year filters\n",
    "survey_year_list = [\"1999-2000\", \"2015-2016\"]\n",
    "year_filter_dict = {\n",
    "                    survey_year: create_df_filter(\n",
    "                                df, year_col, survey_year\n",
    "                                ) for survey_year in survey_year_list}\n",
    "\n",
    "\n",
    "\n",
    "# Filter overall df and then store values for each gender and survey year\n",
    "\n",
    "# Create dictionary to store data sets\n",
    "data_sets_dict = {}\n",
    "\n",
    "female_2000_df = df[female_filter & year_filter_dict.get(survey_year)]\n",
    "female_2000_bmi = df_get_values(female_2000_df, data_col)\n",
    "data_sets_dict[\"Female_1999-2000\"] = female_2000_bmi\n",
    "\n",
    "female_2016_df = df[female_filter & year_filter_dict.get(\"2015-2016\")]\n",
    "female_2016_bmi = df_get_values(female_2016_df, data_col)\n",
    "data_sets_dict[\"Female_2015-2016\"] = female_2016_bmi\n",
    "\n",
    "male_2000_df = df[male_filter & year_filter_dict.get(\"1999-2000\")]\n",
    "male_2000_bmi = df_get_values(male_2000_df, data_col)\n",
    "data_sets_dict[\"Male_1999-2000\"] = male_2000_bmi\n",
    "\n",
    "male_2016_df = df[male_filter & year_filter_dict.get(\"2015-2016\")]\n",
    "male_2016_bmi = df_get_values(male_2016_df, data_col)\n",
    "data_sets_dict[\"Male_2015-2016\"] = male_2016_bmi"
   ]
  },
  {
   "cell_type": "code",
   "execution_count": 405,
   "metadata": {},
   "outputs": [
    {
     "name": "stdout",
     "output_type": "stream",
     "text": [
      "Female_1999-2000 sample size: 4337\n",
      "Female_2015-2016 sample size: 4470\n",
      "Male_1999-2000 sample size: 4125\n",
      "Male_2015-2016 sample size: 4286\n"
     ]
    }
   ],
   "source": [
    "# Examine sample sizes\n",
    "for desc, data_set in data_sets_dict.items():\n",
    "    print(\"{} sample size: {}\".format(desc, len(data_set)))"
   ]
  },
  {
   "cell_type": "code",
   "execution_count": 406,
   "metadata": {},
   "outputs": [],
   "source": [
    "# Due to unequal sample sizes and earlier finding of unequal standard deviations\n",
    "# (imply unequal variances), will perform a Welch's t-test instead of a standard t-test"
   ]
  },
  {
   "cell_type": "code",
   "execution_count": 411,
   "metadata": {},
   "outputs": [
    {
     "name": "stdout",
     "output_type": "stream",
     "text": [
      "Female_1999-2000 Shapiro-Wilk test results (test_stat, p-value):\n",
      "(0.955034613609314, 1.3164573604443663e-34)\n",
      "\n",
      "\n",
      "Female_2015-2016 Shapiro-Wilk test results (test_stat, p-value):\n",
      "(0.9505754113197327, 2.1679802880840762e-36)\n",
      "\n",
      "\n",
      "Male_1999-2000 Shapiro-Wilk test results (test_stat, p-value):\n",
      "(0.9652901887893677, 2.0494465649524308e-30)\n",
      "\n",
      "\n",
      "Male_2015-2016 Shapiro-Wilk test results (test_stat, p-value):\n",
      "(0.9595057368278503, 5.390615789463432e-33)\n",
      "\n",
      "\n"
     ]
    }
   ],
   "source": [
    "# Welch's t-test requires normality, but BMI is right-skewed.\n",
    "# Perform a Shapiro-Wilk test to test if data are 'normal enough'\n",
    "\n",
    "for desc, data_set in data_sets_dict.items():\n",
    "    print(\"{} Shapiro-Wilk test results (test_stat, p-value):\".format(desc))\n",
    "    print(stats.shapiro(data_set))\n",
    "    print(\"\\n\")"
   ]
  },
  {
   "cell_type": "code",
   "execution_count": 412,
   "metadata": {},
   "outputs": [
    {
     "data": {
      "image/png": "[encoded data removed]",
      "text/plain": [
       "<Figure size 432x288 with 1 Axes>"
      ]
     },
     "metadata": {},
     "output_type": "display_data"
    },
    {
     "data": {
      "image/png": "[encoded data removed]",
      "text/plain": [
       "<Figure size 432x288 with 1 Axes>"
      ]
     },
     "metadata": {},
     "output_type": "display_data"
    },
    {
     "data": {
      "image/png": "[encoded data removed]",
      "text/plain": [
       "<Figure size 432x288 with 1 Axes>"
      ]
     },
     "metadata": {},
     "output_type": "display_data"
    },
    {
     "data": {
      "image/png": "[encoded data removed]",
      "text/plain": [
       "<Figure size 432x288 with 1 Axes>"
      ]
     },
     "metadata": {},
     "output_type": "display_data"
    }
   ],
   "source": [
    "# Shapiro-Wilk tests supports normality, but alpha is somewhat\n",
    "# unreliable as n approaches 5000\n",
    "# Review QQ plot as further test\n",
    "\n",
    "for desc, data_set in data_sets_dict.items():\n",
    "    stats.probplot(data_set, plot=sns.mpl.pyplot)\n",
    "    plt.show()"
   ]
  },
  {
   "cell_type": "code",
   "execution_count": 418,
   "metadata": {},
   "outputs": [
    {
     "name": "stdout",
     "output_type": "stream",
     "text": [
      "Female_1999-2000 Normal test results (test statistic, p-score):\n",
      "525.5823074830, 0.000000000000000\n",
      "\n",
      "\n",
      "Female_2015-2016 Normal test results (test statistic, p-score):\n",
      "525.6234592328, 0.000000000000000\n",
      "\n",
      "\n",
      "Male_1999-2000 Normal test results (test statistic, p-score):\n",
      "351.7685976700, 0.000000000000000\n",
      "\n",
      "\n",
      "Male_2015-2016 Normal test results (test statistic, p-score):\n",
      "389.4476481342, 0.000000000000000\n",
      "\n",
      "\n"
     ]
    }
   ],
   "source": [
    "# Run scipy normal test, which uses skew and kurtosis to \n",
    "# estimate probablility that sample comes from normal distribution\n",
    "for desc, data_set in data_sets_dict.items():\n",
    "    norm_test = stats.normaltest(data_set)\n",
    "    print(\"{} Normal test results (test statistic, p-score):\".format(desc))\n",
    "    print(\"{:.10f}, {:.15f}\".format(norm_test[0], norm_test[1]))\n",
    "    print(\"\\n\")"
   ]
  },
  {
   "cell_type": "code",
   "execution_count": 419,
   "metadata": {},
   "outputs": [
    {
     "name": "stdout",
     "output_type": "stream",
     "text": [
      "Female_1999-2000\n",
      "Skew Normal: test-statistic 20.571631662657577 (p-value: 4.927986760533137e-94)\n",
      "Kurtosis Normal: test-statistic 10.1188081422135 (p-value: 4.559336209628538e-24)\n",
      "\n",
      "\n",
      "Female_2015-2016\n",
      "Skew Normal: test-statistic 20.900167243676325 (p-value: 5.335773009138185e-97)\n",
      "Kurtosis Normal: test-statistic 9.423718396640359 (p-value: 4.353899483161003e-21)\n",
      "\n",
      "\n",
      "Male_1999-2000\n",
      "Skew Normal: test-statistic 16.81603901930796 (p-value: 1.861991521922207e-63)\n",
      "Kurtosis Normal: test-statistic 8.305987561460359 (p-value: 9.899260586767209e-17)\n",
      "\n",
      "\n",
      "Male_2015-2016\n",
      "Skew Normal: test-statistic 17.98743065009876 (p-value: 2.4443132904141806e-72)\n",
      "Kurtosis Normal: test-statistic 8.117880680451018 (p-value: 4.743948568300685e-16)\n",
      "\n",
      "\n"
     ]
    }
   ],
   "source": [
    "# Run test of kurtosis an, which uses skew and kurtosis to \n",
    "# estimate probablility that sample comes from normal distribution\n",
    "\n",
    "for desc, data_set in data_sets_dict.items():\n",
    "    skew = stats.skewtest(data_set)\n",
    "    kurtosis = stats.kurtosistest(data_set)\n",
    "    print(\"{}\".format(desc))\n",
    "    print(\"Skew Normal: test-statistic {} (p-value: {})\".format(skew[0], skew[1]))\n",
    "    print(\"Kurtosis Normal: test-statistic {} (p-value: {})\".format(kurtosis[0], kurtosis[1]))\n",
    "    print(\"\\n\")\n"
   ]
  },
  {
   "cell_type": "code",
   "execution_count": 420,
   "metadata": {},
   "outputs": [
    {
     "name": "stdout",
     "output_type": "stream",
     "text": [
      "Female_1999-2000\n",
      "Normal Test: 525.582307482982\n",
      "\n",
      "\n",
      "Female_2015-2016\n",
      "Normal Test: 525.6234592328187\n",
      "\n",
      "\n",
      "Male_1999-2000\n",
      "Normal Test: 351.768597670022\n",
      "\n",
      "\n",
      "Male_2015-2016\n",
      "Normal Test: 389.44764813415213\n",
      "\n",
      "\n"
     ]
    }
   ],
   "source": [
    "for desc, data_set in data_sets_dict.items():\n",
    "    skew = stats.skewtest(data_set)\n",
    "    kurtosis = stats.kurtosistest(data_set)\n",
    "    print(\"{}\".format(desc))\n",
    "    print(\"Normal Test: {}\".format(skew[0]**2 + kurtosis[0]**2))\n",
    "    print(\"\\n\")\n"
   ]
  },
  {
   "cell_type": "code",
   "execution_count": null,
   "metadata": {},
   "outputs": [],
   "source": []
  }
 ],
 "metadata": {
  "kernelspec": {
   "display_name": "Python 3",
   "language": "python",
   "name": "python3"
  },
  "language_info": {
   "codemirror_mode": {
    "name": "ipython",
    "version": 3
   },
   "file_extension": ".py",
   "mimetype": "text/x-python",
   "name": "python",
   "nbconvert_exporter": "python",
   "pygments_lexer": "ipython3",
   "version": "3.6.5"
  }
 },
 "nbformat": 4,
 "nbformat_minor": 2
}
