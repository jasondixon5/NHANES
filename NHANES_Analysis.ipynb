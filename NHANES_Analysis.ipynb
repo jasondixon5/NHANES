{
 "cells": [
  {
   "cell_type": "code",
   "execution_count": 1,
   "metadata": {},
   "outputs": [],
   "source": [
    "#### NOTES ####\n",
    "\n",
    "# 12/22/18 - Combined data from multiple years into one df\n",
    "# 12/22/18 - Research on how to make histograms for each gender bigger\n",
    "# 12/22/18 - Research on warning for deprecated 'normed' kwarg in sns.distplot (matplotlib)\n",
    "# 12/22/18 - Used aspect arg in FacetGrid func to increase size of histograms for gender BMI\n",
    "# 12/22/18 - Removed separate df's created for male and female, since viz args allow for\n",
    "#             segmenting on a category like gender\n"
   ]
  },
  {
   "cell_type": "code",
   "execution_count": 2,
   "metadata": {},
   "outputs": [],
   "source": [
    "import importlib\n",
    "import math\n",
    "import matplotlib.pyplot as plt\n",
    "import numpy as np\n",
    "import pandas as pd\n",
    "from scipy import stats\n",
    "import seaborn as sns\n",
    "\n",
    "\n",
    "import workbench as wp"
   ]
  },
  {
   "cell_type": "code",
   "execution_count": 3,
   "metadata": {},
   "outputs": [],
   "source": [
    "# Reload workbench module so changes are included\n",
    "_ = importlib.reload(wp)"
   ]
  },
  {
   "cell_type": "code",
   "execution_count": 4,
   "metadata": {},
   "outputs": [
    {
     "data": {
      "text/plain": [
       "(9965, 144)"
      ]
     },
     "execution_count": 4,
     "metadata": {},
     "output_type": "execute_result"
    }
   ],
   "source": [
    "# Import demographic data (e.g., gender)\n",
    "# for each participant\n",
    "filename = \"1999-2000/DEMO.XPT\"\n",
    "demo_2000 = pd.read_sas(filename)\n",
    "demo_2000.shape"
   ]
  },
  {
   "cell_type": "code",
   "execution_count": 5,
   "metadata": {},
   "outputs": [
    {
     "data": {
      "text/plain": [
       "True"
      ]
     },
     "execution_count": 5,
     "metadata": {},
     "output_type": "execute_result"
    }
   ],
   "source": [
    "# Participant identified in SEQN column\n",
    "# Confirm dataset has only one entry per participant\n",
    "demo_2000[\"SEQN\"].is_unique"
   ]
  },
  {
   "cell_type": "code",
   "execution_count": 6,
   "metadata": {},
   "outputs": [
    {
     "data": {
      "text/plain": [
       "(9282, 38)"
      ]
     },
     "execution_count": 6,
     "metadata": {},
     "output_type": "execute_result"
    }
   ],
   "source": [
    "# Import body measurement data\n",
    "filename = \"1999-2000/BMX.XPT\"\n",
    "bmx_2000 = pd.read_sas(filename)\n",
    "bmx_2000.shape"
   ]
  },
  {
   "cell_type": "code",
   "execution_count": 7,
   "metadata": {},
   "outputs": [
    {
     "data": {
      "text/plain": [
       "True"
      ]
     },
     "execution_count": 7,
     "metadata": {},
     "output_type": "execute_result"
    }
   ],
   "source": [
    "# Participant identified in SEQN column\n",
    "# Confirm dataset has only one entry per participant\n",
    "bmx_2000[\"SEQN\"].is_unique"
   ]
  },
  {
   "cell_type": "code",
   "execution_count": 8,
   "metadata": {},
   "outputs": [
    {
     "data": {
      "text/plain": [
       "(9965, 181)"
      ]
     },
     "execution_count": 8,
     "metadata": {},
     "output_type": "execute_result"
    }
   ],
   "source": [
    "# Add bmx info to demo info\n",
    "combined_2000 = demo_2000.merge(bmx_2000, how=\"left\", on=\"SEQN\")\n",
    "combined_2000.shape"
   ]
  },
  {
   "cell_type": "code",
   "execution_count": 9,
   "metadata": {},
   "outputs": [
    {
     "data": {
      "text/plain": [
       "181"
      ]
     },
     "execution_count": 9,
     "metadata": {},
     "output_type": "execute_result"
    }
   ],
   "source": [
    "# Verify new column count meets expectations\n",
    "# Should be number of cols in each dataframe minus 1 for shared col (SEQN)\n",
    "demo_2000.shape[1] + bmx_2000.shape[1] - 1"
   ]
  },
  {
   "cell_type": "code",
   "execution_count": 10,
   "metadata": {},
   "outputs": [],
   "source": [
    "# Repeat steps with data from survey year 2015-2016"
   ]
  },
  {
   "cell_type": "code",
   "execution_count": 11,
   "metadata": {},
   "outputs": [
    {
     "data": {
      "text/plain": [
       "(9544, 26)"
      ]
     },
     "execution_count": 11,
     "metadata": {},
     "output_type": "execute_result"
    }
   ],
   "source": [
    "filename = \"2015-2016/BMX_I.XPT\"\n",
    "bmx_2016 = pd.read_sas(filename)\n",
    "bmx_2016.shape"
   ]
  },
  {
   "cell_type": "code",
   "execution_count": 12,
   "metadata": {},
   "outputs": [
    {
     "data": {
      "text/plain": [
       "True"
      ]
     },
     "execution_count": 12,
     "metadata": {},
     "output_type": "execute_result"
    }
   ],
   "source": [
    "bmx_2016[\"SEQN\"].is_unique"
   ]
  },
  {
   "cell_type": "code",
   "execution_count": 13,
   "metadata": {},
   "outputs": [
    {
     "data": {
      "text/plain": [
       "(9971, 47)"
      ]
     },
     "execution_count": 13,
     "metadata": {},
     "output_type": "execute_result"
    }
   ],
   "source": [
    "filename = \"2015-2016/DEMO_I.XPT\"\n",
    "demo_2016 = pd.read_sas(filename)\n",
    "demo_2016.shape"
   ]
  },
  {
   "cell_type": "code",
   "execution_count": 14,
   "metadata": {},
   "outputs": [
    {
     "data": {
      "text/plain": [
       "True"
      ]
     },
     "execution_count": 14,
     "metadata": {},
     "output_type": "execute_result"
    }
   ],
   "source": [
    "demo_2016[\"SEQN\"].is_unique"
   ]
  },
  {
   "cell_type": "code",
   "execution_count": 15,
   "metadata": {},
   "outputs": [
    {
     "data": {
      "text/plain": [
       "(9971, 72)"
      ]
     },
     "execution_count": 15,
     "metadata": {},
     "output_type": "execute_result"
    }
   ],
   "source": [
    "combined_2016 = demo_2016.merge(bmx_2016, how=\"left\", on=\"SEQN\")\n",
    "combined_2016.shape"
   ]
  },
  {
   "cell_type": "code",
   "execution_count": 16,
   "metadata": {},
   "outputs": [],
   "source": [
    "# Combine 2000 and 2016 data sets"
   ]
  },
  {
   "cell_type": "code",
   "execution_count": 17,
   "metadata": {},
   "outputs": [],
   "source": [
    "# Add column to each data set so we can later\n",
    "# identify the year\n",
    "new_col = \"Survey Year\"\n",
    "combined_2000[new_col] = \"1999-2000\"\n",
    "combined_2016[new_col] = \"2015-2016\""
   ]
  },
  {
   "cell_type": "code",
   "execution_count": 18,
   "metadata": {},
   "outputs": [
    {
     "data": {
      "text/plain": [
       "(19936, 212)"
      ]
     },
     "execution_count": 18,
     "metadata": {},
     "output_type": "execute_result"
    }
   ],
   "source": [
    "# Combine dfs\n",
    "# Note: In Pandas 0.23, must explicitly pass a sorting \n",
    "# argument in order to avoid a warning (default = None)\n",
    "# Pass True to sort columns by name\n",
    "data = pd.concat([combined_2000, combined_2016], sort=True)\n",
    "data.shape"
   ]
  },
  {
   "cell_type": "code",
   "execution_count": 19,
   "metadata": {},
   "outputs": [
    {
     "data": {
      "text/plain": [
       "2.0    5082\n",
       "1.0    4883\n",
       "Name: RIAGENDR, dtype: int64"
      ]
     },
     "execution_count": 19,
     "metadata": {},
     "output_type": "execute_result"
    }
   ],
   "source": [
    "# Will review male and female participants separately\n",
    "# Review gender entries\n",
    "df = combined_2000\n",
    "col = \"RIAGENDR\"\n",
    "\n",
    "df[col].value_counts(dropna=False)"
   ]
  },
  {
   "cell_type": "code",
   "execution_count": 20,
   "metadata": {},
   "outputs": [],
   "source": [
    "# Create mapping of gender code to more readable value\n",
    "# Per codebook 1.0 = male and 2.0 = female\n",
    "gender_map = {1.0: \"Male\",\n",
    "             2.0: \"Female\",\n",
    "             np.nan: \"Missing\"}"
   ]
  },
  {
   "cell_type": "code",
   "execution_count": 21,
   "metadata": {},
   "outputs": [],
   "source": [
    "# Add column with gender code translation\n",
    "df = data\n",
    "\n",
    "new_col = col + \"_x\"\n",
    "df[new_col] = df[col].map(gender_map)"
   ]
  },
  {
   "cell_type": "code",
   "execution_count": 22,
   "metadata": {},
   "outputs": [
    {
     "name": "stdout",
     "output_type": "stream",
     "text": [
      "Participant Counts by Gender\n"
     ]
    },
    {
     "data": {
      "text/plain": [
       "RIAGENDR_x  Survey Year\n",
       "Female      1999-2000      5082\n",
       "            2015-2016      5079\n",
       "Male        1999-2000      4883\n",
       "            2015-2016      4892\n",
       "dtype: int64"
      ]
     },
     "execution_count": 22,
     "metadata": {},
     "output_type": "execute_result"
    }
   ],
   "source": [
    "print(\"Participant Counts by Gender\")\n",
    "df.groupby([new_col, \"Survey Year\"]).size()\n",
    "#df[new_col].value_counts(dropna=False)"
   ]
  },
  {
   "cell_type": "code",
   "execution_count": 23,
   "metadata": {},
   "outputs": [],
   "source": [
    "# Create viz's and compute summary stats of bmi measurements"
   ]
  },
  {
   "cell_type": "code",
   "execution_count": 73,
   "metadata": {},
   "outputs": [
    {
     "name": "stderr",
     "output_type": "stream",
     "text": [
      "/anaconda3/lib/python3.6/site-packages/matplotlib/axes/_axes.py:6462: UserWarning: The 'normed' kwarg is deprecated, and has been replaced by the 'density' kwarg.\n",
      "  warnings.warn(\"The 'normed' kwarg is deprecated, and has been \"\n",
      "/anaconda3/lib/python3.6/site-packages/matplotlib/axes/_axes.py:6462: UserWarning: The 'normed' kwarg is deprecated, and has been replaced by the 'density' kwarg.\n",
      "  warnings.warn(\"The 'normed' kwarg is deprecated, and has been \"\n"
     ]
    },
    {
     "data": {
      "image/png": "[encoded data removed]",
      "text/plain": [
       "<Figure size 432x432 with 2 Axes>"
      ]
     },
     "metadata": {},
     "output_type": "display_data"
    }
   ],
   "source": [
    "df = data\n",
    "cat_col = \"RIAGENDR\" + \"_x\"\n",
    "data_col = \"BMXBMI\"\n",
    "\n",
    "g = sns.FacetGrid(df, row=cat_col, aspect=2)\n",
    "g = g.map(sns.distplot, data_col, kde=False)"
   ]
  },
  {
   "cell_type": "code",
   "execution_count": 25,
   "metadata": {},
   "outputs": [
    {
     "data": {
      "text/plain": [
       "<matplotlib.axes._subplots.AxesSubplot at 0x1a2c6065c0>"
      ]
     },
     "execution_count": 25,
     "metadata": {},
     "output_type": "execute_result"
    },
    {
     "data": {
      "image/png": "[encoded data removed]",
      "text/plain": [
       "<Figure size 504x360 with 1 Axes>"
      ]
     },
     "metadata": {},
     "output_type": "display_data"
    }
   ],
   "source": [
    "plt.figure(figsize=(7, 5))\n",
    "sns.boxplot(x=cat_col, y=data_col, data=df)"
   ]
  },
  {
   "cell_type": "code",
   "execution_count": 74,
   "metadata": {},
   "outputs": [
    {
     "name": "stdout",
     "output_type": "stream",
     "text": [
      "BMI Summary Stats - All Genders\n"
     ]
    },
    {
     "data": {
      "text/html": [
       "<div>\n",
       "<style scoped>\n",
       "    .dataframe tbody tr th:only-of-type {\n",
       "        vertical-align: middle;\n",
       "    }\n",
       "\n",
       "    .dataframe tbody tr th {\n",
       "        vertical-align: top;\n",
       "    }\n",
       "\n",
       "    .dataframe thead th {\n",
       "        text-align: right;\n",
       "    }\n",
       "</style>\n",
       "<table border=\"1\" class=\"dataframe\">\n",
       "  <thead>\n",
       "    <tr style=\"text-align: right;\">\n",
       "      <th></th>\n",
       "      <th>BMXBMI</th>\n",
       "    </tr>\n",
       "  </thead>\n",
       "  <tbody>\n",
       "    <tr>\n",
       "      <th>count</th>\n",
       "      <td>17218.000000</td>\n",
       "    </tr>\n",
       "    <tr>\n",
       "      <th>mean</th>\n",
       "      <td>25.465059</td>\n",
       "    </tr>\n",
       "    <tr>\n",
       "      <th>std</th>\n",
       "      <td>7.554681</td>\n",
       "    </tr>\n",
       "    <tr>\n",
       "      <th>min</th>\n",
       "      <td>11.490000</td>\n",
       "    </tr>\n",
       "    <tr>\n",
       "      <th>25%</th>\n",
       "      <td>19.790000</td>\n",
       "    </tr>\n",
       "    <tr>\n",
       "      <th>50%</th>\n",
       "      <td>24.660000</td>\n",
       "    </tr>\n",
       "    <tr>\n",
       "      <th>75%</th>\n",
       "      <td>29.800000</td>\n",
       "    </tr>\n",
       "    <tr>\n",
       "      <th>max</th>\n",
       "      <td>67.300000</td>\n",
       "    </tr>\n",
       "  </tbody>\n",
       "</table>\n",
       "</div>"
      ],
      "text/plain": [
       "             BMXBMI\n",
       "count  17218.000000\n",
       "mean      25.465059\n",
       "std        7.554681\n",
       "min       11.490000\n",
       "25%       19.790000\n",
       "50%       24.660000\n",
       "75%       29.800000\n",
       "max       67.300000"
      ]
     },
     "execution_count": 74,
     "metadata": {},
     "output_type": "execute_result"
    }
   ],
   "source": [
    "# Compute summary stats\n",
    "# Note: Wrapped in df call for display purposes only\n",
    "\n",
    "print(\"BMI Summary Stats - All Genders\")\n",
    "pd.DataFrame(df[data_col].describe())"
   ]
  },
  {
   "cell_type": "code",
   "execution_count": 27,
   "metadata": {},
   "outputs": [
    {
     "name": "stdout",
     "output_type": "stream",
     "text": [
      "BMI Summary Stats - Male and Female Participants\n"
     ]
    },
    {
     "data": {
      "text/html": [
       "<div>\n",
       "<style scoped>\n",
       "    .dataframe tbody tr th:only-of-type {\n",
       "        vertical-align: middle;\n",
       "    }\n",
       "\n",
       "    .dataframe tbody tr th {\n",
       "        vertical-align: top;\n",
       "    }\n",
       "\n",
       "    .dataframe thead th {\n",
       "        text-align: right;\n",
       "    }\n",
       "</style>\n",
       "<table border=\"1\" class=\"dataframe\">\n",
       "  <thead>\n",
       "    <tr style=\"text-align: right;\">\n",
       "      <th>RIAGENDR_x</th>\n",
       "      <th>Female</th>\n",
       "      <th>Male</th>\n",
       "    </tr>\n",
       "  </thead>\n",
       "  <tbody>\n",
       "    <tr>\n",
       "      <th>count</th>\n",
       "      <td>8807.000000</td>\n",
       "      <td>8411.000000</td>\n",
       "    </tr>\n",
       "    <tr>\n",
       "      <th>mean</th>\n",
       "      <td>26.002057</td>\n",
       "      <td>24.902777</td>\n",
       "    </tr>\n",
       "    <tr>\n",
       "      <th>std</th>\n",
       "      <td>8.045325</td>\n",
       "      <td>6.960413</td>\n",
       "    </tr>\n",
       "    <tr>\n",
       "      <th>min</th>\n",
       "      <td>11.490000</td>\n",
       "      <td>12.150000</td>\n",
       "    </tr>\n",
       "    <tr>\n",
       "      <th>25%</th>\n",
       "      <td>20.000000</td>\n",
       "      <td>19.500000</td>\n",
       "    </tr>\n",
       "    <tr>\n",
       "      <th>50%</th>\n",
       "      <td>24.900000</td>\n",
       "      <td>24.470000</td>\n",
       "    </tr>\n",
       "    <tr>\n",
       "      <th>75%</th>\n",
       "      <td>30.755000</td>\n",
       "      <td>29.000000</td>\n",
       "    </tr>\n",
       "    <tr>\n",
       "      <th>max</th>\n",
       "      <td>67.300000</td>\n",
       "      <td>60.870000</td>\n",
       "    </tr>\n",
       "  </tbody>\n",
       "</table>\n",
       "</div>"
      ],
      "text/plain": [
       "RIAGENDR_x       Female         Male\n",
       "count       8807.000000  8411.000000\n",
       "mean          26.002057    24.902777\n",
       "std            8.045325     6.960413\n",
       "min           11.490000    12.150000\n",
       "25%           20.000000    19.500000\n",
       "50%           24.900000    24.470000\n",
       "75%           30.755000    29.000000\n",
       "max           67.300000    60.870000"
      ]
     },
     "execution_count": 27,
     "metadata": {},
     "output_type": "execute_result"
    }
   ],
   "source": [
    "# Segment summary by gender\n",
    "\n",
    "print(\"BMI Summary Stats - Male and Female Participants\")\n",
    "df.groupby(cat_col).describe()[data_col].T"
   ]
  },
  {
   "cell_type": "code",
   "execution_count": 28,
   "metadata": {},
   "outputs": [],
   "source": [
    "# Explore BMI's between 2000 and 2016 surveys"
   ]
  },
  {
   "cell_type": "code",
   "execution_count": 29,
   "metadata": {},
   "outputs": [],
   "source": [
    "# Create df's for each gender response"
   ]
  },
  {
   "cell_type": "code",
   "execution_count": 30,
   "metadata": {},
   "outputs": [],
   "source": [
    "df = data\n",
    "male_filter = (df[\"RIAGENDR\" + \"_x\"] == \"Male\")\n",
    "female_filter = (df[\"RIAGENDR\" + \"_x\"] == \"Female\")\n",
    "\n",
    "data_male = df[male_filter]\n",
    "data_female = df[female_filter]"
   ]
  },
  {
   "cell_type": "code",
   "execution_count": 31,
   "metadata": {},
   "outputs": [],
   "source": [
    "# Gender response = Male"
   ]
  },
  {
   "cell_type": "code",
   "execution_count": 32,
   "metadata": {},
   "outputs": [
    {
     "name": "stderr",
     "output_type": "stream",
     "text": [
      "/anaconda3/lib/python3.6/site-packages/matplotlib/axes/_axes.py:6462: UserWarning: The 'normed' kwarg is deprecated, and has been replaced by the 'density' kwarg.\n",
      "  warnings.warn(\"The 'normed' kwarg is deprecated, and has been \"\n",
      "/anaconda3/lib/python3.6/site-packages/matplotlib/axes/_axes.py:6462: UserWarning: The 'normed' kwarg is deprecated, and has been replaced by the 'density' kwarg.\n",
      "  warnings.warn(\"The 'normed' kwarg is deprecated, and has been \"\n"
     ]
    },
    {
     "data": {
      "image/png": "[encoded data removed]",
      "text/plain": [
       "<Figure size 432x432 with 2 Axes>"
      ]
     },
     "metadata": {},
     "output_type": "display_data"
    }
   ],
   "source": [
    "df = data_male\n",
    "cat_col = \"Survey Year\"\n",
    "data_col = \"BMXBMI\"\n",
    "\n",
    "g = sns.FacetGrid(df, row=cat_col, aspect=2)\n",
    "g = g.map(sns.distplot, data_col, kde=False)"
   ]
  },
  {
   "cell_type": "code",
   "execution_count": 33,
   "metadata": {},
   "outputs": [
    {
     "data": {
      "text/plain": [
       "<matplotlib.axes._subplots.AxesSubplot at 0x10facc3c8>"
      ]
     },
     "execution_count": 33,
     "metadata": {},
     "output_type": "execute_result"
    },
    {
     "data": {
      "image/png": "[encoded data removed]",
      "text/plain": [
       "<Figure size 504x360 with 1 Axes>"
      ]
     },
     "metadata": {},
     "output_type": "display_data"
    }
   ],
   "source": [
    "plt.figure(figsize=(7, 5))\n",
    "sns.boxplot(x=cat_col, y=data_col, data=df)"
   ]
  },
  {
   "cell_type": "code",
   "execution_count": 34,
   "metadata": {},
   "outputs": [
    {
     "name": "stdout",
     "output_type": "stream",
     "text": [
      "BMI Summary Stats - Male\n"
     ]
    },
    {
     "data": {
      "text/html": [
       "<div>\n",
       "<style scoped>\n",
       "    .dataframe tbody tr th:only-of-type {\n",
       "        vertical-align: middle;\n",
       "    }\n",
       "\n",
       "    .dataframe tbody tr th {\n",
       "        vertical-align: top;\n",
       "    }\n",
       "\n",
       "    .dataframe thead th {\n",
       "        text-align: right;\n",
       "    }\n",
       "</style>\n",
       "<table border=\"1\" class=\"dataframe\">\n",
       "  <thead>\n",
       "    <tr style=\"text-align: right;\">\n",
       "      <th>Survey Year</th>\n",
       "      <th>1999-2000</th>\n",
       "      <th>2015-2016</th>\n",
       "    </tr>\n",
       "  </thead>\n",
       "  <tbody>\n",
       "    <tr>\n",
       "      <th>count</th>\n",
       "      <td>4125.000000</td>\n",
       "      <td>4286.000000</td>\n",
       "    </tr>\n",
       "    <tr>\n",
       "      <th>mean</th>\n",
       "      <td>24.309008</td>\n",
       "      <td>25.474242</td>\n",
       "    </tr>\n",
       "    <tr>\n",
       "      <th>std</th>\n",
       "      <td>6.476153</td>\n",
       "      <td>7.352205</td>\n",
       "    </tr>\n",
       "    <tr>\n",
       "      <th>min</th>\n",
       "      <td>12.150000</td>\n",
       "      <td>12.200000</td>\n",
       "    </tr>\n",
       "    <tr>\n",
       "      <th>25%</th>\n",
       "      <td>19.360000</td>\n",
       "      <td>19.700000</td>\n",
       "    </tr>\n",
       "    <tr>\n",
       "      <th>50%</th>\n",
       "      <td>23.940000</td>\n",
       "      <td>25.000000</td>\n",
       "    </tr>\n",
       "    <tr>\n",
       "      <th>75%</th>\n",
       "      <td>28.280000</td>\n",
       "      <td>29.700000</td>\n",
       "    </tr>\n",
       "    <tr>\n",
       "      <th>max</th>\n",
       "      <td>60.870000</td>\n",
       "      <td>58.800000</td>\n",
       "    </tr>\n",
       "  </tbody>\n",
       "</table>\n",
       "</div>"
      ],
      "text/plain": [
       "Survey Year    1999-2000    2015-2016\n",
       "count        4125.000000  4286.000000\n",
       "mean           24.309008    25.474242\n",
       "std             6.476153     7.352205\n",
       "min            12.150000    12.200000\n",
       "25%            19.360000    19.700000\n",
       "50%            23.940000    25.000000\n",
       "75%            28.280000    29.700000\n",
       "max            60.870000    58.800000"
      ]
     },
     "execution_count": 34,
     "metadata": {},
     "output_type": "execute_result"
    }
   ],
   "source": [
    "# Summary stats segmented by survey year\n",
    "\n",
    "print(\"BMI Summary Stats - Male\")\n",
    "df.groupby(cat_col).describe()[data_col].T"
   ]
  },
  {
   "cell_type": "code",
   "execution_count": 35,
   "metadata": {},
   "outputs": [],
   "source": [
    "# Gender response = Female"
   ]
  },
  {
   "cell_type": "code",
   "execution_count": 36,
   "metadata": {},
   "outputs": [
    {
     "name": "stderr",
     "output_type": "stream",
     "text": [
      "/anaconda3/lib/python3.6/site-packages/matplotlib/axes/_axes.py:6462: UserWarning: The 'normed' kwarg is deprecated, and has been replaced by the 'density' kwarg.\n",
      "  warnings.warn(\"The 'normed' kwarg is deprecated, and has been \"\n",
      "/anaconda3/lib/python3.6/site-packages/matplotlib/axes/_axes.py:6462: UserWarning: The 'normed' kwarg is deprecated, and has been replaced by the 'density' kwarg.\n",
      "  warnings.warn(\"The 'normed' kwarg is deprecated, and has been \"\n"
     ]
    },
    {
     "data": {
      "image/png": "[encoded data removed]",
      "text/plain": [
       "<Figure size 432x432 with 2 Axes>"
      ]
     },
     "metadata": {},
     "output_type": "display_data"
    }
   ],
   "source": [
    "df = data_female\n",
    "cat_col = \"Survey Year\"\n",
    "data_col = \"BMXBMI\"\n",
    "\n",
    "#sns.set()\n",
    "#sns.set_context(\"talk\")\n",
    "g = sns.FacetGrid(df, row=cat_col, aspect=2)\n",
    "g = g.map(sns.distplot, data_col, kde=False)"
   ]
  },
  {
   "cell_type": "code",
   "execution_count": 37,
   "metadata": {},
   "outputs": [
    {
     "data": {
      "text/plain": [
       "<matplotlib.axes._subplots.AxesSubplot at 0x1155d5be0>"
      ]
     },
     "execution_count": 37,
     "metadata": {},
     "output_type": "execute_result"
    },
    {
     "data": {
      "image/png": "[encoded data removed]",
      "text/plain": [
       "<Figure size 504x360 with 1 Axes>"
      ]
     },
     "metadata": {},
     "output_type": "display_data"
    }
   ],
   "source": [
    "plt.figure(figsize=(7, 5))\n",
    "sns.boxplot(x=cat_col, y=data_col, data=df)"
   ]
  },
  {
   "cell_type": "code",
   "execution_count": 38,
   "metadata": {},
   "outputs": [
    {
     "name": "stdout",
     "output_type": "stream",
     "text": [
      "BMI Summary Stats - Female\n"
     ]
    },
    {
     "data": {
      "text/html": [
       "<div>\n",
       "<style scoped>\n",
       "    .dataframe tbody tr th:only-of-type {\n",
       "        vertical-align: middle;\n",
       "    }\n",
       "\n",
       "    .dataframe tbody tr th {\n",
       "        vertical-align: top;\n",
       "    }\n",
       "\n",
       "    .dataframe thead th {\n",
       "        text-align: right;\n",
       "    }\n",
       "</style>\n",
       "<table border=\"1\" class=\"dataframe\">\n",
       "  <thead>\n",
       "    <tr style=\"text-align: right;\">\n",
       "      <th>Survey Year</th>\n",
       "      <th>1999-2000</th>\n",
       "      <th>2015-2016</th>\n",
       "    </tr>\n",
       "  </thead>\n",
       "  <tbody>\n",
       "    <tr>\n",
       "      <th>count</th>\n",
       "      <td>4337.000000</td>\n",
       "      <td>4470.000000</td>\n",
       "    </tr>\n",
       "    <tr>\n",
       "      <th>mean</th>\n",
       "      <td>25.450892</td>\n",
       "      <td>26.536823</td>\n",
       "    </tr>\n",
       "    <tr>\n",
       "      <th>std</th>\n",
       "      <td>7.535545</td>\n",
       "      <td>8.477459</td>\n",
       "    </tr>\n",
       "    <tr>\n",
       "      <th>min</th>\n",
       "      <td>11.490000</td>\n",
       "      <td>11.500000</td>\n",
       "    </tr>\n",
       "    <tr>\n",
       "      <th>25%</th>\n",
       "      <td>19.960000</td>\n",
       "      <td>20.000000</td>\n",
       "    </tr>\n",
       "    <tr>\n",
       "      <th>50%</th>\n",
       "      <td>24.370000</td>\n",
       "      <td>25.400000</td>\n",
       "    </tr>\n",
       "    <tr>\n",
       "      <th>75%</th>\n",
       "      <td>29.880000</td>\n",
       "      <td>31.500000</td>\n",
       "    </tr>\n",
       "    <tr>\n",
       "      <th>max</th>\n",
       "      <td>66.440000</td>\n",
       "      <td>67.300000</td>\n",
       "    </tr>\n",
       "  </tbody>\n",
       "</table>\n",
       "</div>"
      ],
      "text/plain": [
       "Survey Year    1999-2000    2015-2016\n",
       "count        4337.000000  4470.000000\n",
       "mean           25.450892    26.536823\n",
       "std             7.535545     8.477459\n",
       "min            11.490000    11.500000\n",
       "25%            19.960000    20.000000\n",
       "50%            24.370000    25.400000\n",
       "75%            29.880000    31.500000\n",
       "max            66.440000    67.300000"
      ]
     },
     "execution_count": 38,
     "metadata": {},
     "output_type": "execute_result"
    }
   ],
   "source": [
    "# Summary stats segmented by survey year\n",
    "\n",
    "print(\"BMI Summary Stats - Female\")\n",
    "df.groupby(cat_col).describe()[data_col].T"
   ]
  },
  {
   "cell_type": "code",
   "execution_count": 40,
   "metadata": {},
   "outputs": [
    {
     "data": {
      "text/html": [
       "<div>\n",
       "<style scoped>\n",
       "    .dataframe tbody tr th:only-of-type {\n",
       "        vertical-align: middle;\n",
       "    }\n",
       "\n",
       "    .dataframe tbody tr th {\n",
       "        vertical-align: top;\n",
       "    }\n",
       "\n",
       "    .dataframe thead tr th {\n",
       "        text-align: left;\n",
       "    }\n",
       "</style>\n",
       "<table border=\"1\" class=\"dataframe\">\n",
       "  <thead>\n",
       "    <tr>\n",
       "      <th>RIAGENDR_x</th>\n",
       "      <th colspan=\"2\" halign=\"left\">Female</th>\n",
       "      <th colspan=\"2\" halign=\"left\">Male</th>\n",
       "    </tr>\n",
       "    <tr>\n",
       "      <th>Survey Year</th>\n",
       "      <th>1999-2000</th>\n",
       "      <th>2015-2016</th>\n",
       "      <th>1999-2000</th>\n",
       "      <th>2015-2016</th>\n",
       "    </tr>\n",
       "  </thead>\n",
       "  <tbody>\n",
       "    <tr>\n",
       "      <th>count</th>\n",
       "      <td>4337.000000</td>\n",
       "      <td>4470.000000</td>\n",
       "      <td>4125.000000</td>\n",
       "      <td>4286.000000</td>\n",
       "    </tr>\n",
       "    <tr>\n",
       "      <th>mean</th>\n",
       "      <td>25.450892</td>\n",
       "      <td>26.536823</td>\n",
       "      <td>24.309008</td>\n",
       "      <td>25.474242</td>\n",
       "    </tr>\n",
       "    <tr>\n",
       "      <th>std</th>\n",
       "      <td>7.535545</td>\n",
       "      <td>8.477459</td>\n",
       "      <td>6.476153</td>\n",
       "      <td>7.352205</td>\n",
       "    </tr>\n",
       "    <tr>\n",
       "      <th>min</th>\n",
       "      <td>11.490000</td>\n",
       "      <td>11.500000</td>\n",
       "      <td>12.150000</td>\n",
       "      <td>12.200000</td>\n",
       "    </tr>\n",
       "    <tr>\n",
       "      <th>25%</th>\n",
       "      <td>19.960000</td>\n",
       "      <td>20.000000</td>\n",
       "      <td>19.360000</td>\n",
       "      <td>19.700000</td>\n",
       "    </tr>\n",
       "    <tr>\n",
       "      <th>50%</th>\n",
       "      <td>24.370000</td>\n",
       "      <td>25.400000</td>\n",
       "      <td>23.940000</td>\n",
       "      <td>25.000000</td>\n",
       "    </tr>\n",
       "    <tr>\n",
       "      <th>75%</th>\n",
       "      <td>29.880000</td>\n",
       "      <td>31.500000</td>\n",
       "      <td>28.280000</td>\n",
       "      <td>29.700000</td>\n",
       "    </tr>\n",
       "    <tr>\n",
       "      <th>max</th>\n",
       "      <td>66.440000</td>\n",
       "      <td>67.300000</td>\n",
       "      <td>60.870000</td>\n",
       "      <td>58.800000</td>\n",
       "    </tr>\n",
       "  </tbody>\n",
       "</table>\n",
       "</div>"
      ],
      "text/plain": [
       "RIAGENDR_x        Female                      Male             \n",
       "Survey Year    1999-2000    2015-2016    1999-2000    2015-2016\n",
       "count        4337.000000  4470.000000  4125.000000  4286.000000\n",
       "mean           25.450892    26.536823    24.309008    25.474242\n",
       "std             7.535545     8.477459     6.476153     7.352205\n",
       "min            11.490000    11.500000    12.150000    12.200000\n",
       "25%            19.960000    20.000000    19.360000    19.700000\n",
       "50%            24.370000    25.400000    23.940000    25.000000\n",
       "75%            29.880000    31.500000    28.280000    29.700000\n",
       "max            66.440000    67.300000    60.870000    58.800000"
      ]
     },
     "execution_count": 40,
     "metadata": {},
     "output_type": "execute_result"
    }
   ],
   "source": [
    "df = data\n",
    "data_segmented_summary_stats = df.groupby([\"RIAGENDR\" + \"_x\", \"Survey Year\"]).describe()[data_col].T\n",
    "data_segmented_summary_stats"
   ]
  },
  {
   "cell_type": "code",
   "execution_count": 41,
   "metadata": {},
   "outputs": [],
   "source": [
    "# Obtain differences between each survey year for each gender"
   ]
  },
  {
   "cell_type": "code",
   "execution_count": 42,
   "metadata": {},
   "outputs": [],
   "source": [
    "calc_label = \"Diff, Y2000 to Y2016\"\n",
    "\n",
    "gen = \"Female\"\n",
    "\n",
    "data_segmented_summary_stats.loc[:, (gen, calc_label)] = \\\n",
    "    data_segmented_summary_stats.loc[:, gen].iloc[:, 1] \\\n",
    "    - data_segmented_summary_stats.loc[:, gen].iloc[:, 0]\n",
    "\n",
    "gen = \"Male\"\n",
    "\n",
    "data_segmented_summary_stats.loc[:, (gen, calc_label)] = \\\n",
    "    data_segmented_summary_stats.loc[:, gen].iloc[:, 1] \\\n",
    "    - data_segmented_summary_stats.loc[:, gen].iloc[:, 0]"
   ]
  },
  {
   "cell_type": "code",
   "execution_count": 43,
   "metadata": {},
   "outputs": [
    {
     "data": {
      "text/html": [
       "<div>\n",
       "<style scoped>\n",
       "    .dataframe tbody tr th:only-of-type {\n",
       "        vertical-align: middle;\n",
       "    }\n",
       "\n",
       "    .dataframe tbody tr th {\n",
       "        vertical-align: top;\n",
       "    }\n",
       "\n",
       "    .dataframe thead tr th {\n",
       "        text-align: left;\n",
       "    }\n",
       "</style>\n",
       "<table border=\"1\" class=\"dataframe\">\n",
       "  <thead>\n",
       "    <tr>\n",
       "      <th>RIAGENDR_x</th>\n",
       "      <th colspan=\"2\" halign=\"left\">Female</th>\n",
       "      <th colspan=\"2\" halign=\"left\">Male</th>\n",
       "      <th>Female</th>\n",
       "      <th>Male</th>\n",
       "    </tr>\n",
       "    <tr>\n",
       "      <th>Survey Year</th>\n",
       "      <th>1999-2000</th>\n",
       "      <th>2015-2016</th>\n",
       "      <th>1999-2000</th>\n",
       "      <th>2015-2016</th>\n",
       "      <th>Diff, Y2000 to Y2016</th>\n",
       "      <th>Diff, Y2000 to Y2016</th>\n",
       "    </tr>\n",
       "  </thead>\n",
       "  <tbody>\n",
       "    <tr>\n",
       "      <th>count</th>\n",
       "      <td>4337.000000</td>\n",
       "      <td>4470.000000</td>\n",
       "      <td>4125.000000</td>\n",
       "      <td>4286.000000</td>\n",
       "      <td>133.000000</td>\n",
       "      <td>161.000000</td>\n",
       "    </tr>\n",
       "    <tr>\n",
       "      <th>mean</th>\n",
       "      <td>25.450892</td>\n",
       "      <td>26.536823</td>\n",
       "      <td>24.309008</td>\n",
       "      <td>25.474242</td>\n",
       "      <td>1.085931</td>\n",
       "      <td>1.165233</td>\n",
       "    </tr>\n",
       "    <tr>\n",
       "      <th>std</th>\n",
       "      <td>7.535545</td>\n",
       "      <td>8.477459</td>\n",
       "      <td>6.476153</td>\n",
       "      <td>7.352205</td>\n",
       "      <td>0.941914</td>\n",
       "      <td>0.876052</td>\n",
       "    </tr>\n",
       "    <tr>\n",
       "      <th>min</th>\n",
       "      <td>11.490000</td>\n",
       "      <td>11.500000</td>\n",
       "      <td>12.150000</td>\n",
       "      <td>12.200000</td>\n",
       "      <td>0.010000</td>\n",
       "      <td>0.050000</td>\n",
       "    </tr>\n",
       "    <tr>\n",
       "      <th>25%</th>\n",
       "      <td>19.960000</td>\n",
       "      <td>20.000000</td>\n",
       "      <td>19.360000</td>\n",
       "      <td>19.700000</td>\n",
       "      <td>0.040000</td>\n",
       "      <td>0.340000</td>\n",
       "    </tr>\n",
       "    <tr>\n",
       "      <th>50%</th>\n",
       "      <td>24.370000</td>\n",
       "      <td>25.400000</td>\n",
       "      <td>23.940000</td>\n",
       "      <td>25.000000</td>\n",
       "      <td>1.030000</td>\n",
       "      <td>1.060000</td>\n",
       "    </tr>\n",
       "    <tr>\n",
       "      <th>75%</th>\n",
       "      <td>29.880000</td>\n",
       "      <td>31.500000</td>\n",
       "      <td>28.280000</td>\n",
       "      <td>29.700000</td>\n",
       "      <td>1.620000</td>\n",
       "      <td>1.420000</td>\n",
       "    </tr>\n",
       "    <tr>\n",
       "      <th>max</th>\n",
       "      <td>66.440000</td>\n",
       "      <td>67.300000</td>\n",
       "      <td>60.870000</td>\n",
       "      <td>58.800000</td>\n",
       "      <td>0.860000</td>\n",
       "      <td>-2.070000</td>\n",
       "    </tr>\n",
       "  </tbody>\n",
       "</table>\n",
       "</div>"
      ],
      "text/plain": [
       "RIAGENDR_x        Female                      Male               \\\n",
       "Survey Year    1999-2000    2015-2016    1999-2000    2015-2016   \n",
       "count        4337.000000  4470.000000  4125.000000  4286.000000   \n",
       "mean           25.450892    26.536823    24.309008    25.474242   \n",
       "std             7.535545     8.477459     6.476153     7.352205   \n",
       "min            11.490000    11.500000    12.150000    12.200000   \n",
       "25%            19.960000    20.000000    19.360000    19.700000   \n",
       "50%            24.370000    25.400000    23.940000    25.000000   \n",
       "75%            29.880000    31.500000    28.280000    29.700000   \n",
       "max            66.440000    67.300000    60.870000    58.800000   \n",
       "\n",
       "RIAGENDR_x                Female                 Male  \n",
       "Survey Year Diff, Y2000 to Y2016 Diff, Y2000 to Y2016  \n",
       "count                 133.000000           161.000000  \n",
       "mean                    1.085931             1.165233  \n",
       "std                     0.941914             0.876052  \n",
       "min                     0.010000             0.050000  \n",
       "25%                     0.040000             0.340000  \n",
       "50%                     1.030000             1.060000  \n",
       "75%                     1.620000             1.420000  \n",
       "max                     0.860000            -2.070000  "
      ]
     },
     "execution_count": 43,
     "metadata": {},
     "output_type": "execute_result"
    }
   ],
   "source": [
    "data_segmented_summary_stats"
   ]
  },
  {
   "cell_type": "code",
   "execution_count": 44,
   "metadata": {},
   "outputs": [],
   "source": [
    "#Example to get scalar\n",
    "#data_segmented_summary_stats.loc[\"mean\", (\"Female\", \"Diff, Y2000 to Y2016\")]"
   ]
  },
  {
   "cell_type": "code",
   "execution_count": 45,
   "metadata": {},
   "outputs": [],
   "source": [
    "# Determine if the differences between the two years is significant"
   ]
  },
  {
   "cell_type": "code",
   "execution_count": 46,
   "metadata": {},
   "outputs": [],
   "source": [
    "# Start with gender response = Female\n",
    "\n",
    "# NULL Hypothesis: The BMI of female respondents has not significantly increased between the Y2000 and Y2016 surveys\n",
    "# Alternate Hypothesis: The BMI of female respondents has significantly increased between the Y2000 and Y2016 surveys"
   ]
  },
  {
   "cell_type": "code",
   "execution_count": 54,
   "metadata": {},
   "outputs": [],
   "source": [
    "# Create helper functions"
   ]
  },
  {
   "cell_type": "code",
   "execution_count": 55,
   "metadata": {},
   "outputs": [],
   "source": [
    "def create_df_filter(df, col, filter_value):\n",
    "    \n",
    "    return (df[col] == filter_value)"
   ]
  },
  {
   "cell_type": "code",
   "execution_count": 56,
   "metadata": {},
   "outputs": [],
   "source": [
    "def df_get_values(df, data_col, dropna=True):\n",
    "    \n",
    "    if dropna is True:\n",
    "        df = df.dropna(axis=0, subset=[data_col], how='all')\n",
    "    \n",
    "    return list(df[data_col].values)"
   ]
  },
  {
   "cell_type": "code",
   "execution_count": 58,
   "metadata": {},
   "outputs": [],
   "source": [
    "# Get BMI values for each survey year and gender\n",
    "\n",
    "df = data\n",
    "data_col = \"BMXBMI\"\n",
    "cat_col = \"RIAGENDR\" + \"_x\"\n",
    "year_col = \"Survey Year\"\n",
    "\n",
    "# Create gender filters\n",
    "female_filter = create_df_filter(df, cat_col, \"Female\")\n",
    "male_filter = create_df_filter(df, cat_col, \"Male\")\n",
    "\n",
    "# Create survey year filters\n",
    "survey_year_list = [\"1999-2000\", \"2015-2016\"]\n",
    "year_filter_dict = {\n",
    "                    survey_year: create_df_filter(\n",
    "                                df, year_col, survey_year\n",
    "                                ) for survey_year in survey_year_list}\n",
    "\n",
    "\n",
    "\n",
    "# Filter overall df and then store values for each gender and survey year\n",
    "\n",
    "# Create dictionary to store data sets\n",
    "data_sets_dict = {}\n",
    "\n",
    "female_2000_df = df[female_filter & year_filter_dict.get(\"1999-2000\")]\n",
    "female_2000_bmi = df_get_values(female_2000_df, data_col)\n",
    "data_sets_dict[\"Female_1999-2000\"] = female_2000_bmi\n",
    "\n",
    "female_2016_df = df[female_filter & year_filter_dict.get(\"2015-2016\")]\n",
    "female_2016_bmi = df_get_values(female_2016_df, data_col)\n",
    "data_sets_dict[\"Female_2015-2016\"] = female_2016_bmi\n",
    "\n",
    "male_2000_df = df[male_filter & year_filter_dict.get(\"1999-2000\")]\n",
    "male_2000_bmi = df_get_values(male_2000_df, data_col)\n",
    "data_sets_dict[\"Male_1999-2000\"] = male_2000_bmi\n",
    "\n",
    "male_2016_df = df[male_filter & year_filter_dict.get(\"2015-2016\")]\n",
    "male_2016_bmi = df_get_values(male_2016_df, data_col)\n",
    "data_sets_dict[\"Male_2015-2016\"] = male_2016_bmi"
   ]
  },
  {
   "cell_type": "code",
   "execution_count": 59,
   "metadata": {},
   "outputs": [],
   "source": [
    "# Store data in variables to be able to run tests\n",
    "\n",
    "# Note: For these tests making later year first set so difference\n",
    "# between means is poz if mean is greater\n",
    "\n",
    "a = data_sets_dict[\"Female_2015-2016\"]\n",
    "b = data_sets_dict[\"Female_1999-2000\"]\n",
    "\n",
    "c = data_sets_dict[\"Male_2015-2016\"]\n",
    "d = data_sets_dict[\"Male_1999-2000\"]"
   ]
  },
  {
   "cell_type": "code",
   "execution_count": null,
   "metadata": {},
   "outputs": [],
   "source": [
    "# To compare means for 2016 and 2000 for each gender,\n",
    "# can run a t-test for two independent samples\n",
    "# Note: There is no indication in the NHANES description\n",
    "# that respondents are re-sampled across survey years\n",
    "\n",
    "# Must test assumptions to run a t-test:\n",
    "# - equal variances (will determine type of test)\n",
    "# - normality"
   ]
  },
  {
   "cell_type": "code",
   "execution_count": 63,
   "metadata": {},
   "outputs": [
    {
     "name": "stdout",
     "output_type": "stream",
     "text": [
      "Leven's test for equal variances - Female (Y2016 and 2000)\n",
      "Test statistic: 55.87909785828652 (p-value: 8.444531288133196e-14)\n",
      "\n",
      "\n",
      "Leven's test for equal variances - Male (Y2016 and 2000)\n",
      "Test statistic: 48.61077708455949 (p-value: 3.357344409786708e-12)\n"
     ]
    }
   ],
   "source": [
    "#Run Levene's test on data to test for equal variances\n",
    "\n",
    "# H0 = The variances are equal\n",
    "# H1 = The variances are not equal\n",
    "print(\"Leven's test for equal variances - Female (Y2016 and 2000)\")\n",
    "stat, p = stats.levene(a, b)\n",
    "print(\"Test statistic: {} (p-value: {})\".format(stat, p))\n",
    "print(\"\\n\")\n",
    "\n",
    "print(\"Leven's test for equal variances - Male (Y2016 and 2000)\")\n",
    "stat, p = stats.levene(c, d)\n",
    "print(\"Test statistic: {} (p-value: {})\".format(stat, p))"
   ]
  },
  {
   "cell_type": "code",
   "execution_count": 64,
   "metadata": {},
   "outputs": [],
   "source": [
    "# Reject null that variances are equal; run any test with unequal variances assumed"
   ]
  },
  {
   "cell_type": "code",
   "execution_count": 65,
   "metadata": {},
   "outputs": [],
   "source": [
    "# Due to unequal sample sizes and unequal standard deviations\n",
    "# perform a Welch's t-test instead of a standard t-test\n",
    "# This can be accomplished in scipy.stats by flagging\n",
    "# equal_var = False"
   ]
  },
  {
   "cell_type": "code",
   "execution_count": 78,
   "metadata": {},
   "outputs": [
    {
     "name": "stdout",
     "output_type": "stream",
     "text": [
      "Shapiro-Wilk normality test results: Female_1999-2000\n",
      "Test-stat: 0.955034613609314 (p-value: 1.3164573604443663e-34)\n",
      "\n",
      "\n",
      "Shapiro-Wilk normality test results: Female_2015-2016\n",
      "Test-stat: 0.9505754113197327 (p-value: 2.1679802880840762e-36)\n",
      "\n",
      "\n",
      "Shapiro-Wilk normality test results: Male_1999-2000\n",
      "Test-stat: 0.9652901887893677 (p-value: 2.0494465649524308e-30)\n",
      "\n",
      "\n",
      "Shapiro-Wilk normality test results: Male_2015-2016\n",
      "Test-stat: 0.9595057368278503 (p-value: 5.390615789463432e-33)\n",
      "\n",
      "\n"
     ]
    }
   ],
   "source": [
    "# Perform a Shapiro-Wilk test to test how close to normal dist sample data are\n",
    "\n",
    "# At alpha = .05, reject null hypothesis that data come from a normal dist\n",
    "# if p < .05\n",
    "\n",
    "for desc, data_set in data_sets_dict.items():\n",
    "    print(\"Shapiro-Wilk normality test results: {}\".format(desc))\n",
    "    shapiro_wilk = stats.shapiro(data_set)\n",
    "    print(\"Test-stat: {} (p-value: {})\".format(shapiro_wilk[0], shapiro_wilk[1]))\n",
    "    print(\"\\n\")"
   ]
  },
  {
   "cell_type": "code",
   "execution_count": 67,
   "metadata": {},
   "outputs": [
    {
     "data": {
      "image/png": "[encoded data removed]",
      "text/plain": [
       "<Figure size 432x288 with 1 Axes>"
      ]
     },
     "metadata": {},
     "output_type": "display_data"
    },
    {
     "data": {
      "image/png": "[encoded data removed]",
      "text/plain": [
       "<Figure size 432x288 with 1 Axes>"
      ]
     },
     "metadata": {},
     "output_type": "display_data"
    },
    {
     "data": {
      "image/png": "[encoded data removed]",
      "text/plain": [
       "<Figure size 432x288 with 1 Axes>"
      ]
     },
     "metadata": {},
     "output_type": "display_data"
    },
    {
     "data": {
      "image/png": "[encoded data removed]",
      "text/plain": [
       "<Figure size 432x288 with 1 Axes>"
      ]
     },
     "metadata": {},
     "output_type": "display_data"
    }
   ],
   "source": [
    "# Shapiro-Wilk tests strongly suggests rejecting normality\n",
    "# Review QQ plot as further confirmation\n",
    "\n",
    "for desc, data_set in data_sets_dict.items():\n",
    "    stats.probplot(data_set, plot=sns.mpl.pyplot)\n",
    "    plt.show()"
   ]
  },
  {
   "cell_type": "code",
   "execution_count": 68,
   "metadata": {},
   "outputs": [
    {
     "name": "stdout",
     "output_type": "stream",
     "text": [
      "Female_1999-2000\n",
      "Skew Normal: test-statistic 20.571631662657577 (p-value: 4.927986760533137e-94)\n",
      "Kurtosis Normal: test-statistic 10.1188081422135 (p-value: 4.559336209628538e-24)\n",
      "\n",
      "\n",
      "Female_2015-2016\n",
      "Skew Normal: test-statistic 20.900167243676325 (p-value: 5.335773009138185e-97)\n",
      "Kurtosis Normal: test-statistic 9.423718396640359 (p-value: 4.353899483161003e-21)\n",
      "\n",
      "\n",
      "Male_1999-2000\n",
      "Skew Normal: test-statistic 16.81603901930796 (p-value: 1.861991521922207e-63)\n",
      "Kurtosis Normal: test-statistic 8.305987561460359 (p-value: 9.899260586767209e-17)\n",
      "\n",
      "\n",
      "Male_2015-2016\n",
      "Skew Normal: test-statistic 17.98743065009876 (p-value: 2.4443132904141806e-72)\n",
      "Kurtosis Normal: test-statistic 8.117880680451018 (p-value: 4.743948568300685e-16)\n",
      "\n",
      "\n"
     ]
    }
   ],
   "source": [
    "# Run test of skew and kurtosis to estimate probability that\n",
    "# samples come from normal distribution\n",
    "\n",
    "# Each test statistic should be around 1 for a normal distribution\n",
    "\n",
    "for desc, data_set in data_sets_dict.items():\n",
    "    skew = stats.skewtest(data_set)\n",
    "    kurtosis = stats.kurtosistest(data_set)\n",
    "    print(\"{}\".format(desc))\n",
    "    print(\"Skew Normal: test-statistic {} (p-value: {})\".format(skew[0], skew[1]))\n",
    "    print(\"Kurtosis Normal: test-statistic {} (p-value: {})\".format(kurtosis[0], kurtosis[1]))\n",
    "    print(\"\\n\")\n"
   ]
  },
  {
   "cell_type": "code",
   "execution_count": 69,
   "metadata": {},
   "outputs": [],
   "source": [
    "# Transform data and review to see if that improves normality"
   ]
  },
  {
   "cell_type": "code",
   "execution_count": 80,
   "metadata": {},
   "outputs": [
    {
     "name": "stdout",
     "output_type": "stream",
     "text": [
      "Tests of normality on log-transformed data\n",
      "\n",
      "Female_1999-2000\n",
      "Shapiro-Wilk Normal: test-statistic 0.9943130612373352 (p-value: 4.8010870452863674e-12)\n",
      "Skew Normal: test-statistic 2.731171977633059 (p-value: 0.006310952982816379)\n",
      "Kurtosis Normal: test-statistic -6.481219400589095 (p-value: 9.098425158513842e-11)\n",
      "\n",
      "\n",
      "Female_2015-2016\n",
      "Shapiro-Wilk Normal: test-statistic 0.9901424050331116 (p-value: 4.1192919525760935e-17)\n",
      "Skew Normal: test-statistic 2.7590566631249844 (p-value: 0.005796848269744585)\n",
      "Kurtosis Normal: test-statistic -10.04691173156596 (p-value: 9.47915550112779e-24)\n",
      "\n",
      "\n",
      "Male_1999-2000\n",
      "Shapiro-Wilk Normal: test-statistic 0.9890381097793579 (p-value: 2.3131262105820615e-17)\n",
      "Skew Normal: test-statistic 0.35255098671671065 (p-value: 0.7244250878495166)\n",
      "Kurtosis Normal: test-statistic -8.65958021825977 (p-value: 4.735047281847304e-18)\n",
      "\n",
      "\n",
      "Male_2015-2016\n",
      "Shapiro-Wilk Normal: test-statistic 0.9856733083724976 (p-value: 1.8802912306994232e-20)\n",
      "Skew Normal: test-statistic 0.3802314233485518 (p-value: 0.7037736353593722)\n",
      "Kurtosis Normal: test-statistic -9.510379087951211 (p-value: 1.8996898391548914e-21)\n",
      "\n",
      "\n"
     ]
    }
   ],
   "source": [
    "print(\"Tests of normality on log-transformed data\\n\")\n",
    "for desc, data_set in data_sets_dict.items():\n",
    "    # transform data set\n",
    "    data_set = np.log(data_set)\n",
    "    \n",
    "    shapiro_wilk = stats.shapiro(data_set)\n",
    "    skew = stats.skewtest(data_set)\n",
    "    kurtosis = stats.kurtosistest(data_set)\n",
    "\n",
    "    print(\"{}\".format(desc))\n",
    "    print(\"Shapiro-Wilk Normal: test-statistic {} (p-value: {})\".format(shapiro_wilk[0], shapiro_wilk[1]))\n",
    "    print(\"Skew Normal: test-statistic {} (p-value: {})\".format(skew[0], skew[1]))\n",
    "    print(\"Kurtosis Normal: test-statistic {} (p-value: {})\".format(kurtosis[0], kurtosis[1]))\n",
    "    print(\"\\n\")\n"
   ]
  },
  {
   "cell_type": "code",
   "execution_count": 81,
   "metadata": {},
   "outputs": [],
   "source": [
    "# The log transform normalizes the skew of the male data\n",
    "# but does not affect other measures or the female data"
   ]
  },
  {
   "cell_type": "code",
   "execution_count": 82,
   "metadata": {},
   "outputs": [
    {
     "name": "stdout",
     "output_type": "stream",
     "text": [
      "Tests of normality on data transformed by taking the square root\n",
      "\n",
      "Female_1999-2000\n",
      "Shapiro-Wilk Normal: test-statistic 0.9830162525177002 (p-value: 2.017334429171244e-22)\n",
      "Skew Normal: test-statistic 11.962600568956198 (p-value: 5.578698467003361e-33)\n",
      "Kurtosis Normal: test-statistic 1.1236025721595246 (p-value: 0.2611816644446796)\n",
      "\n",
      "\n",
      "Female_2015-2016\n",
      "Shapiro-Wilk Normal: test-statistic 0.9791642427444458 (p-value: 4.1326270713371752e-25)\n",
      "Skew Normal: test-statistic 12.077307521056422 (p-value: 1.3920365884269773e-33)\n",
      "Kurtosis Normal: test-statistic -0.560818098576471 (p-value: 0.5749215474162591)\n",
      "\n",
      "\n",
      "Male_1999-2000\n",
      "Shapiro-Wilk Normal: test-statistic 0.9840906262397766 (p-value: 3.722967877071418e-21)\n",
      "Skew Normal: test-statistic 8.516446950504161 (p-value: 1.6452296667065877e-17)\n",
      "Kurtosis Normal: test-statistic -0.839589806398156 (p-value: 0.40113841661710636)\n",
      "\n",
      "\n",
      "Male_2015-2016\n",
      "Shapiro-Wilk Normal: test-statistic 0.9805152416229248 (p-value: 7.802956112843031e-24)\n",
      "Skew Normal: test-statistic 9.216577176801385 (p-value: 3.067352905267278e-20)\n",
      "Kurtosis Normal: test-statistic -1.0604021696954002 (p-value: 0.28896167554011876)\n",
      "\n",
      "\n"
     ]
    }
   ],
   "source": [
    "print(\"Tests of normality on data transformed by taking the square root\\n\")\n",
    "for desc, data_set in data_sets_dict.items():\n",
    "    # transform data set\n",
    "    data_set = np.sqrt(data_set)\n",
    "    \n",
    "    shapiro_wilk = stats.shapiro(data_set)\n",
    "    skew = stats.skewtest(data_set)\n",
    "    kurtosis = stats.kurtosistest(data_set)\n",
    "\n",
    "    print(\"{}\".format(desc))\n",
    "    print(\"Shapiro-Wilk Normal: test-statistic {} (p-value: {})\".format(shapiro_wilk[0], shapiro_wilk[1]))\n",
    "    print(\"Skew Normal: test-statistic {} (p-value: {})\".format(skew[0], skew[1]))\n",
    "    print(\"Kurtosis Normal: test-statistic {} (p-value: {})\".format(kurtosis[0], kurtosis[1]))\n",
    "    print(\"\\n\")"
   ]
  },
  {
   "cell_type": "code",
   "execution_count": 84,
   "metadata": {},
   "outputs": [],
   "source": [
    "# The square root transform somewhat normalizes the kurtosis of each gender\n",
    "# in each year, but does not affect th eother measures"
   ]
  },
  {
   "cell_type": "code",
   "execution_count": 62,
   "metadata": {},
   "outputs": [
    {
     "name": "stdout",
     "output_type": "stream",
     "text": [
      "Female_1999-2000 sample size: 4337\n",
      "Female_2015-2016 sample size: 4470\n",
      "Male_1999-2000 sample size: 4125\n",
      "Male_2015-2016 sample size: 4286\n"
     ]
    }
   ],
   "source": [
    "# The t-test can still be run on skewed data if the sample size is large\n",
    "# Examine sample sizes\n",
    "\n",
    "for desc, data_set in data_sets_dict.items():\n",
    "    print(\"{} sample size: {}\".format(desc, len(data_set)))"
   ]
  },
  {
   "cell_type": "code",
   "execution_count": 85,
   "metadata": {},
   "outputs": [],
   "source": [
    "# Sample size is quite large, and seems to support moving forward \n",
    "# with running t-test"
   ]
  },
  {
   "cell_type": "code",
   "execution_count": 86,
   "metadata": {},
   "outputs": [],
   "source": [
    "# Run t-test and store results for each gender\n",
    "\n",
    "t_test_ind_female = stats.ttest_ind(a, b, equal_var=False, nan_policy=\"omit\")\n",
    "t_test_ind_male = stats.ttest_ind(c, d, equal_var=False, nan_policy=\"omit\")"
   ]
  },
  {
   "cell_type": "code",
   "execution_count": 87,
   "metadata": {},
   "outputs": [
    {
     "name": "stdout",
     "output_type": "stream",
     "text": [
      "Female BMI Y2016 vs Y2000\n",
      "T-Statistic: 6.358118372718017\n",
      "P-Value: 0.0000000002\n"
     ]
    }
   ],
   "source": [
    "print(\"Female BMI Y2016 vs Y2000\\nT-Statistic: {}\\nP-Value: {}\".format(\n",
    "t_test_ind_female[0], t_test_ind_female[1]))"
   ]
  },
  {
   "cell_type": "code",
   "execution_count": 89,
   "metadata": {},
   "outputs": [
    {
     "name": "stdout",
     "output_type": "stream",
     "text": [
      "Male BMI Y2016 vs Y2000\n",
      "T-Statistic: 7.720437280316082\n",
      "P-Value: 1.2934349060308005e-14\n"
     ]
    }
   ],
   "source": [
    "print(\"Male BMI Y2016 vs Y2000\\nT-Statistic: {}\\nP-Value: {}\".format(\n",
    "t_test_ind_male[0], t_test_ind_male[1]))"
   ]
  },
  {
   "cell_type": "code",
   "execution_count": 90,
   "metadata": {},
   "outputs": [],
   "source": [
    "# Results:\n",
    "# * For both female and male respondents,\n",
    "#   the difference in mean BMI appears to be significant\n",
    "#   between the Y2000 and Y2016 surveys. This implies\n",
    "#   BMI's among the general population has (statistically) significantly \n",
    "#   increased in this interval.\n",
    "# * However, the sample size is large enough to detect small changes\n",
    "#   in the BMI and report those as significant."
   ]
  },
  {
   "cell_type": "code",
   "execution_count": null,
   "metadata": {},
   "outputs": [],
   "source": []
  }
 ],
 "metadata": {
  "kernelspec": {
   "display_name": "Python 3",
   "language": "python",
   "name": "python3"
  },
  "language_info": {
   "codemirror_mode": {
    "name": "ipython",
    "version": 3
   },
   "file_extension": ".py",
   "mimetype": "text/x-python",
   "name": "python",
   "nbconvert_exporter": "python",
   "pygments_lexer": "ipython3",
   "version": "3.6.5"
  }
 },
 "nbformat": 4,
 "nbformat_minor": 2
}
